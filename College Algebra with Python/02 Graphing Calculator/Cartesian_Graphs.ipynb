{
  "nbformat": 4,
  "nbformat_minor": 0,
  "metadata": {
    "colab": {
      "provenance": [],
      "collapsed_sections": [
        "szp5flp1fA8-",
        "iNcDJ45bGtYk",
        "i1mBd8gGFvBV",
        "MYQL57cD2ejS",
        "jIHKROStFMcR",
        "wLDO_IRrFw7z",
        "ExVB2joZF0rk",
        "3MqIpFTOF1m9",
        "NKq_qwCsF3Dj",
        "wvdngkOTF4Hi",
        "Q19Wm90DF5zf",
        "YSY2k7S3F6d7",
        "ykj42UNeF7K5",
        "QSKeBTgXHRAv",
        "0epVLhL0F88U",
        "8FCFQaq1Hizh",
        "BhKPZQJZF9w0",
        "I0mklEluF-jI",
        "eFehWNexGASC",
        "WbqugasGGCKJ",
        "hN_fvENUGBAm",
        "vteEy9QFGD5I",
        "VXxx7RCVSs4j",
        "jpo7oASHGEu7"
      ]
    },
    "kernelspec": {
      "name": "python3",
      "display_name": "Python 3"
    },
    "language_info": {
      "name": "python"
    },
    "widgets": {
      "application/vnd.jupyter.widget-state+json": {
        "2c7d9c0f467b4a42a2cb03870be9d163": {
          "model_module": "@jupyter-widgets/controls",
          "model_name": "VBoxModel",
          "model_module_version": "1.5.0",
          "state": {
            "_dom_classes": [
              "widget-interact"
            ],
            "_model_module": "@jupyter-widgets/controls",
            "_model_module_version": "1.5.0",
            "_model_name": "VBoxModel",
            "_view_count": null,
            "_view_module": "@jupyter-widgets/controls",
            "_view_module_version": "1.5.0",
            "_view_name": "VBoxView",
            "box_style": "",
            "children": [
              "IPY_MODEL_cdc09e63f77642f78ded3d05f77cbb12",
              "IPY_MODEL_6d629490800f4bb785adb2929004f6cb",
              "IPY_MODEL_de24025ef8e24b8c8f431684a32fd963"
            ],
            "layout": "IPY_MODEL_ef9a52b08b4742758882a5e926378ddc"
          }
        },
        "cdc09e63f77642f78ded3d05f77cbb12": {
          "model_module": "@jupyter-widgets/controls",
          "model_name": "IntSliderModel",
          "model_module_version": "1.5.0",
          "state": {
            "_dom_classes": [],
            "_model_module": "@jupyter-widgets/controls",
            "_model_module_version": "1.5.0",
            "_model_name": "IntSliderModel",
            "_view_count": null,
            "_view_module": "@jupyter-widgets/controls",
            "_view_module_version": "1.5.0",
            "_view_name": "IntSliderView",
            "continuous_update": true,
            "description": "m",
            "description_tooltip": null,
            "disabled": false,
            "layout": "IPY_MODEL_a042a5d02fda48939dbbdb21ab7b9ab9",
            "max": 9,
            "min": -9,
            "orientation": "horizontal",
            "readout": true,
            "readout_format": "d",
            "step": 1,
            "style": "IPY_MODEL_aa60762a9eb54628a34b86375b13faab",
            "value": -3
          }
        },
        "6d629490800f4bb785adb2929004f6cb": {
          "model_module": "@jupyter-widgets/controls",
          "model_name": "IntSliderModel",
          "model_module_version": "1.5.0",
          "state": {
            "_dom_classes": [],
            "_model_module": "@jupyter-widgets/controls",
            "_model_module_version": "1.5.0",
            "_model_name": "IntSliderModel",
            "_view_count": null,
            "_view_module": "@jupyter-widgets/controls",
            "_view_module_version": "1.5.0",
            "_view_name": "IntSliderView",
            "continuous_update": true,
            "description": "b",
            "description_tooltip": null,
            "disabled": false,
            "layout": "IPY_MODEL_00e9143413004324ac0b75f2100b8513",
            "max": 9,
            "min": -9,
            "orientation": "horizontal",
            "readout": true,
            "readout_format": "d",
            "step": 1,
            "style": "IPY_MODEL_f201df1e416349bdb1df43be881b8cee",
            "value": 4
          }
        },
        "de24025ef8e24b8c8f431684a32fd963": {
          "model_module": "@jupyter-widgets/output",
          "model_name": "OutputModel",
          "model_module_version": "1.0.0",
          "state": {
            "_dom_classes": [],
            "_model_module": "@jupyter-widgets/output",
            "_model_module_version": "1.0.0",
            "_model_name": "OutputModel",
            "_view_count": null,
            "_view_module": "@jupyter-widgets/output",
            "_view_module_version": "1.0.0",
            "_view_name": "OutputView",
            "layout": "IPY_MODEL_36f9d9a5b4014ef688c6327aacdaa99b",
            "msg_id": "",
            "outputs": [
              {
                "output_type": "display_data",
                "data": {
                  "text/plain": "<Figure size 640x480 with 1 Axes>",
                  "image/png": "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\n"
                },
                "metadata": {}
              }
            ]
          }
        },
        "ef9a52b08b4742758882a5e926378ddc": {
          "model_module": "@jupyter-widgets/base",
          "model_name": "LayoutModel",
          "model_module_version": "1.2.0",
          "state": {
            "_model_module": "@jupyter-widgets/base",
            "_model_module_version": "1.2.0",
            "_model_name": "LayoutModel",
            "_view_count": null,
            "_view_module": "@jupyter-widgets/base",
            "_view_module_version": "1.2.0",
            "_view_name": "LayoutView",
            "align_content": null,
            "align_items": null,
            "align_self": null,
            "border": null,
            "bottom": null,
            "display": null,
            "flex": null,
            "flex_flow": null,
            "grid_area": null,
            "grid_auto_columns": null,
            "grid_auto_flow": null,
            "grid_auto_rows": null,
            "grid_column": null,
            "grid_gap": null,
            "grid_row": null,
            "grid_template_areas": null,
            "grid_template_columns": null,
            "grid_template_rows": null,
            "height": null,
            "justify_content": null,
            "justify_items": null,
            "left": null,
            "margin": null,
            "max_height": null,
            "max_width": null,
            "min_height": null,
            "min_width": null,
            "object_fit": null,
            "object_position": null,
            "order": null,
            "overflow": null,
            "overflow_x": null,
            "overflow_y": null,
            "padding": null,
            "right": null,
            "top": null,
            "visibility": null,
            "width": null
          }
        },
        "a042a5d02fda48939dbbdb21ab7b9ab9": {
          "model_module": "@jupyter-widgets/base",
          "model_name": "LayoutModel",
          "model_module_version": "1.2.0",
          "state": {
            "_model_module": "@jupyter-widgets/base",
            "_model_module_version": "1.2.0",
            "_model_name": "LayoutModel",
            "_view_count": null,
            "_view_module": "@jupyter-widgets/base",
            "_view_module_version": "1.2.0",
            "_view_name": "LayoutView",
            "align_content": null,
            "align_items": null,
            "align_self": null,
            "border": null,
            "bottom": null,
            "display": null,
            "flex": null,
            "flex_flow": null,
            "grid_area": null,
            "grid_auto_columns": null,
            "grid_auto_flow": null,
            "grid_auto_rows": null,
            "grid_column": null,
            "grid_gap": null,
            "grid_row": null,
            "grid_template_areas": null,
            "grid_template_columns": null,
            "grid_template_rows": null,
            "height": null,
            "justify_content": null,
            "justify_items": null,
            "left": null,
            "margin": null,
            "max_height": null,
            "max_width": null,
            "min_height": null,
            "min_width": null,
            "object_fit": null,
            "object_position": null,
            "order": null,
            "overflow": null,
            "overflow_x": null,
            "overflow_y": null,
            "padding": null,
            "right": null,
            "top": null,
            "visibility": null,
            "width": null
          }
        },
        "aa60762a9eb54628a34b86375b13faab": {
          "model_module": "@jupyter-widgets/controls",
          "model_name": "SliderStyleModel",
          "model_module_version": "1.5.0",
          "state": {
            "_model_module": "@jupyter-widgets/controls",
            "_model_module_version": "1.5.0",
            "_model_name": "SliderStyleModel",
            "_view_count": null,
            "_view_module": "@jupyter-widgets/base",
            "_view_module_version": "1.2.0",
            "_view_name": "StyleView",
            "description_width": "",
            "handle_color": null
          }
        },
        "00e9143413004324ac0b75f2100b8513": {
          "model_module": "@jupyter-widgets/base",
          "model_name": "LayoutModel",
          "model_module_version": "1.2.0",
          "state": {
            "_model_module": "@jupyter-widgets/base",
            "_model_module_version": "1.2.0",
            "_model_name": "LayoutModel",
            "_view_count": null,
            "_view_module": "@jupyter-widgets/base",
            "_view_module_version": "1.2.0",
            "_view_name": "LayoutView",
            "align_content": null,
            "align_items": null,
            "align_self": null,
            "border": null,
            "bottom": null,
            "display": null,
            "flex": null,
            "flex_flow": null,
            "grid_area": null,
            "grid_auto_columns": null,
            "grid_auto_flow": null,
            "grid_auto_rows": null,
            "grid_column": null,
            "grid_gap": null,
            "grid_row": null,
            "grid_template_areas": null,
            "grid_template_columns": null,
            "grid_template_rows": null,
            "height": null,
            "justify_content": null,
            "justify_items": null,
            "left": null,
            "margin": null,
            "max_height": null,
            "max_width": null,
            "min_height": null,
            "min_width": null,
            "object_fit": null,
            "object_position": null,
            "order": null,
            "overflow": null,
            "overflow_x": null,
            "overflow_y": null,
            "padding": null,
            "right": null,
            "top": null,
            "visibility": null,
            "width": null
          }
        },
        "f201df1e416349bdb1df43be881b8cee": {
          "model_module": "@jupyter-widgets/controls",
          "model_name": "SliderStyleModel",
          "model_module_version": "1.5.0",
          "state": {
            "_model_module": "@jupyter-widgets/controls",
            "_model_module_version": "1.5.0",
            "_model_name": "SliderStyleModel",
            "_view_count": null,
            "_view_module": "@jupyter-widgets/base",
            "_view_module_version": "1.2.0",
            "_view_name": "StyleView",
            "description_width": "",
            "handle_color": null
          }
        },
        "36f9d9a5b4014ef688c6327aacdaa99b": {
          "model_module": "@jupyter-widgets/base",
          "model_name": "LayoutModel",
          "model_module_version": "1.2.0",
          "state": {
            "_model_module": "@jupyter-widgets/base",
            "_model_module_version": "1.2.0",
            "_model_name": "LayoutModel",
            "_view_count": null,
            "_view_module": "@jupyter-widgets/base",
            "_view_module_version": "1.2.0",
            "_view_name": "LayoutView",
            "align_content": null,
            "align_items": null,
            "align_self": null,
            "border": null,
            "bottom": null,
            "display": null,
            "flex": null,
            "flex_flow": null,
            "grid_area": null,
            "grid_auto_columns": null,
            "grid_auto_flow": null,
            "grid_auto_rows": null,
            "grid_column": null,
            "grid_gap": null,
            "grid_row": null,
            "grid_template_areas": null,
            "grid_template_columns": null,
            "grid_template_rows": null,
            "height": null,
            "justify_content": null,
            "justify_items": null,
            "left": null,
            "margin": null,
            "max_height": null,
            "max_width": null,
            "min_height": null,
            "min_width": null,
            "object_fit": null,
            "object_position": null,
            "order": null,
            "overflow": null,
            "overflow_x": null,
            "overflow_y": null,
            "padding": null,
            "right": null,
            "top": null,
            "visibility": null,
            "width": null
          }
        },
        "e2d0fa3afad54a84a1ce5c43e768e55f": {
          "model_module": "@jupyter-widgets/controls",
          "model_name": "VBoxModel",
          "model_module_version": "1.5.0",
          "state": {
            "_dom_classes": [
              "widget-interact"
            ],
            "_model_module": "@jupyter-widgets/controls",
            "_model_module_version": "1.5.0",
            "_model_name": "VBoxModel",
            "_view_count": null,
            "_view_module": "@jupyter-widgets/controls",
            "_view_module_version": "1.5.0",
            "_view_name": "VBoxView",
            "box_style": "",
            "children": [
              "IPY_MODEL_8982978975274146851e904d9c00797f",
              "IPY_MODEL_335573aafdc049ecbede19424c6ea2f4",
              "IPY_MODEL_e5144a69f7804d24a2a9f56be49161b1",
              "IPY_MODEL_619ec26136d14bd9a8ca3eb1036806e1"
            ],
            "layout": "IPY_MODEL_63c2ef06490e4a53bda47e716a1d98d8"
          }
        },
        "8982978975274146851e904d9c00797f": {
          "model_module": "@jupyter-widgets/controls",
          "model_name": "IntSliderModel",
          "model_module_version": "1.5.0",
          "state": {
            "_dom_classes": [],
            "_model_module": "@jupyter-widgets/controls",
            "_model_module_version": "1.5.0",
            "_model_name": "IntSliderModel",
            "_view_count": null,
            "_view_module": "@jupyter-widgets/controls",
            "_view_module_version": "1.5.0",
            "_view_name": "IntSliderView",
            "continuous_update": true,
            "description": "a",
            "description_tooltip": null,
            "disabled": false,
            "layout": "IPY_MODEL_094a3e7fafaa4c06a0b3826aed7a83bf",
            "max": 9,
            "min": -9,
            "orientation": "horizontal",
            "readout": true,
            "readout_format": "d",
            "step": 1,
            "style": "IPY_MODEL_bbc442e2a26a4d1cbfb161fb96ad84cd",
            "value": 2
          }
        },
        "335573aafdc049ecbede19424c6ea2f4": {
          "model_module": "@jupyter-widgets/controls",
          "model_name": "IntSliderModel",
          "model_module_version": "1.5.0",
          "state": {
            "_dom_classes": [],
            "_model_module": "@jupyter-widgets/controls",
            "_model_module_version": "1.5.0",
            "_model_name": "IntSliderModel",
            "_view_count": null,
            "_view_module": "@jupyter-widgets/controls",
            "_view_module_version": "1.5.0",
            "_view_name": "IntSliderView",
            "continuous_update": true,
            "description": "b",
            "description_tooltip": null,
            "disabled": false,
            "layout": "IPY_MODEL_b5de8cb413754f069327d1b03486b8c6",
            "max": 9,
            "min": -9,
            "orientation": "horizontal",
            "readout": true,
            "readout_format": "d",
            "step": 1,
            "style": "IPY_MODEL_4d9287463a68450e8885498917732775",
            "value": 0
          }
        },
        "e5144a69f7804d24a2a9f56be49161b1": {
          "model_module": "@jupyter-widgets/controls",
          "model_name": "IntSliderModel",
          "model_module_version": "1.5.0",
          "state": {
            "_dom_classes": [],
            "_model_module": "@jupyter-widgets/controls",
            "_model_module_version": "1.5.0",
            "_model_name": "IntSliderModel",
            "_view_count": null,
            "_view_module": "@jupyter-widgets/controls",
            "_view_module_version": "1.5.0",
            "_view_name": "IntSliderView",
            "continuous_update": true,
            "description": "c",
            "description_tooltip": null,
            "disabled": false,
            "layout": "IPY_MODEL_3ccba6a11c8b44bb8bceda8dd6342dea",
            "max": 9,
            "min": -9,
            "orientation": "horizontal",
            "readout": true,
            "readout_format": "d",
            "step": 1,
            "style": "IPY_MODEL_11e69ea829914d54828c6069f63f66d5",
            "value": 4
          }
        },
        "619ec26136d14bd9a8ca3eb1036806e1": {
          "model_module": "@jupyter-widgets/output",
          "model_name": "OutputModel",
          "model_module_version": "1.0.0",
          "state": {
            "_dom_classes": [],
            "_model_module": "@jupyter-widgets/output",
            "_model_module_version": "1.0.0",
            "_model_name": "OutputModel",
            "_view_count": null,
            "_view_module": "@jupyter-widgets/output",
            "_view_module_version": "1.0.0",
            "_view_name": "OutputView",
            "layout": "IPY_MODEL_ebaf22fa7b514c5f97488fcdd4e7f3a1",
            "msg_id": "",
            "outputs": [
              {
                "output_type": "display_data",
                "data": {
                  "text/plain": "<Figure size 640x480 with 1 Axes>",
                  "image/png": "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\n"
                },
                "metadata": {}
              }
            ]
          }
        },
        "63c2ef06490e4a53bda47e716a1d98d8": {
          "model_module": "@jupyter-widgets/base",
          "model_name": "LayoutModel",
          "model_module_version": "1.2.0",
          "state": {
            "_model_module": "@jupyter-widgets/base",
            "_model_module_version": "1.2.0",
            "_model_name": "LayoutModel",
            "_view_count": null,
            "_view_module": "@jupyter-widgets/base",
            "_view_module_version": "1.2.0",
            "_view_name": "LayoutView",
            "align_content": null,
            "align_items": null,
            "align_self": null,
            "border": null,
            "bottom": null,
            "display": null,
            "flex": null,
            "flex_flow": null,
            "grid_area": null,
            "grid_auto_columns": null,
            "grid_auto_flow": null,
            "grid_auto_rows": null,
            "grid_column": null,
            "grid_gap": null,
            "grid_row": null,
            "grid_template_areas": null,
            "grid_template_columns": null,
            "grid_template_rows": null,
            "height": null,
            "justify_content": null,
            "justify_items": null,
            "left": null,
            "margin": null,
            "max_height": null,
            "max_width": null,
            "min_height": null,
            "min_width": null,
            "object_fit": null,
            "object_position": null,
            "order": null,
            "overflow": null,
            "overflow_x": null,
            "overflow_y": null,
            "padding": null,
            "right": null,
            "top": null,
            "visibility": null,
            "width": null
          }
        },
        "094a3e7fafaa4c06a0b3826aed7a83bf": {
          "model_module": "@jupyter-widgets/base",
          "model_name": "LayoutModel",
          "model_module_version": "1.2.0",
          "state": {
            "_model_module": "@jupyter-widgets/base",
            "_model_module_version": "1.2.0",
            "_model_name": "LayoutModel",
            "_view_count": null,
            "_view_module": "@jupyter-widgets/base",
            "_view_module_version": "1.2.0",
            "_view_name": "LayoutView",
            "align_content": null,
            "align_items": null,
            "align_self": null,
            "border": null,
            "bottom": null,
            "display": null,
            "flex": null,
            "flex_flow": null,
            "grid_area": null,
            "grid_auto_columns": null,
            "grid_auto_flow": null,
            "grid_auto_rows": null,
            "grid_column": null,
            "grid_gap": null,
            "grid_row": null,
            "grid_template_areas": null,
            "grid_template_columns": null,
            "grid_template_rows": null,
            "height": null,
            "justify_content": null,
            "justify_items": null,
            "left": null,
            "margin": null,
            "max_height": null,
            "max_width": null,
            "min_height": null,
            "min_width": null,
            "object_fit": null,
            "object_position": null,
            "order": null,
            "overflow": null,
            "overflow_x": null,
            "overflow_y": null,
            "padding": null,
            "right": null,
            "top": null,
            "visibility": null,
            "width": null
          }
        },
        "bbc442e2a26a4d1cbfb161fb96ad84cd": {
          "model_module": "@jupyter-widgets/controls",
          "model_name": "SliderStyleModel",
          "model_module_version": "1.5.0",
          "state": {
            "_model_module": "@jupyter-widgets/controls",
            "_model_module_version": "1.5.0",
            "_model_name": "SliderStyleModel",
            "_view_count": null,
            "_view_module": "@jupyter-widgets/base",
            "_view_module_version": "1.2.0",
            "_view_name": "StyleView",
            "description_width": "",
            "handle_color": null
          }
        },
        "b5de8cb413754f069327d1b03486b8c6": {
          "model_module": "@jupyter-widgets/base",
          "model_name": "LayoutModel",
          "model_module_version": "1.2.0",
          "state": {
            "_model_module": "@jupyter-widgets/base",
            "_model_module_version": "1.2.0",
            "_model_name": "LayoutModel",
            "_view_count": null,
            "_view_module": "@jupyter-widgets/base",
            "_view_module_version": "1.2.0",
            "_view_name": "LayoutView",
            "align_content": null,
            "align_items": null,
            "align_self": null,
            "border": null,
            "bottom": null,
            "display": null,
            "flex": null,
            "flex_flow": null,
            "grid_area": null,
            "grid_auto_columns": null,
            "grid_auto_flow": null,
            "grid_auto_rows": null,
            "grid_column": null,
            "grid_gap": null,
            "grid_row": null,
            "grid_template_areas": null,
            "grid_template_columns": null,
            "grid_template_rows": null,
            "height": null,
            "justify_content": null,
            "justify_items": null,
            "left": null,
            "margin": null,
            "max_height": null,
            "max_width": null,
            "min_height": null,
            "min_width": null,
            "object_fit": null,
            "object_position": null,
            "order": null,
            "overflow": null,
            "overflow_x": null,
            "overflow_y": null,
            "padding": null,
            "right": null,
            "top": null,
            "visibility": null,
            "width": null
          }
        },
        "4d9287463a68450e8885498917732775": {
          "model_module": "@jupyter-widgets/controls",
          "model_name": "SliderStyleModel",
          "model_module_version": "1.5.0",
          "state": {
            "_model_module": "@jupyter-widgets/controls",
            "_model_module_version": "1.5.0",
            "_model_name": "SliderStyleModel",
            "_view_count": null,
            "_view_module": "@jupyter-widgets/base",
            "_view_module_version": "1.2.0",
            "_view_name": "StyleView",
            "description_width": "",
            "handle_color": null
          }
        },
        "3ccba6a11c8b44bb8bceda8dd6342dea": {
          "model_module": "@jupyter-widgets/base",
          "model_name": "LayoutModel",
          "model_module_version": "1.2.0",
          "state": {
            "_model_module": "@jupyter-widgets/base",
            "_model_module_version": "1.2.0",
            "_model_name": "LayoutModel",
            "_view_count": null,
            "_view_module": "@jupyter-widgets/base",
            "_view_module_version": "1.2.0",
            "_view_name": "LayoutView",
            "align_content": null,
            "align_items": null,
            "align_self": null,
            "border": null,
            "bottom": null,
            "display": null,
            "flex": null,
            "flex_flow": null,
            "grid_area": null,
            "grid_auto_columns": null,
            "grid_auto_flow": null,
            "grid_auto_rows": null,
            "grid_column": null,
            "grid_gap": null,
            "grid_row": null,
            "grid_template_areas": null,
            "grid_template_columns": null,
            "grid_template_rows": null,
            "height": null,
            "justify_content": null,
            "justify_items": null,
            "left": null,
            "margin": null,
            "max_height": null,
            "max_width": null,
            "min_height": null,
            "min_width": null,
            "object_fit": null,
            "object_position": null,
            "order": null,
            "overflow": null,
            "overflow_x": null,
            "overflow_y": null,
            "padding": null,
            "right": null,
            "top": null,
            "visibility": null,
            "width": null
          }
        },
        "11e69ea829914d54828c6069f63f66d5": {
          "model_module": "@jupyter-widgets/controls",
          "model_name": "SliderStyleModel",
          "model_module_version": "1.5.0",
          "state": {
            "_model_module": "@jupyter-widgets/controls",
            "_model_module_version": "1.5.0",
            "_model_name": "SliderStyleModel",
            "_view_count": null,
            "_view_module": "@jupyter-widgets/base",
            "_view_module_version": "1.2.0",
            "_view_name": "StyleView",
            "description_width": "",
            "handle_color": null
          }
        },
        "ebaf22fa7b514c5f97488fcdd4e7f3a1": {
          "model_module": "@jupyter-widgets/base",
          "model_name": "LayoutModel",
          "model_module_version": "1.2.0",
          "state": {
            "_model_module": "@jupyter-widgets/base",
            "_model_module_version": "1.2.0",
            "_model_name": "LayoutModel",
            "_view_count": null,
            "_view_module": "@jupyter-widgets/base",
            "_view_module_version": "1.2.0",
            "_view_name": "LayoutView",
            "align_content": null,
            "align_items": null,
            "align_self": null,
            "border": null,
            "bottom": null,
            "display": null,
            "flex": null,
            "flex_flow": null,
            "grid_area": null,
            "grid_auto_columns": null,
            "grid_auto_flow": null,
            "grid_auto_rows": null,
            "grid_column": null,
            "grid_gap": null,
            "grid_row": null,
            "grid_template_areas": null,
            "grid_template_columns": null,
            "grid_template_rows": null,
            "height": null,
            "justify_content": null,
            "justify_items": null,
            "left": null,
            "margin": null,
            "max_height": null,
            "max_width": null,
            "min_height": null,
            "min_width": null,
            "object_fit": null,
            "object_position": null,
            "order": null,
            "overflow": null,
            "overflow_x": null,
            "overflow_y": null,
            "padding": null,
            "right": null,
            "top": null,
            "visibility": null,
            "width": null
          }
        }
      }
    }
  },
  "cells": [
    {
      "cell_type": "markdown",
      "metadata": {
        "id": "EsfO5Q92tL-6"
      },
      "source": [
        "[![freeCodeCamp](https://cdn.freecodecamp.org/testable-projects-fcc/images/fcc_secondary.svg)](https://freecodecamp.org/)"
      ]
    },
    {
      "cell_type": "markdown",
      "metadata": {
        "id": "7ECUmRBSGOb4"
      },
      "source": [
        "**Learn Foundational Math 2 by Building Cartesian Graphs**<br>\n",
        "Each of these steps will lead you toward the Certification Project. Once you complete a step, click to expand the next step."
      ]
    },
    {
      "cell_type": "markdown",
      "metadata": {
        "id": "szp5flp1fA8-"
      },
      "source": [
        "# &darr; **Do this first** &darr;\n",
        "Copy this notebook to your own account by clicking the `File` button at the top, and then click `Save a copy in Drive`. You will need to be logged in to Google. The file will be in a folder called \"Colab Notebooks\" in your Google Drive."
      ]
    },
    {
      "cell_type": "markdown",
      "source": [
        "# Step 0 - Acquire the testing library"
      ],
      "metadata": {
        "id": "iNcDJ45bGtYk"
      }
    },
    {
      "cell_type": "markdown",
      "source": [
        "Please run this code to get the library file from FreeCodeCamp. Each step will use this library to test your code. You do not need to edit anything; just run this code cell and wait a few seconds until it tells you to go on to the next step."
      ],
      "metadata": {
        "id": "2_U7sdv4zaww"
      }
    },
    {
      "cell_type": "code",
      "source": [
        "# You may need to run this cell at the beginning of each new session\n",
        "\n",
        "!pip install requests\n",
        "\n",
        "# This will just take a few seconds\n",
        "\n",
        "import requests\n",
        "\n",
        "# Get the library from GitHub\n",
        "url = 'https://raw.githubusercontent.com/edatfreecodecamp/python-math/main/math-code-test-b.py'\n",
        "r = requests.get(url)\n",
        "\n",
        "# Save the library in a local working directory\n",
        "with open('math_code_test_b.py', 'w') as f:\n",
        "    f.write(r.text)\n",
        "\n",
        "# Now you can import the library\n",
        "import math_code_test_b as test\n",
        "\n",
        "# This will tell you if the code works\n",
        "test.step01()"
      ],
      "metadata": {
        "id": "aDuDRHETG3Oy",
        "colab": {
          "base_uri": "https://localhost:8080/"
        },
        "outputId": "516bfd97-c7d5-4dfd-926a-bf4d77f7ca52"
      },
      "execution_count": null,
      "outputs": [
        {
          "output_type": "stream",
          "name": "stdout",
          "text": [
            "Requirement already satisfied: requests in /usr/local/lib/python3.11/dist-packages (2.32.3)\n",
            "Requirement already satisfied: charset-normalizer<4,>=2 in /usr/local/lib/python3.11/dist-packages (from requests) (3.4.1)\n",
            "Requirement already satisfied: idna<4,>=2.5 in /usr/local/lib/python3.11/dist-packages (from requests) (3.10)\n",
            "Requirement already satisfied: urllib3<3,>=1.21.1 in /usr/local/lib/python3.11/dist-packages (from requests) (2.3.0)\n",
            "Requirement already satisfied: certifi>=2017.4.17 in /usr/local/lib/python3.11/dist-packages (from requests) (2024.12.14)\n",
            "Code test Passed\n",
            "Go on to the next step\n"
          ]
        }
      ]
    },
    {
      "cell_type": "markdown",
      "metadata": {
        "id": "ZWDxpIPUFfda"
      },
      "source": [
        "# Step 1 - Cartesian Coordinates"
      ]
    },
    {
      "cell_type": "markdown",
      "metadata": {
        "id": "eTWzFpChFltm"
      },
      "source": [
        "Learn Cartesian coordinates by building a scatterplot game. The Cartesian plane is the classic x-y coordinate grid (invented by Ren$\\acute{e}$ DesCartes) where \"<i>x</i>\" is the horizontal axis and \"<i>y</i>\" is the vertical axis. Each (x,y) coordinate pair is a point on the graph. The point (0,0) is the \"origin.\" The x value tells how much to move right (positive) or left (negative) from the origin. The y value tells you how much you move up (positive) or down (negative) from the origin. Notice that you are importing `matplotlib` to create the graph. The following code just displays one quadrant of the Cartesian graph. Just run this code to see how Python displays a graph.\n"
      ]
    },
    {
      "cell_type": "code",
      "metadata": {
        "id": "OGdjnZw0Fmf7",
        "colab": {
          "base_uri": "https://localhost:8080/",
          "height": 470
        },
        "outputId": "167adee9-388d-4f0a-dc3f-4cd301d4ffb8"
      },
      "source": [
        "import matplotlib.pyplot as plt\n",
        "\n",
        "fig, ax = plt.subplots()\n",
        "plt.show()\n",
        "\n",
        "# Just run this code to see a blank graph\n",
        "import math_code_test_b as test\n",
        "test.step01()"
      ],
      "execution_count": null,
      "outputs": [
        {
          "output_type": "display_data",
          "data": {
            "text/plain": [
              "<Figure size 640x480 with 1 Axes>"
            ],
            "image/png": "[encoded data removed]"
          },
          "metadata": {}
        },
        {
          "output_type": "stream",
          "name": "stdout",
          "text": [
            "Code test Passed\n",
            "Go on to the next step\n"
          ]
        }
      ]
    },
    {
      "cell_type": "markdown",
      "metadata": {
        "id": "i1mBd8gGFvBV"
      },
      "source": [
        "# Step 2 - Cartesian Coordinates (Part 2)"
      ]
    },
    {
      "cell_type": "markdown",
      "metadata": {
        "id": "aylg20IGFvBW"
      },
      "source": [
        "Here you will create a standard window but still not highlight each axis. Run this code once, then change the window size to 20 in each direction and run it again."
      ]
    },
    {
      "cell_type": "code",
      "metadata": {
        "id": "EKfFo4_EFvBX",
        "colab": {
          "base_uri": "https://localhost:8080/",
          "height": 487
        },
        "outputId": "377a9ce0-e8b7-4ca1-b088-3abc2a3e4b8d"
      },
      "source": [
        "import matplotlib.pyplot as plt\n",
        "\n",
        "fig, ax = plt.subplots()\n",
        "\n",
        "# Only change the numbers in the next line:\n",
        "plt.axis([-20,20,-20,20])\n",
        "\n",
        "plt.show()\n",
        "\n",
        "\n",
        "# Only change code above this line\n",
        "import math_code_test_b as test\n",
        "test.step02(In[-1].split('# Only change code above this line')[0])"
      ],
      "execution_count": null,
      "outputs": [
        {
          "output_type": "display_data",
          "data": {
            "text/plain": [
              "<Figure size 640x480 with 1 Axes>"
            ],
            "image/png": "[encoded data removed]"
          },
          "metadata": {}
        },
        {
          "output_type": "stream",
          "name": "stdout",
          "text": [
            " \n",
            "Code test passed\n",
            "Go on to the next step\n"
          ]
        }
      ]
    },
    {
      "cell_type": "markdown",
      "source": [
        "# Step 3 - Graph Dimensions"
      ],
      "metadata": {
        "id": "MYQL57cD2ejS"
      }
    },
    {
      "cell_type": "markdown",
      "source": [
        "When you look at this code, you can see how Python sets up window dimensions. You will also notice that it is easier and more organized to define the dimensions as variables. Run the code, then change just the `xmax` value to 20 and run it again to see the difference."
      ],
      "metadata": {
        "id": "b2k229tOz9YQ"
      }
    },
    {
      "cell_type": "code",
      "source": [
        "import matplotlib.pyplot as plt\n",
        "\n",
        "xmin = -10\n",
        "xmax = 20\n",
        "ymin = -10\n",
        "ymax = 10\n",
        "\n",
        "fig, ax = plt.subplots()\n",
        "plt.axis([xmin,xmax,ymin,ymax]) # window size\n",
        "plt.show()\n",
        "\n",
        "# Only change code above this line\n",
        "import math_code_test_b as test\n",
        "test.step03(In[-1].split('# Only change code above this line')[0])"
      ],
      "metadata": {
        "id": "uXvHo-5a2Zi_",
        "colab": {
          "base_uri": "https://localhost:8080/",
          "height": 487
        },
        "outputId": "8740c57c-8282-4c49-c3b0-299f4e363a6d"
      },
      "execution_count": null,
      "outputs": [
        {
          "output_type": "display_data",
          "data": {
            "text/plain": [
              "<Figure size 640x480 with 1 Axes>"
            ],
            "image/png": "[encoded data removed]"
          },
          "metadata": {}
        },
        {
          "output_type": "stream",
          "name": "stdout",
          "text": [
            " \n",
            "Code test passed\n",
            "Go on to the next step\n"
          ]
        }
      ]
    },
    {
      "cell_type": "markdown",
      "source": [
        "# Step 4 - Displaying Axis Lines"
      ],
      "metadata": {
        "id": "jIHKROStFMcR"
      }
    },
    {
      "cell_type": "markdown",
      "source": [
        "Notice the code to `plot` a line for the x axis and a line for the y axis. The `'b'` makes the line blue. Run the code, then change each 'b' to 'g' to make the lines green."
      ],
      "metadata": {
        "id": "NhrHvY1YEndp"
      }
    },
    {
      "cell_type": "code",
      "source": [
        "import matplotlib.pyplot as plt\n",
        "\n",
        "xmin = -10\n",
        "xmax = 10\n",
        "ymin = -10\n",
        "ymax = 10\n",
        "\n",
        "fig, ax = plt.subplots()\n",
        "plt.axis([xmin,xmax,ymin,ymax]) # window size\n",
        "plt.plot([xmin,xmax],[0,0],'g') # blue x axis\n",
        "plt.plot([0,0],[ymin,ymax], 'g') # blue y axis\n",
        "\n",
        "plt.show()\n",
        "\n",
        "# Only change code above this line\n",
        "import math_code_test_b as test\n",
        "test.step04(In[-1].split('# Only change code above this line')[0])"
      ],
      "metadata": {
        "id": "mgWhRLtwFGOd",
        "colab": {
          "base_uri": "https://localhost:8080/",
          "height": 487
        },
        "outputId": "b3033818-2dec-4ac8-fa6b-22f2300fc3a4"
      },
      "execution_count": null,
      "outputs": [
        {
          "output_type": "display_data",
          "data": {
            "text/plain": [
              "<Figure size 640x480 with 1 Axes>"
            ],
            "image/png": "[encoded data removed]"
          },
          "metadata": {}
        },
        {
          "output_type": "stream",
          "name": "stdout",
          "text": [
            " \n",
            "Code test passed\n",
            "Go on to the next step\n"
          ]
        }
      ]
    },
    {
      "cell_type": "markdown",
      "metadata": {
        "id": "wLDO_IRrFw7z"
      },
      "source": [
        "# Step 5 - Plotting a Point"
      ]
    },
    {
      "cell_type": "markdown",
      "metadata": {
        "id": "iOZ8TJISFw71"
      },
      "source": [
        "Now you will plot a point on the graph. Notice the `'ro'` makes the point a red dot. Run the code, then change the location of the point to (-5,1) and run it again. Keep the window size the same. Notice the difference between plotting a point and plotting a line."
      ]
    },
    {
      "cell_type": "code",
      "metadata": {
        "id": "N09NlV3DFw71",
        "colab": {
          "base_uri": "https://localhost:8080/",
          "height": 487
        },
        "outputId": "152b5b91-c93d-4709-dc16-892482a7a4e9"
      },
      "source": [
        "import matplotlib.pyplot as plt\n",
        "\n",
        "xmin = -10\n",
        "xmax = 10\n",
        "ymin = -10\n",
        "ymax = 10\n",
        "\n",
        "fig, ax = plt.subplots()\n",
        "plt.axis([xmin,xmax,ymin,ymax]) # window size\n",
        "plt.plot([xmin,xmax],[0,0],'b') # blue x axis\n",
        "plt.plot([0,0],[ymin,ymax], 'b') # blue y axis\n",
        "\n",
        "# Change only the numbers in the following line:\n",
        "plt.plot([-5],[1], 'ro')\n",
        "\n",
        "plt.show()\n",
        "\n",
        "\n",
        "# Only change code above this line\n",
        "import math_code_test_b as test\n",
        "test.step05(In[-1].split('# Only change code above this line')[0])"
      ],
      "execution_count": null,
      "outputs": [
        {
          "output_type": "display_data",
          "data": {
            "text/plain": [
              "<Figure size 640x480 with 1 Axes>"
            ],
            "image/png": "[encoded data removed]"
          },
          "metadata": {}
        },
        {
          "output_type": "stream",
          "name": "stdout",
          "text": [
            " \n",
            "Code test passed\n",
            "Go on to the next step\n"
          ]
        }
      ]
    },
    {
      "cell_type": "markdown",
      "metadata": {
        "id": "ExVB2joZF0rk"
      },
      "source": [
        "# Step 6 - Plotting Several Points"
      ]
    },
    {
      "cell_type": "markdown",
      "metadata": {
        "id": "G48kO0jcF0rl"
      },
      "source": [
        "You have actually been using arrays to plot each singular point so far. In this step, you will see an array of x values and an array of y values defined before the plot statement. Notice that these two short arrays create one point: (4,2). Add two numbers to each array so that it also plots points (1,1) and (2,5)."
      ]
    },
    {
      "cell_type": "code",
      "metadata": {
        "id": "YkRIMNimF0rm",
        "colab": {
          "base_uri": "https://localhost:8080/",
          "height": 487
        },
        "outputId": "0affa3f5-506f-4523-d616-204118511953"
      },
      "source": [
        "import matplotlib.pyplot as plt\n",
        "\n",
        "# only change the next two lines:\n",
        "x = [4, 1, 2]\n",
        "y = [2, 1, 5]\n",
        "\n",
        "# Only change code above this line\n",
        "\n",
        "xmin = -10\n",
        "xmax = 10\n",
        "ymin = -10\n",
        "ymax = 10\n",
        "\n",
        "fig, ax = plt.subplots()\n",
        "plt.axis([xmin,xmax,ymin,ymax]) # window size\n",
        "plt.plot([xmin,xmax],[0,0],'b') # blue x axis\n",
        "plt.plot([0,0],[ymin,ymax],'b') # blue y axis\n",
        "\n",
        "plt.plot(x, y, 'ro') # red points\n",
        "plt.show()\n",
        "\n",
        "\n",
        "# Only change code above this line\n",
        "import math_code_test_b as test\n",
        "test.step06(In[-1].split('# Only change code above this line')[0])"
      ],
      "execution_count": null,
      "outputs": [
        {
          "output_type": "display_data",
          "data": {
            "text/plain": [
              "<Figure size 640x480 with 1 Axes>"
            ],
            "image/png": "[encoded data removed]"
          },
          "metadata": {}
        },
        {
          "output_type": "stream",
          "name": "stdout",
          "text": [
            " \n",
            "Code test passed\n",
            "Go on to the next step\n"
          ]
        }
      ]
    },
    {
      "cell_type": "markdown",
      "metadata": {
        "id": "3MqIpFTOF1m9"
      },
      "source": [
        "# Step 7 - Plotting Points and Lines"
      ]
    },
    {
      "cell_type": "markdown",
      "metadata": {
        "id": "1O1_p4BqF1m-"
      },
      "source": [
        "Notice the subtle difference between plotting points and lines. Each `plot()` statement takes an array of x values, an array of y values, and a third argument to tell what you are plotting. The default plot is a line. The letters `'r'` and `'b'` (and `'g'` and a few others) indicate common colors. The \"o\" in `'ro'` indicates a dot, where `'rs'` would indicate a red square and `'r^'` would indicate a red triangle. Plot a red line and two green squares."
      ]
    },
    {
      "cell_type": "code",
      "metadata": {
        "id": "oMRcOD7hF1m-",
        "colab": {
          "base_uri": "https://localhost:8080/",
          "height": 487
        },
        "outputId": "3c10199a-22df-44e8-e3e2-f7c896669f93"
      },
      "source": [
        "import matplotlib.pyplot as plt\n",
        "\n",
        "# Use these numbers:\n",
        "linex = [2,4]\n",
        "liney = [1,5]\n",
        "pointx = [1,6]\n",
        "pointy = [6,3]\n",
        "\n",
        "# Keep these lines:\n",
        "xmin = -10\n",
        "xmax = 10\n",
        "ymin = -10\n",
        "ymax = 10\n",
        "\n",
        "fig, ax = plt.subplots()\n",
        "plt.axis([xmin,xmax,ymin,ymax]) # window size\n",
        "plt.plot([xmin,xmax],[0,0],'b') # blue x axis\n",
        "plt.plot([0,0],[ymin,ymax], 'b') # blue y axis\n",
        "\n",
        "# Change the next two lines:\n",
        "plt.plot(linex, liney, 'r')\n",
        "plt.plot(pointx, pointy, 'gs')\n",
        "\n",
        "plt.show()\n",
        "\n",
        "\n",
        "# Only change code above this line\n",
        "import math_code_test_b as test\n",
        "test.step07(In[-1].split('# Only change code above this line')[0])"
      ],
      "execution_count": null,
      "outputs": [
        {
          "output_type": "display_data",
          "data": {
            "text/plain": [
              "<Figure size 640x480 with 1 Axes>"
            ],
            "image/png": "[encoded data removed]"
          },
          "metadata": {}
        },
        {
          "output_type": "stream",
          "name": "stdout",
          "text": [
            " \n",
            "Code test passed\n",
            "Go on to the next step\n"
          ]
        }
      ]
    },
    {
      "cell_type": "markdown",
      "metadata": {
        "id": "NKq_qwCsF3Dj"
      },
      "source": [
        "# Step 8 - Making a Scatterplot Game"
      ]
    },
    {
      "cell_type": "markdown",
      "metadata": {
        "id": "sBh-rNyOF3Dk"
      },
      "source": [
        "To make the game, you can make a loop that plots a random point and asks the user to input the (x,y) coordinates. Notice the `for` loop that runs three rounds of the game. Run the code, play the game, then you can go on to the next step."
      ]
    },
    {
      "cell_type": "code",
      "metadata": {
        "id": "uR5TFWbLF3Dk",
        "colab": {
          "base_uri": "https://localhost:8080/",
          "height": 1000
        },
        "outputId": "ee417686-06e5-4a61-e029-3c39f92abce5"
      },
      "source": [
        "import matplotlib.pyplot as plt\n",
        "import random\n",
        "\n",
        "score = 0\n",
        "\n",
        "xmin = -8\n",
        "xmax = 8\n",
        "ymin = -8\n",
        "ymax = 8\n",
        "\n",
        "fig, ax = plt.subplots()\n",
        "\n",
        "for i in range(0,3):\n",
        "    xpoint = random.randint(xmin, xmax)\n",
        "    ypoint = random.randint(ymin, ymax)\n",
        "    x = [xpoint]\n",
        "    y = [ypoint]\n",
        "    plt.axis([xmin,xmax,ymin,ymax]) # window size\n",
        "    plt.plot([xmin,xmax],[0,0],'b') # blue x axis\n",
        "    plt.plot([0,0],[ymin,ymax], 'b') # blue y axis\n",
        "    plt.plot(x, y, 'ro')\n",
        "    print(\" \")\n",
        "    plt.grid() # displays grid lines on graph\n",
        "    plt.show()\n",
        "    guess = input(\"Enter the coordinates of the red point point: \\n\")\n",
        "    guess_array = guess.split(\",\")\n",
        "    xguess = int(guess_array[0])\n",
        "    yguess = int(guess_array[1])\n",
        "    if xguess == xpoint and yguess == ypoint:\n",
        "        score = score + 1\n",
        "\n",
        "print(\"Your score: \", score) # notice this is not in the loop\n",
        "\n",
        "\n",
        "# Only change code above this line\n",
        "import math_code_test_b as test\n",
        "test.step08(score)"
      ],
      "execution_count": null,
      "outputs": [
        {
          "output_type": "stream",
          "name": "stdout",
          "text": [
            " \n"
          ]
        },
        {
          "output_type": "display_data",
          "data": {
            "text/plain": [
              "<Figure size 640x480 with 1 Axes>"
            ],
            "image/png": "[encoded data removed]"
          },
          "metadata": {}
        },
        {
          "output_type": "stream",
          "name": "stdout",
          "text": [
            "Enter the coordinates of the red point point: \n",
            "-3,-5\n",
            " \n"
          ]
        },
        {
          "output_type": "display_data",
          "data": {
            "text/plain": [
              "<Figure size 640x480 with 1 Axes>"
            ],
            "image/png": "[encoded data removed]"
          },
          "metadata": {}
        },
        {
          "output_type": "stream",
          "name": "stdout",
          "text": [
            "Enter the coordinates of the red point point: \n",
            "5,5\n",
            " \n"
          ]
        },
        {
          "output_type": "display_data",
          "data": {
            "text/plain": [
              "<Figure size 640x480 with 1 Axes>"
            ],
            "image/png": "[encoded data removed]"
          },
          "metadata": {}
        },
        {
          "output_type": "stream",
          "name": "stdout",
          "text": [
            "Enter the coordinates of the red point point: \n",
            "-3,4\n",
            "Your score:  3\n",
            "You scored 3 out of 3. Good job!\n",
            "You can go on to the next step\n"
          ]
        }
      ]
    },
    {
      "cell_type": "markdown",
      "metadata": {
        "id": "wvdngkOTF4Hi"
      },
      "source": [
        "# Step 9 - Graphing Linear Equations"
      ]
    },
    {
      "cell_type": "markdown",
      "metadata": {
        "id": "fTzBZAmtF4Hj"
      },
      "source": [
        "Besides graphing points, you can graph <i>linear equations</i> (or <i>functions</i>). The graph will be a straight line, and the equation will not have any exponents. For these graphs, you will import `numpy` and use the `linspace()` function to define the x values. That function takes three arguments: starting number, ending number, and number of steps. Notice the `plot()` function only has two arguments: the x values and a function (y = 2x - 3) for the y values. Run this code, then use the same x values to graph `y = -x + 3`."
      ]
    },
    {
      "cell_type": "code",
      "metadata": {
        "id": "xJ0pkcFsF4Hj",
        "colab": {
          "base_uri": "https://localhost:8080/",
          "height": 487
        },
        "outputId": "fc92c766-851c-4fc3-d13b-da15d120f0f4"
      },
      "source": [
        "import matplotlib.pyplot as plt\n",
        "import numpy as np\n",
        "\n",
        "xmin = -10\n",
        "xmax = 10\n",
        "ymin = -10\n",
        "ymax = 10\n",
        "\n",
        "fig, ax = plt.subplots()\n",
        "plt.axis([xmin,xmax,ymin,ymax]) # window size\n",
        "plt.plot([xmin,xmax],[0,0],'b') # blue x axis\n",
        "plt.plot([0,0],[ymin,ymax], 'b') # blue y axis\n",
        "\n",
        "x = np.linspace(-9,9,36)\n",
        "\n",
        "# Only change the next line to graph y = -x + 3\n",
        "plt.plot(x, -x + 3)\n",
        "\n",
        "\n",
        "\n",
        "plt.show()\n",
        "\n",
        "\n",
        "# Only change code above this line\n",
        "import math_code_test_b as test\n",
        "test.step09(In[-1].split('# Only change code above this line')[0])"
      ],
      "execution_count": null,
      "outputs": [
        {
          "output_type": "display_data",
          "data": {
            "text/plain": [
              "<Figure size 640x480 with 1 Axes>"
            ],
            "image/png": "[encoded data removed]"
          },
          "metadata": {}
        },
        {
          "output_type": "stream",
          "name": "stdout",
          "text": [
            " \n",
            "Code test passed\n",
            "Go on to the next step\n"
          ]
        }
      ]
    },
    {
      "cell_type": "markdown",
      "metadata": {
        "id": "Q19Wm90DF5zf"
      },
      "source": [
        "# Step 10 - Creating Interactive Graphs"
      ]
    },
    {
      "cell_type": "markdown",
      "metadata": {
        "id": "JNEjD9DxF5zh"
      },
      "source": [
        "Like the previous graphs, you will graph a line. This time, you will create two sliders to change the <i>slope</i> and the <i>y intecept</i>. Notice the additional imports and other changes: You define a function with two arguments. All of the graphing happens within that `f(m,b)` function. The `interactive()` function calls your defined function and sets the boundaries for the sliders. Run this code then adjust the sliders and notice how they affect the graph."
      ]
    },
    {
      "cell_type": "code",
      "metadata": {
        "id": "9lh41CENF5zh",
        "colab": {
          "base_uri": "https://localhost:8080/",
          "height": 551,
          "referenced_widgets": [
            "2c7d9c0f467b4a42a2cb03870be9d163",
            "cdc09e63f77642f78ded3d05f77cbb12",
            "6d629490800f4bb785adb2929004f6cb",
            "de24025ef8e24b8c8f431684a32fd963",
            "ef9a52b08b4742758882a5e926378ddc",
            "a042a5d02fda48939dbbdb21ab7b9ab9",
            "aa60762a9eb54628a34b86375b13faab",
            "00e9143413004324ac0b75f2100b8513",
            "f201df1e416349bdb1df43be881b8cee",
            "36f9d9a5b4014ef688c6327aacdaa99b"
          ]
        },
        "outputId": "604e4a36-ef76-49ae-8fc2-13a84fd691e6"
      },
      "source": [
        "%matplotlib inline\n",
        "from ipywidgets import interactive\n",
        "import matplotlib.pyplot as plt\n",
        "import numpy as np\n",
        "\n",
        "# Define the graphing function\n",
        "def f(m, b):\n",
        "    xmin = -10\n",
        "    xmax = 10\n",
        "    ymin = -10\n",
        "    ymax = 10\n",
        "    plt.axis([xmin,xmax,ymin,ymax]) # window size\n",
        "    plt.plot([xmin,xmax],[0,0],'black') # black x axis\n",
        "    plt.plot([0,0],[ymin,ymax], 'black') # black y axis\n",
        "    plt.title('y = mx + b')\n",
        "    x = np.linspace(-10, 10, 1000)\n",
        "    plt.plot(x, m*x+b)\n",
        "    plt.show()\n",
        "\n",
        "# Set up the sliders\n",
        "interactive_plot = interactive(f, m=(-9, 9), b=(-9, 9))\n",
        "interactive_plot\n",
        "\n",
        "\n",
        "# Just run this code and use the sliders\n",
        "import math_code_test_b as test\n",
        "test.step01()\n",
        "interactive_plot"
      ],
      "execution_count": null,
      "outputs": [
        {
          "output_type": "stream",
          "name": "stdout",
          "text": [
            "Code test Passed\n",
            "Go on to the next step\n"
          ]
        },
        {
          "output_type": "display_data",
          "data": {
            "text/plain": [
              "interactive(children=(IntSlider(value=0, description='m', max=9, min=-9), IntSlider(value=0, description='b', …"
            ],
            "application/vnd.jupyter.widget-view+json": {
              "version_major": 2,
              "version_minor": 0,
              "model_id": "2c7d9c0f467b4a42a2cb03870be9d163"
            }
          },
          "metadata": {}
        }
      ]
    },
    {
      "cell_type": "markdown",
      "metadata": {
        "id": "YSY2k7S3F6d7"
      },
      "source": [
        "# Step 11 - Graphing Systems"
      ]
    },
    {
      "cell_type": "markdown",
      "metadata": {
        "id": "8MG28-VPF6d8"
      },
      "source": [
        "When you graph two equations on the same coordinate plane, they are a <i>system of equations</i>. Notice how the `points` variable defines the number of points and the `linspace()` function uses that variable. Run this code to see the graph, then change `y2` so that it graphs y = -x - 3."
      ]
    },
    {
      "cell_type": "code",
      "metadata": {
        "id": "wYHGm-PAF6d9",
        "colab": {
          "base_uri": "https://localhost:8080/",
          "height": 487
        },
        "outputId": "4f04d1d2-36f8-4b5e-bc8c-a895ff68af86"
      },
      "source": [
        "import matplotlib.pyplot as plt\n",
        "import numpy as np\n",
        "\n",
        "\n",
        "xmin = -10\n",
        "xmax = 10\n",
        "ymin = -10\n",
        "ymax = 10\n",
        "points = 2*(xmax-xmin)\n",
        "\n",
        "# Define the x values once\n",
        "x = np.linspace(xmin,xmax,points)\n",
        "\n",
        "fig, ax = plt.subplots()\n",
        "plt.axis([xmin,xmax,ymin,ymax]) # window size\n",
        "plt.plot([xmin,xmax],[0,0],'b') # blue x axis\n",
        "plt.plot([0,0],[ymin,ymax], 'b') # blue y axis\n",
        "\n",
        "# line 1\n",
        "y1 = 2*x\n",
        "plt.plot(x, y1)\n",
        "\n",
        "# line 2\n",
        "y2 = -x-3\n",
        "plt.plot(x, y2)\n",
        "\n",
        "plt.show()\n",
        "\n",
        "\n",
        "# Only change code above this line\n",
        "import math_code_test_b as test\n",
        "test.step11(In[-1].split('# Only change code above this line')[0])"
      ],
      "execution_count": null,
      "outputs": [
        {
          "output_type": "display_data",
          "data": {
            "text/plain": [
              "<Figure size 640x480 with 1 Axes>"
            ],
            "image/png": "[encoded data removed]"
          },
          "metadata": {}
        },
        {
          "output_type": "stream",
          "name": "stdout",
          "text": [
            " \n",
            "Code test passed\n",
            "Go on to the next step\n"
          ]
        }
      ]
    },
    {
      "cell_type": "markdown",
      "metadata": {
        "id": "ykj42UNeF7K5"
      },
      "source": [
        "# Step 12 - Systems of Equations - Algebra"
      ]
    },
    {
      "cell_type": "markdown",
      "metadata": {
        "id": "n_-rpo6nF7K7"
      },
      "source": [
        "In a system of equations, the solution is the point where the two equations intersect, the (x,y) values that work in each equation. To work with algabraic expressions, you will import `sympy` and define x and y as symbols. If you have two equations and two variables, set each equation equal to zero. The `linsolve()` function takes the non-zero side of each equation and the variables used. Notice the syntax. Run the code, then change the two equations to solve 2x + y - 15 = 0 and 3x - y = 0."
      ]
    },
    {
      "cell_type": "code",
      "metadata": {
        "id": "6dFzZfqRF7K7",
        "colab": {
          "base_uri": "https://localhost:8080/"
        },
        "outputId": "368c2aa1-065b-4c83-9b52-78c75bc539d4"
      },
      "source": [
        "from sympy import *\n",
        "x,y = symbols('x y')\n",
        "\n",
        "\n",
        "# Change the equations in the following line:\n",
        "print(linsolve([2*x + y - 15, 3*x - y], (x, y)))\n",
        "\n",
        "\n",
        "# Only change code above this line\n",
        "import math_code_test_b as test\n",
        "test.step12(In[-1].split('# Only change code above this line')[0])"
      ],
      "execution_count": null,
      "outputs": [
        {
          "output_type": "stream",
          "name": "stdout",
          "text": [
            "{(3, 9)}\n",
            " \n",
            "Code test passed\n",
            "Go on to the next step\n"
          ]
        }
      ]
    },
    {
      "cell_type": "markdown",
      "source": [
        "# Step 13 - Solutions as Coordinates"
      ],
      "metadata": {
        "id": "QSKeBTgXHRAv"
      }
    },
    {
      "cell_type": "markdown",
      "source": [
        "The `linsolve()` function returns a <i>finite set</i>, and you can convert that \"finite set\" into (x,y) coordinates. Notice how the code parses the `solution` variable into two separate variables. Just run the code to see how this works."
      ],
      "metadata": {
        "id": "D2Ca3L-fHCzi"
      }
    },
    {
      "cell_type": "code",
      "source": [
        "from sympy import *\n",
        "x,y = symbols('x y')\n",
        "\n",
        "# Use variables for each equation\n",
        "first = x + y\n",
        "second = x - y\n",
        "\n",
        "# parse finite set answer as coordinate pair\n",
        "solution = linsolve([first, second], (x, y))\n",
        "x_solution = solution.args[0][0]\n",
        "y_solution = solution.args[0][1]\n",
        "\n",
        "print(\"x = \", x_solution)\n",
        "print(\"y = \", y_solution)\n",
        "print(\" \")\n",
        "print(\"Solution: (\",x_solution,\",\",y_solution,\")\")\n",
        "\n",
        "\n",
        "# Just run this code\n",
        "import math_code_test_b as test\n",
        "test.step01()"
      ],
      "metadata": {
        "id": "7uhBD85SHK3S",
        "colab": {
          "base_uri": "https://localhost:8080/"
        },
        "outputId": "60a16d56-c7f2-4271-d9b0-c4ede41773db"
      },
      "execution_count": null,
      "outputs": [
        {
          "output_type": "stream",
          "name": "stdout",
          "text": [
            "x =  0\n",
            "y =  0\n",
            " \n",
            "Solution: ( 0 , 0 )\n",
            "Code test Passed\n",
            "Go on to the next step\n"
          ]
        }
      ]
    },
    {
      "cell_type": "markdown",
      "metadata": {
        "id": "0epVLhL0F88U"
      },
      "source": [
        "# Step 14 - Systems from User Input"
      ]
    },
    {
      "cell_type": "markdown",
      "metadata": {
        "id": "VhoI5uNrF88V"
      },
      "source": [
        "For more flexibility, you can get each equation as user input (instead of defining them in the code). Run this code and try it out - to solve any system of two equations."
      ]
    },
    {
      "cell_type": "code",
      "metadata": {
        "id": "8irtXhucF88W",
        "colab": {
          "base_uri": "https://localhost:8080/"
        },
        "outputId": "5ac0b88d-6bb9-4eb2-f316-1e282666b3cc"
      },
      "source": [
        "from sympy import *\n",
        "\n",
        "x,y = symbols('x y')\n",
        "print(\"Remember to use Python syntax with x and y as variables\")\n",
        "print(\"Notice how each equation is already set equal to zero\")\n",
        "first = input(\"Enter the first equation: 0 = \")\n",
        "second = input(\"Enter the second equation: 0 = \")\n",
        "solution = linsolve([first, second], (x, y))\n",
        "x_solution = solution.args[0][0]\n",
        "y_solution = solution.args[0][1]\n",
        "\n",
        "print(\"x = \", x_solution)\n",
        "print(\"y = \", y_solution)\n",
        "\n",
        "\n",
        "# Just run this code and test it with different equations\n",
        "import math_code_test_b as test\n",
        "test.step14()"
      ],
      "execution_count": null,
      "outputs": [
        {
          "output_type": "stream",
          "name": "stdout",
          "text": [
            "Remember to use Python syntax with x and y as variables\n",
            "Notice how each equation is already set equal to zero\n",
            "Enter the first equation: 0 = 3*x + y +2\n",
            "Enter the second equation: 0 = 2*x - 2*y - 7\n",
            "x =  3/8\n",
            "y =  -25/8\n",
            " \n",
            "If you didn't get a syntax error, code test passed\n"
          ]
        }
      ]
    },
    {
      "cell_type": "markdown",
      "source": [
        "# Step 15 - Solve and graph a system"
      ],
      "metadata": {
        "id": "8FCFQaq1Hizh"
      }
    },
    {
      "cell_type": "markdown",
      "source": [
        "Now you can put it all together: solve a system of equations, graph the system, and plot a point where the two lines intersect. Notice how this code is not like the previous solving equations code or the graphing code or the user input code. Python uses `sympy` to get the (x,y) solution and `numpy` to get the values to graph, so the user inputs nummerical values and the code uses them in two different ways. Think about how you would do this if the user input values for ax + by = c."
      ],
      "metadata": {
        "id": "wMwKLQvyHaWp"
      }
    },
    {
      "cell_type": "code",
      "source": [
        "from sympy import *\n",
        "import matplotlib.pyplot as plt\n",
        "import numpy as np\n",
        "\n",
        "print(\"First equation: y = mx + b\")\n",
        "mb_1 = input(\"Enter m and b, separated by a comma: \")\n",
        "mb_in1 = mb_1.split(\",\")\n",
        "m1 = float(mb_in1[0])\n",
        "b1 = float(mb_in1[1])\n",
        "\n",
        "print(\"Second equation: y = mx + b\")\n",
        "mb_2 = input(\"Enter m and b, separated by a comma: \")\n",
        "mb_in2 = mb_2.split(\",\")\n",
        "m2 = float(mb_in2[0])\n",
        "b2 = float(mb_in2[1])\n",
        "\n",
        "# Solve the system of equations\n",
        "x,y = symbols('x y')\n",
        "first = m1*x + b1 - y\n",
        "second = m2*x + b2 - y\n",
        "solution = linsolve([first, second], (x, y))\n",
        "x_solution = round(float(solution.args[0][0]),3)\n",
        "y_solution = round(float(solution.args[0][1]),3)\n",
        "\n",
        "# Make sure the window includes the solution\n",
        "xmin = int(x_solution) - 20\n",
        "xmax = int(x_solution) + 20\n",
        "ymin = int(y_solution) - 20\n",
        "ymax = int(y_solution) + 20\n",
        "points = 2*(xmax-xmin)\n",
        "\n",
        "# Define the x values once for the graph\n",
        "graph_x = np.linspace(xmin,xmax,points)\n",
        "\n",
        "# Define the y values for the graph\n",
        "y1 = m1*graph_x + b1\n",
        "y2 = m2*graph_x + b2\n",
        "\n",
        "fig, ax = plt.subplots()\n",
        "plt.axis([xmin,xmax,ymin,ymax]) # window size\n",
        "plt.plot([xmin,xmax],[0,0],'b') # blue x axis\n",
        "plt.plot([0,0],[ymin,ymax], 'b') # blue y axis\n",
        "\n",
        "# line 1\n",
        "plt.plot(graph_x, y1)\n",
        "\n",
        "# line 2\n",
        "plt.plot(graph_x, y2)\n",
        "\n",
        "# point\n",
        "plt.plot([x_solution],[y_solution],'ro')\n",
        "\n",
        "plt.show()\n",
        "print(\" \")\n",
        "print(\"Solution: (\", x_solution, \",\", y_solution, \")\")\n",
        "\n",
        "\n",
        "# Run this code and test it with different equations\n"
      ],
      "metadata": {
        "id": "wLBNm5j6HffY",
        "colab": {
          "base_uri": "https://localhost:8080/",
          "height": 539
        },
        "outputId": "5e8d00ac-9d70-4df8-ddfc-8e09779b9283"
      },
      "execution_count": null,
      "outputs": [
        {
          "name": "stdout",
          "output_type": "stream",
          "text": [
            "First equation: y = mx + b\n",
            "Enter m and b, separated by a comma: 2,6\n",
            "Second equation: y = mx + b\n",
            "Enter m and b, separated by a comma: 5,7\n"
          ]
        },
        {
          "output_type": "display_data",
          "data": {
            "text/plain": [
              "<Figure size 640x480 with 1 Axes>"
            ],
            "image/png": "[encoded data removed]"
          },
          "metadata": {}
        },
        {
          "output_type": "stream",
          "name": "stdout",
          "text": [
            " \n",
            "Solution: ( -0.333 , 5.333 )\n"
          ]
        }
      ]
    },
    {
      "cell_type": "markdown",
      "metadata": {
        "id": "BhKPZQJZF9w0"
      },
      "source": [
        "# Step 16 - Quadratic Functions"
      ]
    },
    {
      "cell_type": "markdown",
      "metadata": {
        "id": "BYmD2FYHF9w1"
      },
      "source": [
        "Any function that involves x<sup>2</sup> is a \"quadratic\" function because \"x squared\" could be the area of a square. The graph is a parabola. The formula is y = ax<sup>2</sup> + bx + c, where `b` and `c` can be zero but `a` has to be a number. Here is a graph of the simplest parabola."
      ]
    },
    {
      "cell_type": "code",
      "metadata": {
        "id": "sfQl_A1CF9w1",
        "colab": {
          "base_uri": "https://localhost:8080/",
          "height": 470
        },
        "outputId": "5ce96422-94ed-4b81-dd53-502b2731c51d"
      },
      "source": [
        "import matplotlib.pyplot as plt\n",
        "import numpy as np\n",
        "\n",
        "xmin = -10\n",
        "xmax = 10\n",
        "ymin = -10\n",
        "ymax = 10\n",
        "points = 2*(xmax-xmin)\n",
        "x = np.linspace(xmin,xmax,points)\n",
        "\n",
        "fig, ax = plt.subplots()\n",
        "plt.axis([xmin,xmax,ymin,ymax]) # window size\n",
        "plt.plot([xmin,xmax],[0,0],'b') # blue x axis\n",
        "plt.plot([0,0],[ymin,ymax], 'b') # blue y axis\n",
        "\n",
        "y = x**2\n",
        "\n",
        "plt.plot(x,y)\n",
        "plt.show()\n",
        "\n",
        "# Just run this code. The next step will transform the graph\n",
        "import math_code_test_b as test\n",
        "test.step01()"
      ],
      "execution_count": null,
      "outputs": [
        {
          "output_type": "display_data",
          "data": {
            "text/plain": [
              "<Figure size 640x480 with 1 Axes>"
            ],
            "image/png": "[encoded data removed]"
          },
          "metadata": {}
        },
        {
          "output_type": "stream",
          "name": "stdout",
          "text": [
            "Code test Passed\n",
            "Go on to the next step\n"
          ]
        }
      ]
    },
    {
      "cell_type": "markdown",
      "metadata": {
        "id": "I0mklEluF-jI"
      },
      "source": [
        "# Step 17 - Quadratic Function ABC's"
      ]
    },
    {
      "cell_type": "markdown",
      "metadata": {
        "id": "AJuHf8ySF-jJ"
      },
      "source": [
        "Using the parabola formula y = ax<sup>2</sup> + bx + c, you will change the values of `a`, `b`, and `c` to see how they affect the graph. Run the code and use the sliders to change the values of `a` and `b`. Then change the code in the three places indicated to add a slider for `c`. You may remember this type of interactive graph from an earlier step. Move each slider to see how it affects the graph."
      ]
    },
    {
      "cell_type": "code",
      "metadata": {
        "id": "9IVFnXxVF-jJ",
        "colab": {
          "base_uri": "https://localhost:8080/",
          "height": 583,
          "referenced_widgets": [
            "e2d0fa3afad54a84a1ce5c43e768e55f",
            "8982978975274146851e904d9c00797f",
            "335573aafdc049ecbede19424c6ea2f4",
            "e5144a69f7804d24a2a9f56be49161b1",
            "619ec26136d14bd9a8ca3eb1036806e1",
            "63c2ef06490e4a53bda47e716a1d98d8",
            "094a3e7fafaa4c06a0b3826aed7a83bf",
            "bbc442e2a26a4d1cbfb161fb96ad84cd",
            "b5de8cb413754f069327d1b03486b8c6",
            "4d9287463a68450e8885498917732775",
            "3ccba6a11c8b44bb8bceda8dd6342dea",
            "11e69ea829914d54828c6069f63f66d5",
            "ebaf22fa7b514c5f97488fcdd4e7f3a1"
          ]
        },
        "outputId": "c7ebaf2e-7cd0-4e22-8ab1-804f21af2df8"
      },
      "source": [
        "%matplotlib inline\n",
        "from ipywidgets import interactive\n",
        "import matplotlib.pyplot as plt\n",
        "import numpy as np\n",
        "\n",
        "# Change the next line to include c:\n",
        "def f(a,b,c):\n",
        "    plt.axis([-10,10,-10,10]) # window size\n",
        "    plt.plot([-10,10],[0,0],'k') # blue x axis\n",
        "    plt.plot([0,0],[-10,10], 'k') # blue y axis\n",
        "    x = np.linspace(-10, 10, 1000)\n",
        "\n",
        "    # Change the next line to add c to the end of the function:\n",
        "    plt.plot(x, a*x**2 + b*x + c)\n",
        "    plt.show()\n",
        "\n",
        "# Change the next line to add a slider to change the c value\n",
        "interactive_plot = interactive(f, a=(-9, 9), b=(-9,9), c=(-9,9))\n",
        "interactive_plot\n",
        "\n",
        "\n",
        "# Run the code once, then change the code and run it again\n",
        "\n",
        "# Only change code above this line\n",
        "import math_code_test_b as test\n",
        "test.step17(In[-1].split('# Only change code above this line')[0])\n",
        "interactive_plot"
      ],
      "execution_count": null,
      "outputs": [
        {
          "output_type": "stream",
          "name": "stdout",
          "text": [
            "Code test passed\n",
            "Go on to the next step\n",
            " \n"
          ]
        },
        {
          "output_type": "display_data",
          "data": {
            "text/plain": [
              "interactive(children=(IntSlider(value=0, description='a', max=9, min=-9), IntSlider(value=0, description='b', …"
            ],
            "application/vnd.jupyter.widget-view+json": {
              "version_major": 2,
              "version_minor": 0,
              "model_id": "e2d0fa3afad54a84a1ce5c43e768e55f"
            }
          },
          "metadata": {}
        }
      ]
    },
    {
      "cell_type": "markdown",
      "metadata": {
        "id": "eFehWNexGASC"
      },
      "source": [
        "# Step 18 - Quadratic Functions - Vertex"
      ]
    },
    {
      "cell_type": "markdown",
      "metadata": {
        "id": "p8hAZw_CGASD"
      },
      "source": [
        "The <i>vertex</i> is the point where the parabola turns around. The x value of the vertex is $\\frac{-b}{2a}$ (and then you would calculate the y value to get the point). Write the code to find the vertex, given `a`, `b`, and `c` as inputs. Remember the parabola forumula is y = ax<sup>2</sup> + bx + c"
      ]
    },
    {
      "cell_type": "code",
      "metadata": {
        "id": "cjMI5uZZGASD",
        "colab": {
          "base_uri": "https://localhost:8080/",
          "height": 591
        },
        "outputId": "7ad582de-a941-43f2-d94f-fa806ffa76b8"
      },
      "source": [
        "import matplotlib.pyplot as plt\n",
        "import numpy as np\n",
        "\n",
        "# \\u00b2 prints 2 as an exponent\n",
        "print(\"y = ax\\u00b2 + bx + c\")\n",
        "\n",
        "a = float(input(\"a = \"))\n",
        "b = float(input(\"b = \"))\n",
        "c = float(input(\"c = \"))\n",
        "\n",
        "# Write your code here, changing vx and vy\n",
        "vx = -b/(2*a)\n",
        "vy = a*vx**2 + b*vx + c\n",
        "\n",
        "\n",
        "# Only change the code above this line\n",
        "\n",
        "print(\" (\", vx, \" , \", vy, \")\")\n",
        "print(\" \")\n",
        "\n",
        "xmin = int(vx)-10\n",
        "xmax = int(vx)+10\n",
        "ymin = int(vy)-10\n",
        "ymax = int(vy)+10\n",
        "points = 2*(xmax-xmin)\n",
        "x = np.linspace(xmin,xmax,points)\n",
        "\n",
        "fig, ax = plt.subplots()\n",
        "plt.axis([xmin,xmax,ymin,ymax]) # window size\n",
        "plt.plot([xmin,xmax],[0,0],'b') # blue x axis\n",
        "plt.plot([0,0],[ymin,ymax], 'b') # blue y axis\n",
        "\n",
        "plt.plot([vx],[vy],'ro') # vertex\n",
        "\n",
        "x = np.linspace(vx-10,vx+10,100)\n",
        "y = a*x**2 + b*x + c\n",
        "plt.plot(x,y)\n",
        "\n",
        "plt.show()\n",
        "\n",
        "\n",
        "# Only change code above this line\n",
        "import math_code_test_b as test\n",
        "test.step18(In[-1].split('# Only change code above this line')[0])"
      ],
      "execution_count": null,
      "outputs": [
        {
          "output_type": "stream",
          "name": "stdout",
          "text": [
            "y = ax² + bx + c\n",
            "a = 1\n",
            "b = 2\n",
            "c = 1\n",
            " ( -1.0  ,  0.0 )\n",
            " \n"
          ]
        },
        {
          "output_type": "display_data",
          "data": {
            "text/plain": [
              "<Figure size 640x480 with 1 Axes>"
            ],
            "image/png": "[encoded data removed]"
          },
          "metadata": {}
        },
        {
          "output_type": "stream",
          "name": "stdout",
          "text": [
            " \n",
            "Code test passed\n",
            "Go on to the next step\n"
          ]
        }
      ]
    },
    {
      "cell_type": "markdown",
      "metadata": {
        "id": "WbqugasGGCKJ"
      },
      "source": [
        "# Step 19 - Projectile Motion"
      ]
    },
    {
      "cell_type": "markdown",
      "metadata": {
        "id": "TtM_pFHaGCKK"
      },
      "source": [
        "The path of every projectile is a parabola. For something thrown or launched upward, the `a` value is -4.9 (meters per second squared); the `b` value is the initial velocity (in meters per second); the `c` value is the initial height (in meters); the `x` value is time (in seconds); and the `y` value is the height at that time. In this code, change `vx` and `vy` to represent the vertex. Plotting that (x,y) vertex point is already in the code."
      ]
    },
    {
      "cell_type": "code",
      "metadata": {
        "id": "FTNV_bjuGCKL",
        "colab": {
          "base_uri": "https://localhost:8080/",
          "height": 556
        },
        "outputId": "38d35f28-d8bf-481b-daf3-787f6a4d6898"
      },
      "source": [
        "import matplotlib.pyplot as plt\n",
        "import numpy as np\n",
        "\n",
        "a = -4.9\n",
        "b = float(input(\"Initial velocity = \"))\n",
        "c = float(input(\"Initial height = \"))\n",
        "\n",
        "# Change vx and vy to represent the vertex\n",
        "vx = -b/(2*a)\n",
        "vy = a*vx**2 + b*vx + c\n",
        "\n",
        "\n",
        "# Also change the following dimensions to display the vertex\n",
        "xmin = -10\n",
        "xmax = 10\n",
        "ymin = -10\n",
        "ymax = 10\n",
        "\n",
        "# You do not need to change anything below this line\n",
        "points = 2*(xmax-xmin)\n",
        "x = np.linspace(xmin,xmax,points)\n",
        "y = a*x**2 + b*x + c\n",
        "\n",
        "fig, ax = plt.subplots()\n",
        "plt.axis([xmin,xmax,ymin,ymax]) # window size\n",
        "plt.plot([xmin,xmax],[0,0],'b') # blue x axis\n",
        "plt.plot([0,0],[ymin,ymax], 'b') # blue y axis\n",
        "\n",
        "plt.plot(x,y) # plot the line for the equation\n",
        "plt.plot([vx],[vy],'ro') # plot the vertex point\n",
        "\n",
        "print(\" (\", vx, \",\", vy, \")\")\n",
        "print(\" \")\n",
        "plt.show()\n",
        "\n",
        "\n",
        "# Only change code above this line\n",
        "import math_code_test_b as test\n",
        "test.step19(In[-1].split('# Only change code above this line')[0])"
      ],
      "execution_count": null,
      "outputs": [
        {
          "output_type": "stream",
          "name": "stdout",
          "text": [
            "Initial velocity = 2\n",
            "Initial height = 1\n",
            " ( 0.2040816326530612 , 1.2040816326530612 )\n",
            " \n"
          ]
        },
        {
          "output_type": "display_data",
          "data": {
            "text/plain": [
              "<Figure size 640x480 with 1 Axes>"
            ],
            "image/png": "[encoded data removed]"
          },
          "metadata": {}
        },
        {
          "output_type": "stream",
          "name": "stdout",
          "text": [
            " \n",
            "Code test passed\n",
            "Go on to the next step\n"
          ]
        }
      ]
    },
    {
      "cell_type": "markdown",
      "metadata": {
        "id": "hN_fvENUGBAm"
      },
      "source": [
        "# Step 20 - Quadratic Functions - C"
      ]
    },
    {
      "cell_type": "markdown",
      "metadata": {
        "id": "GrJNli5pGBAn"
      },
      "source": [
        "Like many other functions, the `c` value (also called the \"constant\" because it is not a variable) affects the vertical shift of the graph. Run the following code to see how changing the `c` value changes the graph."
      ]
    },
    {
      "cell_type": "code",
      "metadata": {
        "id": "hiSN0VexGBAn",
        "colab": {
          "base_uri": "https://localhost:8080/",
          "height": 487
        },
        "outputId": "fb50caa6-23ac-480b-d5a7-bd12af6b8441"
      },
      "source": [
        "import matplotlib.pyplot as plt\n",
        "import numpy as np\n",
        "import time\n",
        "from IPython import display\n",
        "\n",
        "x = np.linspace(-4,4,16)\n",
        "fig, ax = plt.subplots()\n",
        "cvalue = \"c = \"\n",
        "\n",
        "for c in range(10):\n",
        "    y = -x**2+c\n",
        "    plt.plot(x,y)\n",
        "    cvalue = \"c = \", c\n",
        "    ax.set_title(cvalue)\n",
        "    display.display(plt.gcf())\n",
        "    time.sleep(0.5)\n",
        "    display.clear_output(wait=True)\n",
        "\n",
        "# Just run this code\n",
        "import math_code_test_b as test\n",
        "test.step01()"
      ],
      "execution_count": null,
      "outputs": [
        {
          "output_type": "stream",
          "name": "stdout",
          "text": [
            "Code test Passed\n",
            "Go on to the next step\n"
          ]
        },
        {
          "output_type": "display_data",
          "data": {
            "text/plain": [
              "<Figure size 640x480 with 1 Axes>"
            ],
            "image/png": "[encoded data removed]"
          },
          "metadata": {}
        }
      ]
    },
    {
      "cell_type": "markdown",
      "metadata": {
        "id": "vteEy9QFGD5I"
      },
      "source": [
        "# Step 21 - The Quadratic Formula"
      ]
    },
    {
      "cell_type": "markdown",
      "metadata": {
        "id": "xALyhEsNGD5J"
      },
      "source": [
        "For a projectile, you also need to find the point when it hits the ground. On a graph, you would call these points the \"roots\" or \"x intercepts\" or \"zeros\" (because y = 0 at these points). The <i>quadratic formula</i> gives you the x value when y = 0. Given `a`,`b` and `c`, here is the quadratic formula:<br> x = $\\frac{-b \\pm \\sqrt{b^2 - 4ac}}{2a}$ Notice it's the vertex plus or minus something: $\\frac{-b}{2a} + \\frac{\\sqrt{b^2 - 4ac}}{2a}$ and $\\frac{-b}{2a} - \\frac{\\sqrt{b^2 - 4ac}}{2a}$ <br>\n",
        "Write the code to output two x values, given a, b, and c as input. Use `math.sqrt()` for the square root."
      ]
    },
    {
      "cell_type": "code",
      "metadata": {
        "id": "R3OIh1pOGD5K",
        "colab": {
          "base_uri": "https://localhost:8080/"
        },
        "outputId": "af27b1b2-d843-4d9f-a895-f2277d99a0b0"
      },
      "source": [
        "import math\n",
        "\n",
        "# \\u00b2 prints 2 as an exponent\n",
        "print(\"0 = ax\\u00b2 + bx + c\")\n",
        "a = float(input(\"a = \"))\n",
        "b = float(input(\"b = \"))\n",
        "c = float(input(\"c = \"))\n",
        "x1 = 0\n",
        "x2 = 0\n",
        "\n",
        "# Check for non-real answers:\n",
        "if b**2-4*a*c < 0:\n",
        "    print(\"No real roots\")\n",
        "else:\n",
        "    # Write your code here, changing x1 and x2\n",
        "    x1 = (-b + math.sqrt(b**2 - 4*a*c))/(2*a)\n",
        "    x2 = (-b - math.sqrt(b**2 - 4*a*c))/(2*a)\n",
        "    print(\"The roots are \", x1, \" and \", x2)\n",
        "\n",
        "\n",
        "\n",
        "# Only change code above this line\n",
        "import math_code_test_b as test\n",
        "test.step21(In[-1].split('# Only change code above this line')[0])"
      ],
      "execution_count": null,
      "outputs": [
        {
          "output_type": "stream",
          "name": "stdout",
          "text": [
            "0 = ax² + bx + c\n",
            "a = 1\n",
            "b = 5\n",
            "c = 6\n",
            "The roots are  -2.0  and  -3.0\n",
            " \n",
            "Code test passed\n",
            "Go on to the next step\n"
          ]
        }
      ]
    },
    {
      "cell_type": "markdown",
      "metadata": {
        "id": "VXxx7RCVSs4j"
      },
      "source": [
        "# Step 22 - Table of Values"
      ]
    },
    {
      "cell_type": "markdown",
      "metadata": {
        "id": "9Bd8bgPISiRH"
      },
      "source": [
        "In addition to graphing a function, you may need a table of values. This code shows how to make a simple table of (x,y) values. Run the code, then change the title to \"y = 3x + 2\" and change the function in the table."
      ]
    },
    {
      "cell_type": "code",
      "metadata": {
        "id": "e4dBSioJGGd3",
        "colab": {
          "base_uri": "https://localhost:8080/",
          "height": 480
        },
        "outputId": "d9646e93-d788-44d8-b58f-2b2019928583"
      },
      "source": [
        "import numpy as np\n",
        "import matplotlib.pyplot as plt\n",
        "\n",
        "ax = plt.subplot()\n",
        "ax.set_axis_off()\n",
        "title = \"y = 3x + 2\" # Change this title\n",
        "cols = ('x', 'y')\n",
        "rows = [[0,0]]\n",
        "for a in range(1,10):\n",
        "    rows.append([a, 3*a+2]) # Change only the function in this line\n",
        "\n",
        "ax.set_title(title)\n",
        "plt.table(cellText=rows, colLabels=cols, cellLoc='center', loc='upper left')\n",
        "plt.show()\n",
        "\n",
        "\n",
        "# Only change code above this line\n",
        "import math_code_test_b as test\n",
        "test.step22(In[-1].split('# Only change code above this line')[0])"
      ],
      "execution_count": null,
      "outputs": [
        {
          "output_type": "display_data",
          "data": {
            "text/plain": [
              "<Figure size 640x480 with 1 Axes>"
            ],
            "image/png": "[encoded data removed]"
          },
          "metadata": {}
        },
        {
          "output_type": "stream",
          "name": "stdout",
          "text": [
            " \n",
            "Code test passed\n",
            "Go on to the next step\n"
          ]
        }
      ]
    },
    {
      "cell_type": "markdown",
      "metadata": {
        "id": "jpo7oASHGEu7"
      },
      "source": [
        "# Step 23 - Projectile Game"
      ]
    },
    {
      "cell_type": "markdown",
      "metadata": {
        "id": "WHx9faGkGEu7"
      },
      "source": [
        "Learn quadratic functions by building a projectile game. Starting at (0,0) you launch a toy rocket that must clear a wall. You can randomize the height and location of the wall. The goal is to determine what initial velocity would get the rocket over the wall. Bonus: make an animation of the path of the rocket.\n"
      ]
    },
    {
      "cell_type": "code",
      "metadata": {
        "id": "-yFfSgoeWHN3",
        "colab": {
          "base_uri": "https://localhost:8080/",
          "height": 524
        },
        "outputId": "b09bf0f9-f80a-4018-9b0a-95f272a700a3"
      },
      "source": [
        "import matplotlib.pyplot as plt\n",
        "import numpy as np\n",
        "import random as rd\n",
        "import matplotlib.animation as animation\n",
        "\n",
        "# Define the game space\n",
        "xmin, xmax = 0, 10\n",
        "ymin, ymax = 0, 10\n",
        "\n",
        "# Randomize the wall\n",
        "wall_height = rd.randint(3, 7)  # Avoid a height of 0 for a meaningful challenge\n",
        "wall_x_coordinate = rd.randint(1, 5)  # Place the wall away from the edges\n",
        "\n",
        "# Set up the plot\n",
        "fig, ax = plt.subplots()\n",
        "plt.axis([xmin, xmax, ymin, ymax])  # Set window size\n",
        "plt.plot([xmin, xmax], [0, 0], 'b')  # Blue x-axis\n",
        "plt.plot([0, 0], [ymin, ymax], 'b')  # Blue y-axis\n",
        "plt.plot([wall_x_coordinate, wall_x_coordinate], [0, wall_height], 'g', linewidth=2)  # Green wall\n",
        "plt.title(\"Launch the Rocket Over the Wall!\")\n",
        "plt.xlabel(\"X-axis\")\n",
        "plt.ylabel(\"Y-axis\")\n",
        "plt.grid(True)\n",
        "\n",
        "# Prompt the user for initial velocity\n",
        "print(\"Now throw the rocket over the green wall!\")\n",
        "b = float(input(\"Enter the initial velocity (b): \"))\n",
        "\n",
        "# Define quadratic trajectory\n",
        "a = -4.9  # Gravity constant\n",
        "c = 0     # Starting height\n",
        "x = np.linspace(xmin, xmax, 500)  # Smooth trajectory\n",
        "y = a * x**2 + b * x + c\n",
        "\n",
        "# Check if the trajectory clears the wall\n",
        "trajectory_at_wall = a * wall_x_coordinate**2 + b * wall_x_coordinate + c\n",
        "\n",
        "# Prepare animation data\n",
        "x_vals = []\n",
        "y_vals = []\n",
        "\n",
        "for xi in x:\n",
        "    yi = a * xi**2 + b * xi + c\n",
        "    if yi < 0:  # Stop if the rocket hits the ground\n",
        "        break\n",
        "    x_vals.append(xi)\n",
        "    y_vals.append(yi)\n",
        "\n",
        "# Plot the trajectory background\n",
        "ax.plot(x, y, 'r--')  # Dashed line for the trajectory\n",
        "ax.plot([wall_x_coordinate, wall_x_coordinate], [0, wall_height], 'g', linewidth=2)  # Green wall\n",
        "\n",
        "# Create the rocket (animated point)\n",
        "rocket, = ax.plot([], [], 'ro', markersize=8)\n",
        "\n",
        "# Animation function\n",
        "def animate(i):\n",
        "    rocket.set_data(x_vals[:i+1], y_vals[:i+1])  # Draw the rocket's path incrementally\n",
        "    return rocket,\n",
        "\n",
        "# Animate the rocket\n",
        "ani = animation.FuncAnimation(fig, animate, frames=len(x_vals), interval=20, blit=True)\n",
        "\n",
        "# Display whether the rocket cleared the wall\n",
        "if trajectory_at_wall > wall_height:\n",
        "    print(\"Success! The rocket cleared the wall!\")\n",
        "else:\n",
        "    print(\"Oh no! The rocket hit the wall.\")\n",
        "\n",
        "plt.show()\n"
      ],
      "execution_count": null,
      "outputs": [
        {
          "output_type": "stream",
          "name": "stdout",
          "text": [
            "Now throw the rocket over the green wall!\n",
            "Enter the initial velocity (b): 10\n",
            "Oh no! The rocket hit the wall.\n"
          ]
        },
        {
          "output_type": "display_data",
          "data": {
            "text/plain": [
              "<Figure size 640x480 with 1 Axes>"
            ],
            "image/png": "[encoded data removed]"
          },
          "metadata": {}
        }
      ]
    },
    {
      "cell_type": "markdown",
      "source": [
        "# Step 24 - Define Graphing Functions"
      ],
      "metadata": {
        "id": "pE5o0-VMaIy3"
      }
    },
    {
      "cell_type": "markdown",
      "source": [
        "Building on what you have already done, create a menu with the following options:<br>\n",
        "<ul>\n",
        "<li>Display the graph and a table of values for any \"y=\" equation input</li>\n",
        "<li>Solve a system of two equations without graphing</li>\n",
        "<li>Graph two equations and plot the point of intersection</li>\n",
        "<li>Given a, b and c in a quadratic equation, plot the roots and vertex</li>\n",
        "</ul>\n",
        "Then think about how you will define a function for each item."
      ],
      "metadata": {
        "id": "c5tXoITnag_P"
      }
    },
    {
      "cell_type": "code",
      "source": [
        "# Write your code here\n",
        "\n",
        "def menu():\n",
        "    print(\"Hello, please note these are the possible functions: \\n\")\n",
        "    print(\" 1. Display the graph and a table of values for any 'y=' equation input\\n\",\n",
        "    \"2. Solve a system of two equations without graphing\\n\",\n",
        "    \"3. Graph two equations and plot the point of intersection\\n\",\n",
        "    \"4. Given a, b and c in a quadratic equation, plot the roots and vertex \\n\")\n",
        "\n",
        "    choice = int(input(\"Enter the number of the functionality you want >>>  \"))\n",
        "\n",
        "    return choice\n",
        "\n",
        "# This step does not have a test"
      ],
      "metadata": {
        "id": "lvuStaKYalPo"
      },
      "execution_count": null,
      "outputs": []
    },
    {
      "cell_type": "markdown",
      "source": [
        "# Step 25 - Certification Project 2"
      ],
      "metadata": {
        "id": "D7ASvHg3b2Ph"
      }
    },
    {
      "cell_type": "markdown",
      "source": [
        "Build a graphing calculator that performs the functions mentioned in the previous step:\n",
        "<ul>\n",
        "<li>Graph one or more functions</li>\n",
        "<li>Create a table of (x,y) values</li>\n",
        "<li>Shade above or below the line</li>\n",
        "<li>Solve and graph a system of two equations</li>\n",
        "<li>Zoom in or out on a graph</li>\n",
        "<li>Solve quadratic equations (given a, b, and c)</li>\n",
        "</ul>"
      ],
      "metadata": {
        "id": "KBcTUf08cRy1"
      }
    },
    {
      "cell_type": "code",
      "source": [
        "# Write your code here\n",
        "# Graph one or more functions\n",
        "\n",
        "def create_value_table():\n",
        "  import numpy as np\n",
        "  import matplotlib.pyplot as plt\n",
        "\n",
        "  ax = plt.subplot()\n",
        "  ax.set_axis_off()\n",
        "  print(\"Equation: y = mx + b\")\n",
        "  mb = input(\"Enter m and b, separated by a comma: \")\n",
        "  mb_in = mb.split(\",\")\n",
        "  m = float(mb_in[0])\n",
        "  b = float(mb_in[1])\n",
        "  title = \"mb\"\n",
        "  cols = ('x', 'y')\n",
        "  rows = [[0,0]]\n",
        "  for a in range(1,10):\n",
        "      rows.append([a, m*a + b]) # Change only the function in this line\n",
        "\n",
        "  ax.set_title(title)\n",
        "  plt.table(cellText=rows, colLabels=cols, cellLoc='center', loc='upper left')\n",
        "  plt.show()\n",
        "\n",
        "  plt.axis([-10,10,-10,10]) # window size\n",
        "  plt.plot([-10,10],[0,0],'k') # blue x axis\n",
        "  plt.plot([0,0],[-10,10], 'k') # blue y axis\n",
        "  x = np.linspace(-10, 10, 1000)\n",
        "\n",
        "  # Change the next line to add c to the end of the function:\n",
        "  plt.plot(x, m*x + b)\n",
        "  plt.show()\n",
        "\n",
        "\n",
        "def solve_system_only():\n",
        "  import sympy\n",
        "  x,y = symbols('x y')\n",
        "  print(\"Remember to use Python syntax with x and y as variables\")\n",
        "  print(\"Notice how each equation is already set equal to zero\")\n",
        "  first = input(\"Enter the first equation: 0 = \")\n",
        "  second = input(\"Enter the second equation: 0 = \")\n",
        "  solution = linsolve([first, second], (x, y))\n",
        "  x_solution = solution.args[0][0]\n",
        "  y_solution = solution.args[0][1]\n",
        "\n",
        "  print(\"x = \", x_solution)\n",
        "  print(\"y = \", y_solution)\n",
        "\n",
        "# Shade above or below the line\n",
        "# Solve and graph a system of two equations\n",
        "def solve_graph_2_equations():\n",
        "  import sympy\n",
        "  import matplotlib.pyplot as plt\n",
        "  import numpy as np\n",
        "\n",
        "  print(\"First equation: y = mx + b\")\n",
        "  mb_1 = input(\"Enter m and b, separated by a comma: \")\n",
        "  mb_in1 = mb_1.split(\",\")\n",
        "  m1 = float(mb_in1[0])\n",
        "  b1 = float(mb_in1[1])\n",
        "\n",
        "  print(\"Second equation: y = mx + b\")\n",
        "  mb_2 = input(\"Enter m and b, separated by a comma: \")\n",
        "  mb_in2 = mb_2.split(\",\")\n",
        "  m2 = float(mb_in2[0])\n",
        "  b2 = float(mb_in2[1])\n",
        "\n",
        "  # Solve the system of equations\n",
        "  x,y = symbols('x y')\n",
        "  first = m1*x + b1 - y\n",
        "  second = m2*x + b2 - y\n",
        "  solution = linsolve([first, second], (x, y))\n",
        "  x_solution = round(float(solution.args[0][0]),3)\n",
        "  y_solution = round(float(solution.args[0][1]),3)\n",
        "\n",
        "  # Make sure the window includes the solution\n",
        "  xmin = int(x_solution) - 20\n",
        "  xmax = int(x_solution) + 20\n",
        "  ymin = int(y_solution) - 20\n",
        "  ymax = int(y_solution) + 20\n",
        "  points = 2*(xmax-xmin)\n",
        "\n",
        "  # Define the x values once for the graph\n",
        "  graph_x = np.linspace(xmin,xmax,points)\n",
        "\n",
        "  # Define the y values for the graph\n",
        "  y1 = m1*graph_x + b1\n",
        "  y2 = m2*graph_x + b2\n",
        "\n",
        "  fig, ax = plt.subplots()\n",
        "  plt.axis([xmin,xmax,ymin,ymax]) # window size\n",
        "  plt.plot([xmin,xmax],[0,0],'b') # blue x axis\n",
        "  plt.plot([0,0],[ymin,ymax], 'b') # blue y axis\n",
        "\n",
        "  # line 1\n",
        "  plt.plot(graph_x, y1)\n",
        "\n",
        "  # line 2\n",
        "  plt.plot(graph_x, y2)\n",
        "\n",
        "  # point\n",
        "  plt.plot([x_solution],[y_solution],'ro')\n",
        "\n",
        "  plt.show()\n",
        "  print(\" \")\n",
        "  print(\"Solution: (\", x_solution, \",\", y_solution, \")\")\n",
        "\n",
        "\n",
        "def zoom_shade_func():\n",
        "  %matplotlib inline\n",
        "from ipywidgets import interactive\n",
        "import matplotlib.pyplot as plt\n",
        "import numpy as np\n",
        "\n",
        "# Define the graphing function\n",
        "def f(zoom):\n",
        "    xmin = -zoom\n",
        "    xmax = zoom\n",
        "    ymin = -zoom\n",
        "    ymax = zoom\n",
        "    points = 10*xmax-xmin\n",
        "    x = np.linspace(xmin, xmax, points)\n",
        "\n",
        "    plt.axis([xmin,xmax,ymin,ymax]) # window size\n",
        "    plt.plot([xmin,xmax],[0,0],'black') # black x axis\n",
        "    plt.plot([0,0],[ymin,ymax], 'black') # black y axis\n",
        "\n",
        "    # Line 1\n",
        "    y1 = 3*x**2 - 4\n",
        "\n",
        "    # Line 2\n",
        "    plt.plot(x, y1)\n",
        "    plt.show()\n",
        "    # plt.fill_between(x, y3, y2, facecolor='blue')\n",
        "\n",
        "    # Set up the sliders\n",
        "    interactive_plot = interactive(f, m=(-9, 9), b=(-9, 9), zoom=(1,100))\n",
        "    interactive_plot\n",
        "\n",
        "    # line 1\n",
        "    y1 = x+6\n",
        "    plt.plot(x, y1,'-')\n",
        "    plt.fill_between(x, y1, ymax, facecolor='gray')\n",
        "\n",
        "\n",
        "\n",
        "# Zoom in or out on a graph\n",
        "# Solve quadratic equations (given a, b, and c)\n",
        "\n",
        "def solve_quadratic():\n",
        "  import matplotlib.pyplot as plt\n",
        "  import numpy as np\n",
        "  import math\n",
        "\n",
        "  # \\u00b2 prints 2 as an exponent\n",
        "  print(\"y = ax\\u00b2 + bx + c\")\n",
        "\n",
        "  a = float(input(\"a = \"))\n",
        "  b = float(input(\"b = \"))\n",
        "  c = float(input(\"c = \"))\n",
        "\n",
        "  # Write your code here, changing vx and vy\n",
        "  vx = -b/(2*a)\n",
        "  vy = a*vx**2 + b*vx + c\n",
        "\n",
        "\n",
        "  # Only change the code above this line\n",
        "\n",
        "  print(\" (\", vx, \" , \", vy, \")\")\n",
        "  print(\" \")\n",
        "\n",
        "  xmin = int(vx)-10\n",
        "  xmax = int(vx)+10\n",
        "  ymin = int(vy)-10\n",
        "  ymax = int(vy)+10\n",
        "  points = 2*(xmax-xmin)\n",
        "  x = np.linspace(xmin,xmax,points)\n",
        "\n",
        "  fig, ax = plt.subplots()\n",
        "  plt.axis([xmin,xmax,ymin,ymax]) # window size\n",
        "  plt.plot([xmin,xmax],[0,0],'b') # blue x axis\n",
        "  plt.plot([0,0],[ymin,ymax], 'b') # blue y axis\n",
        "\n",
        "  plt.plot([vx],[vy],'ro') # vertex\n",
        "\n",
        "  x = np.linspace(vx-10,vx+10,100)\n",
        "  y = a*x**2 + b*x + c\n",
        "  plt.plot(x,y)\n",
        "\n",
        "  plt.show()\n",
        "\n",
        "  # Check for non-real answers:\n",
        "  if b**2-4*a*c < 0:\n",
        "      print(\"No real roots\")\n",
        "  else:\n",
        "      # Write your code here, changing x1 and x2\n",
        "      x1 = (-b + math.sqrt(b**2 - 4*a*c))/(2*a)\n",
        "      x2 = (-b - math.sqrt(b**2 - 4*a*c))/(2*a)\n",
        "      print(\"The roots are \", x1, \" and \", x2)\n",
        "\n",
        "# make sure to run the previous cell\n",
        "choice = menu()\n",
        "if choice == 1:\n",
        "  graph_functions()\n",
        "  create_value_table()\n",
        "elif choice == 2:\n",
        "  solve_system_only()\n",
        "elif choice == 3:\n",
        "  solve_graph_2_equations()\n",
        "elif choice == 4:\n",
        "  solve_quadratic()\n",
        "# This step does not have a test"
      ],
      "metadata": {
        "id": "bmuz1zCecVCX",
        "colab": {
          "base_uri": "https://localhost:8080/",
          "height": 1000
        },
        "outputId": "131cba4b-8e4c-45ec-dc12-65a03d856cbe"
      },
      "execution_count": null,
      "outputs": [
        {
          "name": "stdout",
          "output_type": "stream",
          "text": [
            "Hello, please note these are the possible functions: \n",
            "\n",
            " 1. Display the graph and a table of values for any 'y=' equation input\n",
            " 2. Solve a system of two equations without graphing\n",
            " 3. Graph two equations and plot the point of intersection\n",
            " 4. Given a, b and c in a quadratic equation, plot the roots and vertex \n",
            "\n",
            "Enter the number of the functionality you want >>>  1\n",
            "Equation: y = mx + b\n",
            "Enter m and b, separated by a comma: 3,1\n"
          ]
        },
        {
          "output_type": "display_data",
          "data": {
            "text/plain": [
              "<Figure size 640x480 with 1 Axes>"
            ],
            "image/png": "[encoded data removed]"
          },
          "metadata": {}
        },
        {
          "output_type": "display_data",
          "data": {
            "text/plain": [
              "<Figure size 640x480 with 1 Axes>"
            ],
            "image/png": "[encoded data removed]"
          },
          "metadata": {}
        }
      ]
    }
  ]
}