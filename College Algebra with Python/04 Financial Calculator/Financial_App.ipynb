{
  "cells": [
    {
      "cell_type": "markdown",
      "metadata": {
        "id": "EsfO5Q92tL-6"
      },
      "source": [
        "[![freeCodeCamp](https://cdn.freecodecamp.org/testable-projects-fcc/images/fcc_secondary.svg)](https://freecodecamp.org/)"
      ]
    },
    {
      "cell_type": "markdown",
      "metadata": {
        "id": "57mlyO58UfN0"
      },
      "source": [
        "**Learn Foundational Math 4 by Building a Financial App**<br>\n",
        "Each of these steps will lead you toward the Certification Project. Once you complete a step, click to expand the next step."
      ]
    },
    {
      "cell_type": "markdown",
      "metadata": {
        "id": "szp5flp1fA8-"
      },
      "source": [
        "# &darr; **Do this first** &darr;\n",
        "Copy this notebook to your own account by clicking the `File` button at the top, and then click `Save a copy in Drive`. You will need to be logged in to Google. The file will be in a folder called \"Colab Notebooks\" in your Google Drive."
      ]
    },
    {
      "cell_type": "markdown",
      "metadata": {
        "id": "KDloBuvnHQTS"
      },
      "source": [
        "# Step 0 - Acquire the Testing Library"
      ]
    },
    {
      "cell_type": "markdown",
      "metadata": {
        "id": "JiW6TlNezZKS"
      },
      "source": [
        "Please run this code to get the library file from FreeCodeCamp. Each step will use this library to test your code. You do not need to edit anything; just run this code cell and wait a few seconds until it tells you to go on to the next step."
      ]
    },
    {
      "cell_type": "code",
      "execution_count": null,
      "metadata": {
        "colab": {
          "base_uri": "https://localhost:8080/"
        },
        "id": "eTlHceacGa1C",
        "outputId": "b2f74e79-679d-48d4-cbed-ddc90477412f"
      },
      "outputs": [
        {
          "name": "stdout",
          "output_type": "stream",
          "text": [
            "Requirement already satisfied: requests in /usr/local/lib/python3.11/dist-packages (2.32.3)\n",
            "Requirement already satisfied: charset-normalizer<4,>=2 in /usr/local/lib/python3.11/dist-packages (from requests) (3.4.1)\n",
            "Requirement already satisfied: idna<4,>=2.5 in /usr/local/lib/python3.11/dist-packages (from requests) (3.10)\n",
            "Requirement already satisfied: urllib3<3,>=1.21.1 in /usr/local/lib/python3.11/dist-packages (from requests) (2.3.0)\n",
            "Requirement already satisfied: certifi>=2017.4.17 in /usr/local/lib/python3.11/dist-packages (from requests) (2024.12.14)\n",
            "Code test passed\n",
            "Go on to the next step\n"
          ]
        }
      ],
      "source": [
        "# You may need to run this cell at the beginning of each new session\n",
        "\n",
        "!pip install requests\n",
        "\n",
        "# This will just take a few seconds\n",
        "\n",
        "import requests\n",
        "\n",
        "# Get the library from GitHub\n",
        "url = 'https://raw.githubusercontent.com/edatfreecodecamp/python-math/main/math-code-test-c.py'\n",
        "r = requests.get(url)\n",
        "\n",
        "# Save the library in a local working directory\n",
        "with open('math_code_test_c.py', 'w') as f:\n",
        "    f.write(r.text)\n",
        "\n",
        "# Now you can import the library\n",
        "import math_code_test_c as test\n",
        "\n",
        "# This will tell you if the code works\n",
        "test.step00()"
      ]
    },
    {
      "cell_type": "markdown",
      "metadata": {
        "id": "r1AM-AcqkbyF"
      },
      "source": [
        "# Step 1 - Graphing Inequalities"
      ]
    },
    {
      "cell_type": "markdown",
      "metadata": {
        "id": "K8rdL_OEkd-t"
      },
      "source": [
        "Learn Inequalities by Building Shaded Graphs. Notice how you set up the plot, like you learned in the last certification. Run the following code and you will see that the graph of y <u>></u> 2x is not quite right. Because y is greater, the shading should be above the line. The second two arguments in the `fill_between()` function give a range of y values to shade. Change just that part of the code to make the graph correct. (Hint: Think about the top of the graph.)\n"
      ]
    },
    {
      "cell_type": "code",
      "execution_count": null,
      "metadata": {
        "colab": {
          "base_uri": "https://localhost:8080/",
          "height": 504
        },
        "id": "QAVgVP3xUd4J",
        "outputId": "09917d75-a17a-4bea-a314-2b10758a27cf"
      },
      "outputs": [
        {
          "data": {
            "image/png": "[encoded data removed]",
            "text/plain": [
              "<Figure size 640x480 with 1 Axes>"
            ]
          },
          "metadata": {},
          "output_type": "display_data"
        },
        {
          "name": "stdout",
          "output_type": "stream",
          "text": [
            " \n",
            "Code test passed\n",
            "Go on to the next step\n"
          ]
        }
      ],
      "source": [
        "import matplotlib.pyplot as plt\n",
        "import numpy as np\n",
        "\n",
        "xmin = -10\n",
        "xmax = 10\n",
        "ymin = - 10\n",
        "ymax = 10\n",
        "points = 2*(xmax-xmin)\n",
        "x = np.linspace(xmin,xmax,points)\n",
        "\n",
        "fig, ax = plt.subplots()\n",
        "plt.axis([xmin,xmax,ymin,ymax]) # window size\n",
        "plt.plot([xmin,xmax],[0,0],'b') # blue x axis\n",
        "plt.plot([0,0],[ymin,ymax], 'b') # blue y axis\n",
        "\n",
        "plt.title(\"y > 2x\")\n",
        "\n",
        "y1 = 2*x\n",
        "plt.plot(x, y1)\n",
        "\n",
        "# Only change code below this line\n",
        "plt.fill_between(x, y1, ymax)\n",
        "\n",
        "plt.show()\n",
        "\n",
        "\n",
        "# Only change code above this line\n",
        "import math_code_test_c as test\n",
        "test.step01(In[-1].split('# Only change code above this line')[0])"
      ]
    },
    {
      "cell_type": "markdown",
      "metadata": {
        "id": "8wXbGsoYkm60"
      },
      "source": [
        "# Step 2 - Graphing inequalities - Part 2"
      ]
    },
    {
      "cell_type": "markdown",
      "metadata": {
        "id": "ehY1G02Dkv7r"
      },
      "source": [
        "The default graph will give you a solid line, but you can change the type of line and the color. As `'b'` is for a solid blue line, `'b--'` will be a dashed blue line and `'r--'` will display a dashed red line. Change the code to graph a dashed red line."
      ]
    },
    {
      "cell_type": "code",
      "execution_count": null,
      "metadata": {
        "colab": {
          "base_uri": "https://localhost:8080/",
          "height": 487
        },
        "id": "3Pp_SmUikwgy",
        "outputId": "ec07f5ba-6cb5-40b5-b85b-0d2260cb98ae"
      },
      "outputs": [
        {
          "data": {
            "image/png": "[encoded data removed]",
            "text/plain": [
              "<Figure size 640x480 with 1 Axes>"
            ]
          },
          "metadata": {},
          "output_type": "display_data"
        },
        {
          "name": "stdout",
          "output_type": "stream",
          "text": [
            " \n",
            "Code test passed\n",
            "Go on to the next step\n"
          ]
        }
      ],
      "source": [
        "import matplotlib.pyplot as plt\n",
        "import numpy as np\n",
        "\n",
        "xmin = -10\n",
        "xmax = 10\n",
        "ymin = - 10\n",
        "ymax = 10\n",
        "points = 2*(xmax-xmin)\n",
        "x = np.linspace(xmin,xmax,points)\n",
        "\n",
        "fig, ax = plt.subplots()\n",
        "plt.axis([xmin,xmax,ymin,ymax]) # window size\n",
        "plt.plot([xmin,xmax],[0,0],'b') # blue x axis\n",
        "plt.plot([0,0],[ymin,ymax], 'b') # blue y axis\n",
        "\n",
        "y1 = 2*x\n",
        "\n",
        "# Only change the next line:\n",
        "plt.plot(x, y1, 'r--')\n",
        "\n",
        "plt.fill_between(x, y1, ymin)\n",
        "plt.show()\n",
        "\n",
        "\n",
        "\n",
        "# Only change code above this line\n",
        "import math_code_test_c as test\n",
        "test.step02(In[-1].split('# Only change code above this line')[0])"
      ]
    },
    {
      "cell_type": "markdown",
      "metadata": {
        "id": "tBxuJtHck2Oo"
      },
      "source": [
        "# Step 3 - Making Art with Graphs"
      ]
    },
    {
      "cell_type": "markdown",
      "metadata": {
        "id": "PTr63nCrlTiM"
      },
      "source": [
        "Now plot four inequalities on the graph, in a pattern. Notice how you only need to define the x values once. In the `fill_between()` function notice a fourth argument, `facecolor=`, to indicate a different color for the shaded area. The color name in single quotes, like 'green' or 'yellow' or any common color name. Run the code to see the pattern, then reverse the order of the colors and run it again."
      ]
    },
    {
      "cell_type": "code",
      "execution_count": null,
      "metadata": {
        "colab": {
          "base_uri": "https://localhost:8080/",
          "height": 487
        },
        "id": "Iyoq1h3vlV-a",
        "outputId": "00094901-e943-481f-adc9-07d785e5c1ff"
      },
      "outputs": [
        {
          "data": {
            "image/png": "[encoded data removed]",
            "text/plain": [
              "<Figure size 640x480 with 1 Axes>"
            ]
          },
          "metadata": {},
          "output_type": "display_data"
        },
        {
          "name": "stdout",
          "output_type": "stream",
          "text": [
            " \n",
            "Code test passed\n",
            "Go on to the next step\n"
          ]
        }
      ],
      "source": [
        "import matplotlib.pyplot as plt\n",
        "import numpy as np\n",
        "\n",
        "xmin = -10\n",
        "xmax = 10\n",
        "ymin = - 10\n",
        "ymax = 10\n",
        "points = 2*(xmax-xmin)\n",
        "x = np.linspace(xmin,xmax,points)\n",
        "\n",
        "fig, ax = plt.subplots()\n",
        "plt.axis([xmin,xmax,ymin,ymax]) # window size\n",
        "plt.plot([xmin,xmax],[0,0],'b') # blue x axis\n",
        "plt.plot([0,0],[ymin,ymax], 'b') # blue y axis\n",
        "\n",
        "# Only change the lines indicated below\n",
        "\n",
        "# line 1\n",
        "y1 = x+6\n",
        "plt.plot(x, y1)\n",
        "plt.fill_between(x, y1, 10, facecolor='blue') # change this line\n",
        "\n",
        "# line 2\n",
        "y2 = x+3\n",
        "plt.plot(x, y2)\n",
        "plt.fill_between(x, y2, y1, facecolor='green') # change this line\n",
        "\n",
        "# line 3\n",
        "y3 = x-1\n",
        "plt.plot(x, y3)\n",
        "plt.fill_between(x, y3, y2, facecolor='red') # change this line\n",
        "\n",
        "# line 4\n",
        "y4 = x-4\n",
        "plt.plot(x, y4)\n",
        "plt.fill_between(x, y4, y3, facecolor='yellow') # change this line\n",
        "\n",
        "plt.show()\n",
        "\n",
        "\n",
        "\n",
        "# Only change code above this line\n",
        "import math_code_test_c as test\n",
        "test.step03(In[-1].split('# Only change code above this line')[0])"
      ]
    },
    {
      "cell_type": "markdown",
      "metadata": {
        "id": "s3z_zaNWlet8"
      },
      "source": [
        "# Step 4 - Monomials"
      ]
    },
    {
      "cell_type": "markdown",
      "metadata": {
        "id": "BTOGQIpElet-"
      },
      "source": [
        "A <i>monomial</i> means \"one thing\" or one term. In a math equation, each term has a sign, a coefficient, and a variable to an exponent. Here are some examples: In the term -3x<sup>2</sup> you can see that the sign is negative, the coefficient is 3, the variable is x, the exponent is 2. The term x also has all of these parts: the sign is positive, the coefficient is 1, the variable is x, and the exponent is 1. In the term 5, the sign is positive, the coefficient is 5, the variable is still x, and the exponent is zero (notice that you don't need to write some of these parts, like x<sup>0</sup>). You can use `sympy` to display monomials nicely. Just run the code to see how this looks.  "
      ]
    },
    {
      "cell_type": "code",
      "execution_count": null,
      "metadata": {
        "colab": {
          "base_uri": "https://localhost:8080/",
          "height": 74
        },
        "id": "oAPKmzeblet_",
        "outputId": "702eef00-9a91-49c1-bad2-3c4f5800b564"
      },
      "outputs": [
        {
          "data": {
            "text/latex": [
              "$\\displaystyle - 2 x^{3} = -16$"
            ],
            "text/plain": [
              "Eq(-2*x**3, -16)"
            ]
          },
          "metadata": {},
          "output_type": "display_data"
        },
        {
          "name": "stdout",
          "output_type": "stream",
          "text": [
            "Code test passed\n",
            "Go on to the next step\n"
          ]
        }
      ],
      "source": [
        "from sympy import symbols, Eq\n",
        "\n",
        "x = symbols('x')\n",
        "eq1 = Eq(-2*x**3 , -16)\n",
        "display(eq1)\n",
        "\n",
        "\n",
        "# Just run this code\n",
        "import math_code_test_c as test\n",
        "test.step00()"
      ]
    },
    {
      "cell_type": "markdown",
      "metadata": {
        "id": "lnP9BOpPlhdK"
      },
      "source": [
        "# Step 5 - Polynomials"
      ]
    },
    {
      "cell_type": "markdown",
      "metadata": {
        "id": "ABF6PI7TlhdL"
      },
      "source": [
        "A \"monomial\" is one thing. A \"binomial\" is two things. A \"trinomial\" is three things. A \"polynomial\" is many things. In standard form, `x` is the variable; you put your terms in order from highest exponent to lowest; refer to the coefficients with letters in alphabetical order; and set all of this equal to `y` (because it is a function that you can graph). Example: y = ax<sup>4</sup> + bx<sup>3</sup> + cx<sup>2</sup> + dx + e <br>\n",
        "Write code to prompt for integer input and display a polynomial. Remember to use the `**` for exponents. Parts of this are already done for you."
      ]
    },
    {
      "cell_type": "code",
      "execution_count": null,
      "metadata": {
        "colab": {
          "base_uri": "https://localhost:8080/",
          "height": 178
        },
        "id": "USVAJRualhdL",
        "outputId": "7d26f8f1-edf4-4eaa-cc59-dd310df09fd3"
      },
      "outputs": [
        {
          "name": "stdout",
          "output_type": "stream",
          "text": [
            "Enter coefficient A: 1\n",
            "Enter coefficient B: 2\n",
            "Enter coefficient C: 3\n",
            "Enter coefficient D: 4\n",
            "Here is your equation:\n"
          ]
        },
        {
          "data": {
            "text/latex": [
              "$\\displaystyle y = x^{3} + 2 x^{2} + 3 x + 4$"
            ],
            "text/plain": [
              "<IPython.core.display.Math object>"
            ]
          },
          "metadata": {},
          "output_type": "display_data"
        },
        {
          "name": "stdout",
          "output_type": "stream",
          "text": [
            " \n",
            "Code test passed\n",
            "Go on to the next step\n"
          ]
        }
      ],
      "source": [
        "from IPython.display import display, Math\n",
        "from sympy import *\n",
        "\n",
        "x,y = symbols('x y')\n",
        "\n",
        "a = int(input(\"Enter coefficient A: \"))\n",
        "b = int(input(\"Enter coefficient B: \"))\n",
        "# continue this to prompt for variables c and d\n",
        "c = int(input(\"Enter coefficient C: \"))\n",
        "d = int(input(\"Enter coefficient D: \"))\n",
        "\n",
        "# change the next line to display the full polynomial\n",
        "y = a*x**3 + b*x**2 + c*x + d\n",
        "\n",
        "print(\"Here is your equation:\")\n",
        "display(Math(\"y = \" + latex(y)))\n",
        "\n",
        "\n",
        "# Only change code above this line\n",
        "import math_code_test_c as test\n",
        "test.step05(In[-1].split('# Only change code above this line')[0])"
      ]
    },
    {
      "cell_type": "markdown",
      "metadata": {
        "id": "yoavB8H_ljVn"
      },
      "source": [
        "# Step 6 - Interactive Polynomial Graph"
      ]
    },
    {
      "cell_type": "markdown",
      "metadata": {
        "id": "3yk-TKO6ljVo"
      },
      "source": [
        "For this polynomial, y = ax<sup>2</sup> + bx + c, you can move the sliders to adjust the coefficients and see how that affects the graph. Notice how the `f()` function takes two arguments and the `interactive()` function defines two sliders. Run this code and interact with it. Then add the third coefficient (\"c\") by changing three things: the `def` line so that the function takes three arguments, the `plt.plot` line so that it includes \"+ c\", and the `interactive` line to include a third slider."
      ]
    },
    {
      "cell_type": "code",
      "execution_count": null,
      "metadata": {
        "colab": {
          "base_uri": "https://localhost:8080/",
          "height": 583,
          "referenced_widgets": [
            "0f9086256c8546f38b5378ffbbc69134",
            "35c6201c583b4bc3973fbaa4cfd740ae",
            "7c34ceb5824b4c6992e2257de2693e17",
            "b93c88aa611448f4a70e5a8542c958cc",
            "a28a35ce8d644e8ea0133a0bf6919e13",
            "52fe7b79080840049b307fbaf849fb4f",
            "5310b570d27649a59ea697c9e4ec54aa",
            "82d2547d935e435cb3d4f64defecc464",
            "67c152720dd54c7d8848c50bfcf9aaf5",
            "3708d951175e4fcca34ea2660e4a6137",
            "7be60db2011a4e36b59f42edd862b62a",
            "739352da64a7473097f1e30b44bb75bb",
            "9598a256210e4984b43046a2d2e2fe9e"
          ]
        },
        "id": "sOecWXLOljVo",
        "outputId": "e5fe1d9a-fc90-4ff4-e203-3c1311afdff1"
      },
      "outputs": [
        {
          "data": {
            "application/vnd.jupyter.widget-view+json": {
              "model_id": "0f9086256c8546f38b5378ffbbc69134",
              "version_major": 2,
              "version_minor": 0
            },
            "text/plain": [
              "interactive(children=(IntSlider(value=0, description='a', max=9, min=-9), IntSlider(value=0, description='b', …"
            ]
          },
          "metadata": {},
          "output_type": "display_data"
        },
        {
          "name": "stdout",
          "output_type": "stream",
          "text": [
            " \n",
            "Code test passed\n",
            "Go on to the next step\n"
          ]
        }
      ],
      "source": [
        "%matplotlib inline\n",
        "from ipywidgets import interactive\n",
        "import matplotlib.pyplot as plt\n",
        "import numpy as np\n",
        "\n",
        "# Change the next line:\n",
        "def f(a, b, c):\n",
        "    plt.axis([-10,10,-10,10]) # window size\n",
        "    plt.plot([-10,10],[0,0],'k') # blue x axis\n",
        "    plt.plot([0,0],[-10,10], 'k') # blue y axis\n",
        "    x = np.linspace(-10, 10, 200)\n",
        "    plt.plot(x, a*x**2+b*x+c) # Change this line\n",
        "    plt.show()\n",
        "\n",
        "# Change the next line:\n",
        "interactive_plot = interactive(f, a=(-9, 9), b=(-9, 9), c=(-9, 9))\n",
        "display(interactive_plot)\n",
        "\n",
        "\n",
        "# Only change code above this line\n",
        "import math_code_test_c as test\n",
        "test.step06(In[-1].split('# Only change code above this line')[0])"
      ]
    },
    {
      "cell_type": "markdown",
      "metadata": {
        "id": "MlRfYVIylkQf"
      },
      "source": [
        "# Step 7 - Exponential Functions"
      ]
    },
    {
      "cell_type": "markdown",
      "metadata": {
        "id": "H16dtXc0lkQg"
      },
      "source": [
        "The general formula for an `exponential function` is $y = a*b^{x}$ (where `a` and `b` are constants and `x` is the variable in the exponent). The shape of exponential graphs, especially when not drawn to scale, are very consistent, so the numerical values are more important to calculate. Things that grow exponentially include populations, investments, and other \"percent increase\" situations. Run this code and use the sliders to see the slight changes. Notice the scale. Then change the slider so that `a` has negative values from -9 to -1 and see how that changes the graph."
      ]
    },
    {
      "cell_type": "code",
      "execution_count": null,
      "metadata": {
        "colab": {
          "base_uri": "https://localhost:8080/",
          "height": 551,
          "referenced_widgets": [
            "757f222d02154ddc9f91ef5c593df88d",
            "5ed4c79d994c4db5b0126c73bf585d3c",
            "bcd71bd2180449e5924efd1560f0e114",
            "3fde7dda8e79455e83011f8f9a998750",
            "a8a27925ff954a0abad00f79db3b69ed",
            "3fa78f871939400e908f7042b813788f",
            "c074a10a63044bdbb1b58107f6d7c93c",
            "c57b2af930ef41afb54ea589dc59c05c",
            "419821412aff4821adca7eecc3e3c790",
            "e179884133f04e789ba6663b65c72a2a"
          ]
        },
        "id": "8KIMFu7LlkQg",
        "outputId": "f63ccb58-6174-40e9-df22-524159fcbe9e"
      },
      "outputs": [
        {
          "data": {
            "application/vnd.jupyter.widget-view+json": {
              "model_id": "757f222d02154ddc9f91ef5c593df88d",
              "version_major": 2,
              "version_minor": 0
            },
            "text/plain": [
              "interactive(children=(IntSlider(value=-5, description='a', max=-1, min=-9), IntSlider(value=5, description='b'…"
            ]
          },
          "metadata": {},
          "output_type": "display_data"
        },
        {
          "name": "stdout",
          "output_type": "stream",
          "text": [
            " \n",
            "Code test passed\n",
            "Go on to the next step\n"
          ]
        }
      ],
      "source": [
        "%matplotlib inline\n",
        "from ipywidgets import interactive\n",
        "import matplotlib.pyplot as plt\n",
        "import numpy as np\n",
        "\n",
        "xmin = -10\n",
        "xmax = 10\n",
        "ymin = -100\n",
        "ymax = 100\n",
        "\n",
        "def f(a, b):\n",
        "    plt.axis([xmin,xmax,ymin,ymax]) # window size\n",
        "    plt.plot([xmin,xmax],[0,0],'k') # x axis\n",
        "    plt.plot([0,0],[ymin,ymax], 'k') # y axis\n",
        "    x = np.linspace(xmin, xmax, 1000)\n",
        "    plt.plot(x, a*b**x)\n",
        "    plt.show()\n",
        "\n",
        "# Only change the next line:\n",
        "interactive_plot = interactive(f, a=(-9, -1), b=(1, 9))\n",
        "display(interactive_plot)\n",
        "\n",
        "\n",
        "# Only change code above this line\n",
        "import math_code_test_c as test\n",
        "test.step07(In[-1].split('# Only change code above this line')[0])"
      ]
    },
    {
      "cell_type": "markdown",
      "metadata": {
        "id": "NGH1FcttllvS"
      },
      "source": [
        "# Step 8 - Percent Increase"
      ]
    },
    {
      "cell_type": "markdown",
      "metadata": {
        "id": "KLKYiioGllvT"
      },
      "source": [
        "One formula for calculating a percent increase is <b>A = P(1 + r)<sup>t</sup></b> where `A` would be the `y` value on a graph and `t` would be the `x` value. `A` is the <i>annuity</i>, which is the amount you have at the end. `P` is the <i>principle</i>, which is the amount you have at the beginning. `R` (usually not capitalized) is the <i>rate</i>, a percent converted to a decimal. The exponent `t` represents <i>time</i>, usually in years. The code already prompts for `P`, `r` and `t`, so use those variables to calculate the annuity value."
      ]
    },
    {
      "cell_type": "code",
      "execution_count": null,
      "metadata": {
        "colab": {
          "base_uri": "https://localhost:8080/"
        },
        "id": "Vkp6zmxIllvT",
        "outputId": "c8b78438-fe45-4778-f0a8-08c53eb66c67"
      },
      "outputs": [
        {
          "name": "stdout",
          "output_type": "stream",
          "text": [
            "Starting amount = 10\n",
            "Enter the percentage rate, converted to a decimal: 5\n",
            "How many years will this investment grow? 8\n",
            "The annuity is  16796160.0\n",
            " \n",
            "Code test passed\n",
            "Go on to the next step\n"
          ]
        }
      ],
      "source": [
        "p = float(input(\"Starting amount = \"))\n",
        "r = float(input(\"Enter the percentage rate, converted to a decimal: \"))\n",
        "t = float(input(\"How many years will this investment grow? \"))\n",
        "\n",
        "# Change the next line to calculate the annuity\n",
        "a = p*(1+r)**t\n",
        "\n",
        "print(\"The annuity is \", a)\n",
        "\n",
        "\n",
        "# Only change code above this line\n",
        "import math_code_test_c as test\n",
        "test.step08(In[-1].split('# Only change code above this line')[0])"
      ]
    },
    {
      "cell_type": "markdown",
      "metadata": {
        "id": "Sx0kwIdalmmY"
      },
      "source": [
        "# Step 9 - Percent Decrease"
      ]
    },
    {
      "cell_type": "markdown",
      "metadata": {
        "id": "Wx7fXQDKlmmZ"
      },
      "source": [
        "The percent decrease formula is very similar, except you subtract the rate, so the formula is <b>A = P(1 - r)<sup>t</sup></b>. Some things that decrease by a percent include car values, decay of some elements, and sales discounts. Use the existing variables to calculate the final value (`a`)."
      ]
    },
    {
      "cell_type": "code",
      "execution_count": null,
      "metadata": {
        "colab": {
          "base_uri": "https://localhost:8080/"
        },
        "id": "zJmQoa6YlmmZ",
        "outputId": "6c161bcd-752c-4485-b469-e537348cb7f2"
      },
      "outputs": [
        {
          "name": "stdout",
          "output_type": "stream",
          "text": [
            "Starting amount = 2\n",
            "Enter the percentage rate, converted to a decimal: 4\n",
            "How many years will this decrease continue? 5\n",
            "The final amount is  -486.0\n",
            " \n",
            "Code test passed\n",
            "Go on to the next step\n"
          ]
        }
      ],
      "source": [
        "p = float(input(\"Starting amount = \"))\n",
        "r = float(input(\"Enter the percentage rate, converted to a decimal: \"))\n",
        "t = float(input(\"How many years will this decrease continue? \"))\n",
        "\n",
        "# Change the next line to calculate the final amount\n",
        "a = p*(1-r)**t\n",
        "\n",
        "print(\"The final amount is \", a)\n",
        "\n",
        "# Only change code above this line\n",
        "import math_code_test_c as test\n",
        "test.step09(In[-1].split('# Only change code above this line')[0])"
      ]
    },
    {
      "cell_type": "markdown",
      "metadata": {
        "id": "S-DVSzwDvKvE"
      },
      "source": [
        "#Step 10 - Compound Interest"
      ]
    },
    {
      "cell_type": "markdown",
      "metadata": {
        "id": "qf181QFOvCgd"
      },
      "source": [
        "When you use percent increase formulas for money in the bank, it's called <i>compound interest</i>. The amount of money you earn beyond the original principle is the interest. When the bank calculates the interest and adds it to the principle, that process is called <i>compounding</i> and it can happen any number of times per year. The formula is <b> A = P(1 + $\\frac{r}{n}$)<sup>nt</sup></b> where <i>n</i> is the number of times the bank compounds the money per year. Notice that if n = 1 then this formula is the same as the formula from an earlier step. Write the code to calculate the annuity (hint: use extra parentheses)."
      ]
    },
    {
      "cell_type": "code",
      "execution_count": null,
      "metadata": {
        "colab": {
          "base_uri": "https://localhost:8080/"
        },
        "id": "O0FAXixVvGXh",
        "outputId": "e637a713-b6b4-4f8e-8277-b02b91a510f5"
      },
      "outputs": [
        {
          "name": "stdout",
          "output_type": "stream",
          "text": [
            "Starting amount: 10\n",
            "Percentage rate, converted to a decimal: 12\n",
            "Number of years this investment will grow: 14\n",
            "Number of times compounded per year: 15\n",
            "The annuity is  4.0478654822379725e+54\n",
            " \n",
            "Code test passed\n",
            "Go on to the next step\n"
          ]
        }
      ],
      "source": [
        "p = float(input(\"Starting amount: \"))\n",
        "r = float(input(\"Percentage rate, converted to a decimal: \"))\n",
        "t = float(input(\"Number of years this investment will grow: \"))\n",
        "n = int(input(\"Number of times compounded per year: \"))\n",
        "\n",
        "# Change the next line to calculate the annuity\n",
        "annuity = p*(1+(r/n))**(n*t)\n",
        "\n",
        "print(\"The annuity is \", annuity)\n",
        "\n",
        "\n",
        "# Only change code above this line\n",
        "import math_code_test_c as test\n",
        "test.step10(In[-1].split('# Only change code above this line')[0])"
      ]
    },
    {
      "cell_type": "markdown",
      "metadata": {
        "id": "H6LTAPYplxvi"
      },
      "source": [
        "# Step 11 - Continuous Growth"
      ]
    },
    {
      "cell_type": "markdown",
      "metadata": {
        "id": "5oRPxD6olxvi"
      },
      "source": [
        "In the first formula, A = P(1 + r)<sup>t</sup>, money is compounded annually.<br>\n",
        "In the second formula, A = P(1 + $\\frac{r}{n})^{nt}$, money is compounded `n` times per year.<br>\n",
        "As `n` gets to be a really big number, you get a different formula, A = Pe$^{rt}$, for continuous growth.<br>\n",
        "In this formula, `e` is a constant, about equal to 2.718281828. The following code already prompts for the four variables once. Use those variables to compare the annuity from the three formulas. Notice you need to `import math` to use `math.e` (the best approximation of e)."
      ]
    },
    {
      "cell_type": "code",
      "execution_count": null,
      "metadata": {
        "colab": {
          "base_uri": "https://localhost:8080/"
        },
        "id": "kf3Q0Yg7lxvk",
        "outputId": "37355f66-2bad-4abb-92f4-7b241cf8c4c5"
      },
      "outputs": [
        {
          "name": "stdout",
          "output_type": "stream",
          "text": [
            "Principle: 1\n",
            "Rate: 2\n",
            "Time: 3\n",
            "N: 4\n",
            "Compounded annually, anuity =  27.0\n",
            "Compounded  4 times per year, anuity =  129.746337890625\n",
            "Compounded continuously, anuity =  403.428793492735\n",
            " \n",
            "Code test passed\n",
            "Go on to the next step\n"
          ]
        }
      ],
      "source": [
        "import math\n",
        "\n",
        "p = float(input(\"Principle: \"))\n",
        "r = float(input(\"Rate: \"))\n",
        "t = int(input(\"Time: \"))\n",
        "n = int(input(\"N: \"))\n",
        "\n",
        "# Only change the following three formulas:\n",
        "a_annual = p*(1+r)**t\n",
        "a_n_times = p*(1+r/n)**(n*t)\n",
        "a_continuous = p*math.e**(r*t) # use math.e in this formula\n",
        "\n",
        "# Only change the code above this line\n",
        "\n",
        "print(\"Compounded annually, anuity = \", a_annual)\n",
        "print(\"Compounded \", n, \"times per year, anuity = \", a_n_times)\n",
        "print(\"Compounded continuously, anuity = \", a_continuous)\n",
        "\n",
        "\n",
        "# Only change code above this line\n",
        "import math_code_test_c as test\n",
        "test.step11(In[-1].split('# Only change code above this line')[0])"
      ]
    },
    {
      "cell_type": "markdown",
      "metadata": {
        "id": "iaEBltZXln-Q"
      },
      "source": [
        "# Step 12 - Investments"
      ]
    },
    {
      "cell_type": "markdown",
      "metadata": {
        "id": "JTQ9uZw3UeGT"
      },
      "source": [
        "If you have an investment where you contrubute money every month and the value also increases by a consistent percentage, you can create a loop to calculate the accumulated value. In each iteration, use the <i>simple interest</i> formula: interest = principle * rate * time. (Hint: for one month, t = $\\frac{1}{12}$ or you can just divide by 12.)"
      ]
    },
    {
      "cell_type": "code",
      "execution_count": null,
      "metadata": {
        "colab": {
          "base_uri": "https://localhost:8080/"
        },
        "id": "t7sRzH5Oln-R",
        "outputId": "ef0aeaa4-86ff-4b26-8e93-144c2917b973"
      },
      "outputs": [
        {
          "name": "stdout",
          "output_type": "stream",
          "text": [
            "Starting amount: 1\n",
            "Annual percentage rate: 2\n",
            "Number of years: 3\n",
            "Monthly contribution: 4\n",
            "Annuity =  7427.596994723726\n",
            " \n",
            "Code test passed\n",
            "Go on to the next step\n"
          ]
        }
      ],
      "source": [
        "p = float(input(\"Starting amount: \"))\n",
        "r = float(input(\"Annual percentage rate: \"))\n",
        "t = int(input(\"Number of years: \"))\n",
        "monthly = float(input(\"Monthly contribution: \"))\n",
        "\n",
        "# Hint: keep updating this annuity variable in the loop\n",
        "annuity = p\n",
        "\n",
        "# Each iteration of the loop represents one month\n",
        "for a in range(12*t):\n",
        "    annuity = annuity + monthly\n",
        "    # Change the next line to calculate the interest\n",
        "    interest = annuity * r / 12\n",
        "    annuity = annuity + interest\n",
        "\n",
        "# Keep this line:\n",
        "print(\"Annuity = \", annuity)\n",
        "\n",
        "\n",
        "# Only change code above this line\n",
        "import math_code_test_c as test\n",
        "test.step12(p,r,t,monthly,annuity)"
      ]
    },
    {
      "cell_type": "markdown",
      "metadata": {
        "id": "l5GwlqRdlpEu"
      },
      "source": [
        "# Step 13 - Mortgage Payments"
      ]
    },
    {
      "cell_type": "markdown",
      "metadata": {
        "id": "50OH4hj8lpEv"
      },
      "source": [
        "When borrowing a large amount of money over a long period of time, the formula to calculate monthly payments gets complicated. Here it is:<br>\n",
        " monthly payment = P$\\frac{\\frac{r}{12}(1 + \\frac{r}{12})^{12t}}{(1 + \\frac{r}{12})^{12t} - 1}$ where, as usual, `P` is the principle, `r` is the annual interest rate (as a decimal), and  `t` is the time in years. Write the code to prompt for these variables and calculate the monthly payment. Hint: Use other variables and do this in steps."
      ]
    },
    {
      "cell_type": "code",
      "execution_count": null,
      "metadata": {
        "colab": {
          "base_uri": "https://localhost:8080/"
        },
        "id": "E5X8_WbnlpEv",
        "outputId": "c6a9b525-25d5-4f34-f4e3-9e8fcf2fdf56"
      },
      "outputs": [
        {
          "name": "stdout",
          "output_type": "stream",
          "text": [
            "Amount borrowed: 1000\n",
            "Annual percentage rate: 5\n",
            "Number of years: 5\n",
            "Monthly payment = $ 416.6666670163929\n",
            " \n",
            "Code test passed\n",
            "Go on to the next step\n"
          ]
        }
      ],
      "source": [
        "p = float(input(\"Amount borrowed: \"))\n",
        "r = float(input(\"Annual percentage rate: \"))\n",
        "t = float(input(\"Number of years: \"))\n",
        "\n",
        "# Write your code here and change the pmt variable\n",
        "\n",
        "m = r/12\n",
        "pmt = p * ((m * (1 + m)**(12*t))/((1 + m)**(12*t) - 1))\n",
        "\n",
        "\n",
        "print(\"Monthly payment = $\", pmt)\n",
        "\n",
        "\n",
        "# Only change code above this line\n",
        "import math_code_test_c as test\n",
        "test.step13(p,r,t,pmt)"
      ]
    },
    {
      "cell_type": "markdown",
      "metadata": {
        "id": "8vdTo36Pl0yv"
      },
      "source": [
        "# Step 14 - Exponents and Logarithms"
      ]
    },
    {
      "cell_type": "markdown",
      "metadata": {
        "id": "gyMju8CVl0yw"
      },
      "source": [
        "Exponential functions and logarithmic functions are inverses of each other. Here is an example: <b>2<sup>4</sup> = 16</b> and <b>log<sub>2</sub>16 = 4</b>. Both have the same information rearranged in different ways. If you had 2<sup>4</sup> = x you would be able to do that easily, but if you had 2<sup>x</sup> = 16 it would be more difficult. You could write that last equation as a logarithm: log<sub>2</sub>16 = x. In Python, you would write this as `math.log(16,2)`. In both cases, you would read it as \"the log, base 2, of 16\" and the answer would be an exponent. The logarithm is especially useful when the exponent is not a nice integer. Write code to prompt for the base and the result, then use logarithms to calculate the exponent."
      ]
    },
    {
      "cell_type": "code",
      "execution_count": null,
      "metadata": {
        "colab": {
          "base_uri": "https://localhost:8080/"
        },
        "id": "ehtA_ATbl0yw",
        "outputId": "65e7d8d8-dbea-419a-b069-2e7174df0621"
      },
      "outputs": [
        {
          "name": "stdout",
          "output_type": "stream",
          "text": [
            "base: 2\n",
            "result: 32\n",
            "exponent =  5.0\n",
            " \n",
            "Code test passed\n",
            "Go on to the next step\n"
          ]
        }
      ],
      "source": [
        "import math\n",
        "\n",
        "base = float(input(\"base: \"))\n",
        "result = float(input(\"result: \"))\n",
        "\n",
        "# Just change the next line:\n",
        "exp = math.log(result, base)\n",
        "\n",
        "print(\"exponent = \", exp)\n",
        "\n",
        "\n",
        "# Only change code above this line\n",
        "import math_code_test_c as test\n",
        "test.step14(In[-1].split('# Only change code above this line')[0])"
      ]
    },
    {
      "cell_type": "markdown",
      "metadata": {
        "id": "U_7bv7aG4UJe"
      },
      "source": [
        "# Step 15 - Natural Logs"
      ]
    },
    {
      "cell_type": "markdown",
      "metadata": {
        "id": "uKjifZw04UJe"
      },
      "source": [
        "If you know the rate, how long will it take for something to double?\n",
        "Start with the continuous growth formula:<br>\n",
        "A = Pe<sup>rt</sup><br>\n",
        "If annuity is two times the principle, divide both sides by P\n",
        "and get this:<br>\n",
        "2 = e<sup>rt</sup><br>\n",
        "Because of the base <i>e</i>, take the natural log of both sides and get this:<br>\n",
        "ln(2) = rt<br>\n",
        "Then divide by r to solve for t or divide by t to solve for r. In Python, use `math.log()` with one argument and no base to calculate natural log (which is a logarithm with base e). So the natural log of 2 is `math.log(2)`. Just run the code to see this example."
      ]
    },
    {
      "cell_type": "code",
      "execution_count": null,
      "metadata": {
        "colab": {
          "base_uri": "https://localhost:8080/"
        },
        "id": "dM3RxByK4UJe",
        "outputId": "cb4ca610-ac20-4c76-c17f-15e2d8f67abc"
      },
      "outputs": [
        {
          "name": "stdout",
          "output_type": "stream",
          "text": [
            "Enter the annual rate as a decimal: \n",
            "100\n",
            "Your money will double in  0.006931471805599453  years\n",
            "Code test passed\n",
            "Go on to the next step\n"
          ]
        }
      ],
      "source": [
        "import math\n",
        "\n",
        "r = float(input(\"Enter the annual rate as a decimal: \\n\"))\n",
        "t = math.log(2)/r\n",
        "print(\"Your money will double in \", t, \" years\")\n",
        "\n",
        "\n",
        "# Just run this code\n",
        "import math_code_test_c as test\n",
        "test.step00()"
      ]
    },
    {
      "cell_type": "markdown",
      "metadata": {
        "id": "B7DOz9nh4XAb"
      },
      "source": [
        "# Step 16 - Common Logs"
      ]
    },
    {
      "cell_type": "markdown",
      "metadata": {
        "id": "MD3dH5yF4XAb"
      },
      "source": [
        "The <i>common log</i> is base 10, because that is our number system. Run this code a few times to see how the exponents relate to moving the decimal point to get the resulting number. Notice the floor function. Then take out the floor function to see the exact logarithm."
      ]
    },
    {
      "cell_type": "code",
      "execution_count": null,
      "metadata": {
        "colab": {
          "base_uri": "https://localhost:8080/"
        },
        "id": "n390hG0GcEXI",
        "outputId": "4b656a95-78d3-49b0-c772-78b46f9b79e2"
      },
      "outputs": [
        {
          "name": "stdout",
          "output_type": "stream",
          "text": [
            "Enter a number with several digits or several decimal places: 50000\n",
            "exponent =  4.698970004336019\n",
            " \n",
            "Code test passed\n",
            "Go on to the next step\n"
          ]
        }
      ],
      "source": [
        "import math\n",
        "\n",
        "n = input('Enter a number with several digits or several decimal places: ')\n",
        "n = float(n)\n",
        "\n",
        "\n",
        "# Rund the code then change the next line:\n",
        "exp = math.log(n, 10)\n",
        "\n",
        "# This avoids a weird Python quirk:\n",
        "if n==1000:\n",
        "    exp = 3;\n",
        "\n",
        "print(\"exponent = \", exp)\n",
        "\n",
        "\n",
        "# Only change code above this line\n",
        "import math_code_test_c as test\n",
        "test.step16(In[-1].split('# Only change code above this line')[0])"
      ]
    },
    {
      "cell_type": "markdown",
      "metadata": {
        "id": "cqvLtj7t4VMN"
      },
      "source": [
        "# Step 17 - Scientific Notation"
      ]
    },
    {
      "cell_type": "markdown",
      "metadata": {
        "id": "-Uh4YmRt4VMN"
      },
      "source": [
        "<i>Scientific Notation</i> is a way of writing very large or very small numbers without all of the zeros or decimal places. For example, 45,000,000 could be written as 4.5 x 10<sup>7</sup> in scientific notation and 0.00000045 could be written as 4.5 x 10<sup>-7</sup>. The notation requires base 10, so it will always use the structure <b>n $*$ 10<sup>x</sup></b> where n is one digit then the decimal point. Change the code below to print each number in scientific notation. Determine the value of each variable by counting (not writing code). You will automate this process in the next step."
      ]
    },
    {
      "cell_type": "code",
      "execution_count": null,
      "metadata": {
        "colab": {
          "base_uri": "https://localhost:8080/"
        },
        "id": "UyPF6dKz4VMO",
        "outputId": "6553e454-c383-4d22-88c0-3d408daeb650"
      },
      "outputs": [
        {
          "name": "stdout",
          "output_type": "stream",
          "text": [
            "156000000000  =  1.56 * 10^ 11\n",
            "4.13e-10  =  4.13 * 10^ -10\n",
            " \n",
            "Code test passed\n",
            "Go on to the next step\n"
          ]
        }
      ],
      "source": [
        "a = 156000000000\n",
        "b = 0.000000000413\n",
        "\n",
        "# Change the code below this line\n",
        "\n",
        "a1 = 1.56\n",
        "a2 = 11\n",
        "b1 = 4.13\n",
        "b2 = -10\n",
        "\n",
        "print(a, \" = \", a1, \"* 10^\", a2)\n",
        "\n",
        "print(b, \" = \", b1, \"* 10^\", b2)\n",
        "\n",
        "\n",
        "# Only change code above this line\n",
        "import math_code_test_c as test\n",
        "test.step17(b1,b2)"
      ]
    },
    {
      "cell_type": "markdown",
      "metadata": {
        "id": "GsLj1NhZl1ya"
      },
      "source": [
        "#Step 18 - Logs and Scientific Notation"
      ]
    },
    {
      "cell_type": "markdown",
      "metadata": {
        "id": "uhWbIGVml1yb"
      },
      "source": [
        "Writing code for scientific notation, you will make use of logarithms with base 10. Remember that scientific notation is in the form n $*$ 10<sup>x</sup> where `n` is one digit and then a decimal. To convert a number to scientific notation, take the log of the number and use the `floor()` function to get the expoenent (just as you did in a previous step). Divide the original number by 10 to that exponent and you get `n` (hint: dividing by 10<sup>x</sup> is the same as multiplying by 10<sup>-x</sup>). Rounding is usually necessary. Write the code to convert numbers to scientific notation."
      ]
    },
    {
      "cell_type": "code",
      "execution_count": null,
      "metadata": {
        "colab": {
          "base_uri": "https://localhost:8080/"
        },
        "id": "y8PXrFCYl1yb",
        "outputId": "f16f7f25-75bb-451f-b76c-6cd03569f384"
      },
      "outputs": [
        {
          "name": "stdout",
          "output_type": "stream",
          "text": [
            "a =  2.34 * 10^ -12\n",
            "b =  1.23 * 10^ 13\n",
            " \n",
            "Code test passed\n",
            "Go on to the next step\n"
          ]
        }
      ],
      "source": [
        "import math\n",
        "\n",
        "a = .00000000000234\n",
        "b = 12300000000000\n",
        "\n",
        "# Use these three lines as a model\n",
        "x1 = math.floor(math.log(a,10))\n",
        "n1 = round(a*10**(-x1),2)\n",
        "print(\"a = \", n1, \"* 10^\", x1)\n",
        "\n",
        "# Change the next two lines to match the model\n",
        "x2 = math.floor(math.log(b, 10))\n",
        "n2 = round(b*10**(-x2), 2)\n",
        "print(\"b = \", n2, \"* 10^\", x2)\n",
        "\n",
        "\n",
        "\n",
        "# Only change code above this line\n",
        "import math_code_test_c as test\n",
        "test.step18(In[-1].split('# Only change code above this line')[0])"
      ]
    },
    {
      "cell_type": "markdown",
      "metadata": {
        "id": "d7Lc9KfMYU8Y"
      },
      "source": [
        "# Step 19 - Scientific Notation Conversion"
      ]
    },
    {
      "cell_type": "markdown",
      "metadata": {
        "id": "21gdVKfeYc5R"
      },
      "source": [
        "Now ask for a number as input, and write the code to convert that number into scientific notation. You can re-use code you used in the previous step, using `n` and `x` as variables to print n * 10^x."
      ]
    },
    {
      "cell_type": "code",
      "execution_count": null,
      "metadata": {
        "colab": {
          "base_uri": "https://localhost:8080/"
        },
        "id": "VkOkpmrP4XAb",
        "outputId": "ecc39182-1e41-4449-ca80-5eade0affb37"
      },
      "outputs": [
        {
          "name": "stdout",
          "output_type": "stream",
          "text": [
            "Enter a number to convert to scientific notation: 45000\n",
            "45000.0  =  4.5  * 10^ 4\n",
            " \n",
            "Code test passed\n",
            "Go on to the next step\n"
          ]
        }
      ],
      "source": [
        "import math\n",
        "\n",
        "a = float(input('Enter a number to convert to scientific notation: '))\n",
        "\n",
        "# write your code here\n",
        "x = math.floor(math.log(a,10))\n",
        "n = round(a*10**(-x),2)\n",
        "\n",
        "print(a, \" = \", n, \" * 10^\", x)\n",
        "\n",
        "# Only change code above this line\n",
        "import math_code_test_c as test\n",
        "test.step19(In[-1].split('# Only change code above this line')[0])"
      ]
    },
    {
      "cell_type": "markdown",
      "metadata": {
        "id": "VkD30ljxlyw9"
      },
      "source": [
        "# Step 20 - Graphing Exponents and Logs"
      ]
    },
    {
      "cell_type": "markdown",
      "metadata": {
        "id": "A7YL0fIdlyw-"
      },
      "source": [
        "When not writing code, the <i>natural log</i> is written as \"ln\" and it means a logarithm with base e. Like any pair of inverse functions, the line y = e<sup>x</sup> and the line y = ln(x) are mirrored over the line y = x.  Because of the `np.linspace()` function in this code, `np.log()` works, but `math.log()` does not work here. Both log() functions in Python use e as the base by default. When using the `numpy` library, use `np.log10()` for base 10, `np.log2()` for base 2, etc. Because log functions can only have positive x values, the np.linspace() function will define a positive range for the log() function. Run this code, then change the blue line function to graph y = 2<sup>x</sup> and change the green line function to graph y = log<sub>2</sub>x and notice the similarities between the graphs."
      ]
    },
    {
      "cell_type": "code",
      "execution_count": null,
      "metadata": {
        "colab": {
          "base_uri": "https://localhost:8080/",
          "height": 487
        },
        "id": "fJiDmoW1lyw_",
        "outputId": "8245ba94-84de-4547-cd5a-464c13a26895"
      },
      "outputs": [
        {
          "data": {
            "image/png": "[encoded data removed]",
            "text/plain": [
              "<Figure size 640x480 with 1 Axes>"
            ]
          },
          "metadata": {},
          "output_type": "display_data"
        },
        {
          "name": "stdout",
          "output_type": "stream",
          "text": [
            " \n",
            "Code test passed\n",
            "Go on to the next step\n"
          ]
        }
      ],
      "source": [
        "import matplotlib.pyplot as plt\n",
        "import numpy as np\n",
        "import math\n",
        "\n",
        "xmin = -10\n",
        "xmax = 10\n",
        "ymin = -10\n",
        "ymax = 10\n",
        "plt.axis([xmin,xmax,ymin,ymax]) # window size\n",
        "plt.plot([xmin,xmax],[0,0],'k') # x axis\n",
        "plt.plot([0,0],[ymin,ymax], 'k') # y axis\n",
        "\n",
        "# Same x values for two lines\n",
        "x1 = np.linspace(xmin, xmax, 1000)\n",
        "\n",
        "# Blue line for y = e^x\n",
        "plt.plot(x1, 2**x1, 'b')  # Change this line\n",
        "\n",
        "# Red line for y = x\n",
        "plt.plot(x1, x1, 'r')\n",
        "\n",
        "# Different x values for y = log(x) because x > 0\n",
        "x2 = np.linspace(.001, xmax, 500)\n",
        "\n",
        "# Green line for y = log(x)\n",
        "plt.plot(x2, np.log2(x2), 'g')  # Change this line\n",
        "\n",
        "plt.show()\n",
        "\n",
        "\n",
        "# Only change code above this line\n",
        "import math_code_test_c as test\n",
        "test.step20(In[-1].split('# Only change code above this line')[0])"
      ]
    },
    {
      "cell_type": "markdown",
      "metadata": {
        "id": "bJzxcKIfz8Qt"
      },
      "source": [
        "# Step 21 - Log Application - pH Scale"
      ]
    },
    {
      "cell_type": "markdown",
      "metadata": {
        "id": "pfF3voqSz8Q9"
      },
      "source": [
        "The pH scale, for measuring acids and bases, is a logarithmic scale. The negative log of the hydrogen concentration is the pH. Example: if the hydrogen concentration is .007 then that would be 7 * 10<sup>-3</sup> and therefore a pH of 3. Write the code to prompt for hydrogen concentration and then print the pH. Hint: the <i>ceiling</i> function (`math.ceil()`) works better than rounding here."
      ]
    },
    {
      "cell_type": "code",
      "execution_count": null,
      "metadata": {
        "colab": {
          "base_uri": "https://localhost:8080/"
        },
        "id": "tepkvSubz8Q9",
        "outputId": "5d42706e-2f7f-422a-ff37-8b33b7786a25"
      },
      "outputs": [
        {
          "name": "stdout",
          "output_type": "stream",
          "text": [
            "Enter the hydrogen concentration as a decimal number: 0.007\n",
            "pH =  3\n",
            " \n",
            "Code test passed\n"
          ]
        }
      ],
      "source": [
        "import math\n",
        "\n",
        "decimal = float(input(\"Enter the hydrogen concentration as a decimal number: \"))\n",
        "\n",
        "# Write your code here\n",
        "h = math.ceil(-math.log(decimal, 10))\n",
        "\n",
        "print(\"pH = \", h)\n",
        "\n",
        "# Only change code above this line\n",
        "import math_code_test_c as test\n",
        "test.step21(In[-1].split('# Only change code above this line')[0])"
      ]
    },
    {
      "cell_type": "markdown",
      "metadata": {
        "id": "8iWUAktvPLYp"
      },
      "source": [
        "# Step 22 - Functions for the Project"
      ]
    },
    {
      "cell_type": "markdown",
      "metadata": {
        "id": "a9gRwbr-PGPC"
      },
      "source": [
        "Define a function for calculating mortgage payments and a function for calculating investment balance. Use code you wrote in earlier steps. Each function should prompt for input and print the output."
      ]
    },
    {
      "cell_type": "code",
      "execution_count": null,
      "metadata": {
        "id": "neFvvCOzO_WB"
      },
      "outputs": [],
      "source": [
        "def mortgage():\n",
        "    p = float(input(\"Amount borrowed: \"))\n",
        "    r = float(input(\"Annual percentage rate (e.g., 5 for 5%): \")) / 100\n",
        "    t = float(input(\"Number of years: \"))\n",
        "\n",
        "    monthly_rate = r / 12\n",
        "    pmt = p * ((monthly_rate * (1 + monthly_rate)**(12 * t)) /\n",
        "               ((1 + monthly_rate)**(12 * t) - 1))\n",
        "\n",
        "    print(\"Monthly payment = ${:.2f}\".format(pmt))\n",
        "    return pmt\n",
        "\n",
        "\n",
        "def invest_balance():\n",
        "    p = float(input(\"Starting amount: \"))\n",
        "    r = float(input(\"Annual percentage rate (e.g., 5 for 5%): \")) / 100\n",
        "    t = int(input(\"Number of years: \"))\n",
        "    monthly = float(input(\"Monthly contribution: \"))\n",
        "\n",
        "    balance = p\n",
        "    for _ in range(12 * t):  # Each iteration represents one month\n",
        "        balance += monthly\n",
        "        interest = balance * (r / 12)\n",
        "        balance += interest\n",
        "\n",
        "    print(\"Final balance = ${:.2f}\".format(balance))\n",
        "    return balance\n"
      ]
    },
    {
      "cell_type": "markdown",
      "metadata": {
        "id": "rzaQj8dEOfzb"
      },
      "source": [
        "# Step 23 - More Functions"
      ]
    },
    {
      "cell_type": "markdown",
      "metadata": {
        "id": "C6OV8KzQOTS_"
      },
      "source": [
        "Create a function that produces an interactive polynomial graph (with sliders). Use code from an earlier step."
      ]
    },
    {
      "cell_type": "code",
      "execution_count": null,
      "metadata": {
        "colab": {
          "base_uri": "https://localhost:8080/",
          "height": 531,
          "referenced_widgets": [
            "a6f680243652424094944ed810102a83",
            "c5771042258f40b3839fb96338343d6c",
            "21095bdba02645158d802394e4a09ed2",
            "56e9fd01a8db441dbb1e6422f48ea264",
            "531f4d4d65374d32bc72110a022e4efc",
            "903c6a1a90c440848fde82dad1d28a23",
            "5dda81a7376a4fa0a650d7cc6c525893",
            "d8d57ec93dbd4f2ba8d1947b3312ccde",
            "50dd16dc6d2647d6bb4463f8d014770f",
            "b820bbc786c44377b2878d298d789b93",
            "4b0ac759c245400fa1acd4334717e67f",
            "9600c57a3b0943789fd83fae1bebb6ac",
            "f0015f08d564420eb37fe7549e1c7b8d"
          ]
        },
        "id": "6cGh0vE1OYyC",
        "outputId": "cca6574b-8ba7-4914-8110-899daf5547ea"
      },
      "outputs": [
        {
          "data": {
            "application/vnd.jupyter.widget-view+json": {
              "model_id": "a6f680243652424094944ed810102a83",
              "version_major": 2,
              "version_minor": 0
            },
            "text/plain": [
              "interactive(children=(IntSlider(value=0, description='a', max=9, min=-9), IntSlider(value=0, description='b', …"
            ]
          },
          "metadata": {},
          "output_type": "display_data"
        }
      ],
      "source": [
        "# Write your code here\n",
        "\n",
        "def polynomial_graph():\n",
        "\n",
        "  %matplotlib inline\n",
        "  from ipywidgets import interactive\n",
        "  import matplotlib.pyplot as plt\n",
        "  import numpy as np\n",
        "\n",
        "  def f(a, b, c):\n",
        "    plt.axis([-10,10,-10,10]) # window size\n",
        "    plt.plot([-10,10],[0,0],'k') # blue x axis\n",
        "    plt.plot([0,0],[-10,10], 'k') # blue y axis\n",
        "    x = np.linspace(-10, 10, 200)\n",
        "    plt.plot(x, a*x**2+b*x+c) # Change this line\n",
        "    plt.show()\n",
        "\n",
        "  interactive_plot = interactive(f, a=(-9, 9), b=(-9, 9), c=(-9, 9))\n",
        "  display(interactive_plot)\n",
        "\n",
        "polynomial_graph()\n",
        "\n",
        "# This step does not have a test"
      ]
    },
    {
      "cell_type": "markdown",
      "metadata": {
        "id": "UptjjiCOTSS2"
      },
      "source": [
        "# Step 24 - New Function"
      ]
    },
    {
      "cell_type": "markdown",
      "metadata": {
        "id": "XKXNbHzGTKAp"
      },
      "source": [
        "Create a function to print the time required for money to double, given the rate. Use the continuous growth formula from an earlier step."
      ]
    },
    {
      "cell_type": "code",
      "execution_count": null,
      "metadata": {
        "colab": {
          "base_uri": "https://localhost:8080/"
        },
        "id": "kWs_IpxrTYyl",
        "outputId": "f786228c-2726-4ed3-82c3-68bff4c16502"
      },
      "outputs": [
        {
          "name": "stdout",
          "output_type": "stream",
          "text": [
            "Enter the annual rate as a decimal: \n",
            "15\n",
            "Your money will double in  0.046209812037329684  years\n",
            "Code test passed\n",
            "Go on to the next step\n"
          ]
        }
      ],
      "source": [
        "# Write your code here\n",
        "\n",
        "import math\n",
        "\n",
        "r = float(input(\"Enter the annual rate as a decimal: \\n\"))\n",
        "t = math.log(2)/r\n",
        "print(\"Your money will double in \", t, \" years\")\n",
        "\n",
        "# This step does not have a test"
      ]
    },
    {
      "cell_type": "markdown",
      "metadata": {
        "id": "CRa5i8s3UCuL"
      },
      "source": [
        "# Step 25 - Certification Project 3"
      ]
    },
    {
      "cell_type": "markdown",
      "metadata": {
        "id": "nngVpvqeT4U7"
      },
      "source": [
        "Build a financial app that does all of the following:<br>\n",
        "<ul>\n",
        "<li>Calculate annuity with monthly or continuous growth</li>\n",
        "<li>Calculate monthly mortgage payment</li>\n",
        "<li>Estimate retirement investment balance</li>\n",
        "<li>Determine how long until an amount doubles, given the rate</li>\n",
        "<li>Solve logarithmic equations</li>\n",
        "<li>Convert to (and from) scientific notation</li>\n",
        "</ul>"
      ]
    },
    {
      "cell_type": "code",
      "execution_count": null,
      "metadata": {
        "colab": {
          "base_uri": "https://localhost:8080/"
        },
        "id": "fa2o--pDT-Sd",
        "outputId": "6f887bc0-95b1-4ae7-a646-5d25d3fdf16e"
      },
      "outputs": [
        {
          "name": "stdout",
          "output_type": "stream",
          "text": [
            "\n",
            "Financial Calculator Menu\n",
            "1. Calculate Annuity Monthly Growth\n",
            "2. Calculate Mortgage Payment\n",
            "3. Estimate Retirement Balance\n",
            "4. Determine Time for Investment to Double\n",
            "5. Solve a Logarithm\n",
            "6. Convert to Scientific Notation\n",
            "7. Convert from Scientific Notation\n",
            "8. Exit\n",
            "Enter your choice (1-8): 6\n",
            "Enter a number to convert to scientific notation: 0.00085\n",
            "0.00085  =  8.5  * 10^ -4\n",
            "\n",
            "Financial Calculator Menu\n",
            "1. Calculate Annuity Monthly Growth\n",
            "2. Calculate Mortgage Payment\n",
            "3. Estimate Retirement Balance\n",
            "4. Determine Time for Investment to Double\n",
            "5. Solve a Logarithm\n",
            "6. Convert to Scientific Notation\n",
            "7. Convert from Scientific Notation\n",
            "8. Exit\n",
            "Enter your choice (1-8): 7\n",
            "Scientific notation consists of a number and its multiplier eg. 4.5 * 10^5\n",
            "Enter the first part (number): 98\n",
            "Enter the exponent of 10 (multiplier): 7\n",
            "x =  980000000.0\n",
            "\n",
            "Financial Calculator Menu\n",
            "1. Calculate Annuity Monthly Growth\n",
            "2. Calculate Mortgage Payment\n",
            "3. Estimate Retirement Balance\n",
            "4. Determine Time for Investment to Double\n",
            "5. Solve a Logarithm\n",
            "6. Convert to Scientific Notation\n",
            "7. Convert from Scientific Notation\n",
            "8. Exit\n",
            "Enter your choice (1-8): 3\n",
            "Retirement Investment Balance Estimator\n",
            "Initial investment amount: 10\n",
            "Monthly contribution: 12\n",
            "Annual percentage rate (e.g., 5 for 5%): 5\n",
            "Number of years until retirement: 20\n",
            "Estimated retirement balance = $4980.08\n",
            "\n",
            "Financial Calculator Menu\n",
            "1. Calculate Annuity Monthly Growth\n",
            "2. Calculate Mortgage Payment\n",
            "3. Estimate Retirement Balance\n",
            "4. Determine Time for Investment to Double\n",
            "5. Solve a Logarithm\n",
            "6. Convert to Scientific Notation\n",
            "7. Convert from Scientific Notation\n",
            "8. Exit\n",
            "Enter your choice (1-8): 8\n",
            "Exiting the program. Goodbye!\n"
          ]
        }
      ],
      "source": [
        "# Write your code here\n",
        "\n",
        "import math\n",
        "\n",
        "def calc_annuity_monthly_growth():\n",
        "  p = float(input(\"Starting amount = \"))\n",
        "  r = float(input(\"Enter the percentage rate, converted to a decimal: \"))\n",
        "  t = float(input(\"How many years will this investment grow? \"))\n",
        "\n",
        "  a = p*(1+r)**t\n",
        "\n",
        "  print(\"The annuity is \", a)\n",
        "  return a\n",
        "\n",
        "\n",
        "def mortgage_payment():\n",
        "  p = float(input(\"Amount borrowed: \"))\n",
        "  r = float(input(\"Annual percentage rate: \"))\n",
        "  t = float(input(\"Number of years: \"))\n",
        "\n",
        "  m = r/12\n",
        "  pmt = p * ((m * (1 + m)**(12*t))/((1 + m)**(12*t) - 1))\n",
        "\n",
        "  print(\"Monthly payment = $\", pmt)\n",
        "  return pmt\n",
        "\n",
        "def retirement_balance():\n",
        "    print(\"Retirement Investment Balance Estimator\")\n",
        "    initial_investment = float(input(\"Initial investment amount: \"))\n",
        "    monthly_contribution = float(input(\"Monthly contribution: \"))\n",
        "    annual_rate = float(input(\"Annual percentage rate (e.g., 5 for 5%): \")) / 100\n",
        "    years = int(input(\"Number of years until retirement: \"))\n",
        "\n",
        "    balance = initial_investment\n",
        "    for _ in range(12 * years):\n",
        "        balance += monthly_contribution\n",
        "        balance += balance * (annual_rate / 12)\n",
        "\n",
        "    print(\"Estimated retirement balance = ${:.2f}\".format(balance))\n",
        "    return balance\n",
        "\n",
        "\n",
        "\n",
        "def investment_doubles():\n",
        "  r = float(input(\"Enter the annual rate as a decimal: \\n\"))\n",
        "  t = math.log(2)/r\n",
        "  print(\"Your money will double in \", t, \" years\")\n",
        "\n",
        "def solve_logarithm():\n",
        "  import math\n",
        "\n",
        "  base = float(input(\"base: \"))\n",
        "  result = float(input(\"result: \"))\n",
        "\n",
        "  exp = math.log(result, base)\n",
        "\n",
        "  print(\"exponent = \", exp)\n",
        "  return exp\n",
        "\n",
        "def convert_to_scientific_notation():\n",
        "  import math\n",
        "\n",
        "  a = float(input('Enter a number to convert to scientific notation: '))\n",
        "\n",
        "  x = math.floor(math.log(a,10))\n",
        "  n = round(a*10**(-x),2)\n",
        "\n",
        "  print(a, \" = \", n, \" * 10^\", x)\n",
        "\n",
        "\n",
        "\n",
        "def convert_from_scientific_notation():\n",
        "  import math\n",
        "  print(\"Scientific notation consists of a number and its multiplier eg. 4.5 * 10^5\")\n",
        "  a = float(input('Enter the first part (number): '))\n",
        "  b = int(input(\"Enter the exponent of 10 (multiplier): \"))\n",
        "\n",
        "  print(\"x = \", a*10**b)\n",
        "\n",
        "def main_menu():\n",
        "    while True:\n",
        "        print(\"\\nFinancial Calculator Menu\")\n",
        "        print(\"1. Calculate Annuity Monthly Growth\")\n",
        "        print(\"2. Calculate Mortgage Payment\")\n",
        "        print(\"3. Estimate Retirement Balance\")\n",
        "        print(\"4. Determine Time for Investment to Double\")\n",
        "        print(\"5. Solve a Logarithm\")\n",
        "        print(\"6. Convert to Scientific Notation\")\n",
        "        print(\"7. Convert from Scientific Notation\")\n",
        "        print(\"8. Exit\")\n",
        "\n",
        "        choice = input(\"Enter your choice (1-8): \")\n",
        "\n",
        "        if choice == \"1\":\n",
        "            calc_annuity_monthly_growth()\n",
        "        elif choice == \"2\":\n",
        "            mortgage_payment()\n",
        "        elif choice == \"3\":\n",
        "            retirement_balance()\n",
        "        elif choice == \"4\":\n",
        "            investment_doubles()\n",
        "        elif choice == \"5\":\n",
        "            solve_logarithm()\n",
        "        elif choice == \"6\":\n",
        "            convert_to_scientific_notation()\n",
        "        elif choice == \"7\":\n",
        "            convert_from_scientific_notation()\n",
        "        elif choice == \"8\":\n",
        "            print(\"Exiting the program. Goodbye!\")\n",
        "            break\n",
        "        else:\n",
        "            print(\"Invalid choice. Please select a valid option.\")\n",
        "\n",
        "main_menu()\n",
        "\n",
        "\n",
        "\n",
        "# This step does not have a test"
      ]
    }
  ],
  "metadata": {
    "colab": {
      "collapsed_sections": [
        "szp5flp1fA8-",
        "rzaQj8dEOfzb",
        "UptjjiCOTSS2"
      ],
      "provenance": []
    },
    "kernelspec": {
      "display_name": "Python 3",
      "name": "python3"
    },
    "language_info": {
      "name": "python"
    },
    "widgets": {
      "application/vnd.jupyter.widget-state+json": {
        "0f9086256c8546f38b5378ffbbc69134": {
          "model_module": "@jupyter-widgets/controls",
          "model_module_version": "1.5.0",
          "model_name": "VBoxModel",
          "state": {
            "_dom_classes": [
              "widget-interact"
            ],
            "_model_module": "@jupyter-widgets/controls",
            "_model_module_version": "1.5.0",
            "_model_name": "VBoxModel",
            "_view_count": null,
            "_view_module": "@jupyter-widgets/controls",
            "_view_module_version": "1.5.0",
            "_view_name": "VBoxView",
            "box_style": "",
            "children": [
              "IPY_MODEL_35c6201c583b4bc3973fbaa4cfd740ae",
              "IPY_MODEL_7c34ceb5824b4c6992e2257de2693e17",
              "IPY_MODEL_b93c88aa611448f4a70e5a8542c958cc",
              "IPY_MODEL_a28a35ce8d644e8ea0133a0bf6919e13"
            ],
            "layout": "IPY_MODEL_52fe7b79080840049b307fbaf849fb4f"
          }
        },
        "21095bdba02645158d802394e4a09ed2": {
          "model_module": "@jupyter-widgets/controls",
          "model_module_version": "1.5.0",
          "model_name": "IntSliderModel",
          "state": {
            "_dom_classes": [],
            "_model_module": "@jupyter-widgets/controls",
            "_model_module_version": "1.5.0",
            "_model_name": "IntSliderModel",
            "_view_count": null,
            "_view_module": "@jupyter-widgets/controls",
            "_view_module_version": "1.5.0",
            "_view_name": "IntSliderView",
            "continuous_update": true,
            "description": "b",
            "description_tooltip": null,
            "disabled": false,
            "layout": "IPY_MODEL_50dd16dc6d2647d6bb4463f8d014770f",
            "max": 9,
            "min": -9,
            "orientation": "horizontal",
            "readout": true,
            "readout_format": "d",
            "step": 1,
            "style": "IPY_MODEL_b820bbc786c44377b2878d298d789b93",
            "value": 0
          }
        },
        "35c6201c583b4bc3973fbaa4cfd740ae": {
          "model_module": "@jupyter-widgets/controls",
          "model_module_version": "1.5.0",
          "model_name": "IntSliderModel",
          "state": {
            "_dom_classes": [],
            "_model_module": "@jupyter-widgets/controls",
            "_model_module_version": "1.5.0",
            "_model_name": "IntSliderModel",
            "_view_count": null,
            "_view_module": "@jupyter-widgets/controls",
            "_view_module_version": "1.5.0",
            "_view_name": "IntSliderView",
            "continuous_update": true,
            "description": "a",
            "description_tooltip": null,
            "disabled": false,
            "layout": "IPY_MODEL_5310b570d27649a59ea697c9e4ec54aa",
            "max": 9,
            "min": -9,
            "orientation": "horizontal",
            "readout": true,
            "readout_format": "d",
            "step": 1,
            "style": "IPY_MODEL_82d2547d935e435cb3d4f64defecc464",
            "value": 3
          }
        },
        "3708d951175e4fcca34ea2660e4a6137": {
          "model_module": "@jupyter-widgets/controls",
          "model_module_version": "1.5.0",
          "model_name": "SliderStyleModel",
          "state": {
            "_model_module": "@jupyter-widgets/controls",
            "_model_module_version": "1.5.0",
            "_model_name": "SliderStyleModel",
            "_view_count": null,
            "_view_module": "@jupyter-widgets/base",
            "_view_module_version": "1.2.0",
            "_view_name": "StyleView",
            "description_width": "",
            "handle_color": null
          }
        },
        "3fa78f871939400e908f7042b813788f": {
          "model_module": "@jupyter-widgets/base",
          "model_module_version": "1.2.0",
          "model_name": "LayoutModel",
          "state": {
            "_model_module": "@jupyter-widgets/base",
            "_model_module_version": "1.2.0",
            "_model_name": "LayoutModel",
            "_view_count": null,
            "_view_module": "@jupyter-widgets/base",
            "_view_module_version": "1.2.0",
            "_view_name": "LayoutView",
            "align_content": null,
            "align_items": null,
            "align_self": null,
            "border": null,
            "bottom": null,
            "display": null,
            "flex": null,
            "flex_flow": null,
            "grid_area": null,
            "grid_auto_columns": null,
            "grid_auto_flow": null,
            "grid_auto_rows": null,
            "grid_column": null,
            "grid_gap": null,
            "grid_row": null,
            "grid_template_areas": null,
            "grid_template_columns": null,
            "grid_template_rows": null,
            "height": null,
            "justify_content": null,
            "justify_items": null,
            "left": null,
            "margin": null,
            "max_height": null,
            "max_width": null,
            "min_height": null,
            "min_width": null,
            "object_fit": null,
            "object_position": null,
            "order": null,
            "overflow": null,
            "overflow_x": null,
            "overflow_y": null,
            "padding": null,
            "right": null,
            "top": null,
            "visibility": null,
            "width": null
          }
        },
        "3fde7dda8e79455e83011f8f9a998750": {
          "model_module": "@jupyter-widgets/output",
          "model_module_version": "1.0.0",
          "model_name": "OutputModel",
          "state": {
            "_dom_classes": [],
            "_model_module": "@jupyter-widgets/output",
            "_model_module_version": "1.0.0",
            "_model_name": "OutputModel",
            "_view_count": null,
            "_view_module": "@jupyter-widgets/output",
            "_view_module_version": "1.0.0",
            "_view_name": "OutputView",
            "layout": "IPY_MODEL_e179884133f04e789ba6663b65c72a2a",
            "msg_id": "",
            "outputs": [
              {
                "data": {
                  "image/png": "iVBORw0KGgoAAAANSUhEUgAAAkMAAAGiCAYAAADkycIhAAAAOnRFWHRTb2Z0d2FyZQBNYXRwbG90bGliIHZlcnNpb24zLjEwLjAsIGh0dHBzOi8vbWF0cGxvdGxpYi5vcmcvlHJYcgAAAAlwSFlzAAAPYQAAD2EBqD+naQAAM7VJREFUeJzt3Xt8FOXd///3hiQbkrAbc04khIAKiIB4SqGKUHKDyq1FrXc9VEEpHu5oFagV7ltF9LYgHqu1oo8q+L3Fqtw/T9VWBBUs5VBFIgWBEgyEU4KAySYL2Rz2+v0RshpzICSbTHbn9Xw85mFm5prZzzCyeXPNNTMOY4wRAACATUVYXQAAAICVCEMAAMDWCEMAAMDWCEMAAMDWCEMAAMDWCEMAAMDWCEMAAMDWCEMAAMDWCEMAAMDWCEMAAMDWOjUMffrpp7r00kuVmZkph8Oht99+u9F6Y4zuv/9+ZWRkqGfPnsrLy9P27dsbtTl8+LCuu+46uVwuJSQkaMqUKaqsrOzMsgEAgI10ahjyer0aNmyYnn322WbXz58/X08//bQWLFigdevWKS4uTuPHj1dVVVWgzXXXXafNmzdr2bJleu+99/Tpp5/q5ptv7syyAQCAjTi66kWtDodDb731liZOnCipvlcoMzNTM2bM0K9//WtJUnl5udLS0rRo0SJdffXV2rJli04//XR99tlnOueccyRJH3zwgS655BLt2bNHmZmZXVE6AAAIY5FWfXBRUZFKSkqUl5cXWOZ2u5Wbm6s1a9bo6quv1po1a5SQkBAIQpKUl5eniIgIrVu3Tpdffnmz+/b5fPL5fIF5v9+vw4cPKykpSQ6Ho/MOCgAABI0xRhUVFcrMzFREROddzLIsDJWUlEiS0tLSGi1PS0sLrCspKVFqamqj9ZGRkUpMTAy0ac7cuXM1Z86cIFcMAACssHv3bvXu3bvT9m9ZGOpMs2bN0vTp0wPz5eXl6tOnj3bv3i2Xy2VhZQCCyev1Bi6X79u3T3FxcRZXBCCYPB6PsrKy1KtXr079HMvCUHp6uiSptLRUGRkZgeWlpaU688wzA20OHDjQaLva2lodPnw4sH1znE6nnE5nk+Uul4swBISRHj16BH52uVyEISBMdfYQF8ueM5STk6P09HR99NFHgWUej0fr1q3TiBEjJEkjRoxQWVmZ1q9fH2jz8ccfy+/3Kzc3t8trBgAA4adTe4YqKytVWFgYmC8qKlJBQYESExPVp08f3XXXXfqf//kfnXrqqcrJydF9992nzMzMwB1ngwYN0kUXXaSpU6dqwYIFqqmp0e23366rr76aO8kAAEBQdGoY+vzzzzVmzJjAfMM4nkmTJmnRokX6zW9+I6/Xq5tvvlllZWU6//zz9cEHHygmJiawzeLFi3X77bdr7NixioiI0JVXXqmnn366M8sGAAA20mXPGbKSx+OR2+1WeXk5Y4aAMOL1ehUfHy+pvieaMUNAeOmq39+8mwwAANgaYQgAANgaYQgAANgaYQgAANgaYQgAANgaYQgAANgaYQgAANgaYQgAANgaYQgAANgaYQgAANgaYQgAANgaYQgAANgaYQgAANgaYQgAANgaYQgAANgaYQgAANgaYQgAANgaYQgAANgaYQgAANgaYQgAANgaYQgAANgaYQgAANgaYQgAANgaYQgAANgaYQgAANgaYQgAANgaYQgAANgaYQgAANgaYQgAANgaYQgAANgaYQgAANgaYQgAANgaYQgAANgaYQgAANgaYQgAANia5WGob9++cjgcTab8/HxJ0ujRo5usu/XWWy2uGgAAhItIqwv47LPPVFdXF5jftGmT/u3f/k1XXXVVYNnUqVP14IMPBuZjY2O7tEYAABC+LA9DKSkpjebnzZun/v3768ILLwwsi42NVXp6eleXBgAAbMDyy2TfV11drVdeeUU33XSTHA5HYPnixYuVnJysM844Q7NmzdKRI0da3Y/P55PH42k0AQAANMfynqHve/vtt1VWVqbJkycHll177bXKzs5WZmamNm7cqHvuuUfbtm3Tm2++2eJ+5s6dqzlz5nRBxQAAINQ5jDHG6iIajB8/XtHR0frzn//cYpuPP/5YY8eOVWFhofr3799sG5/PJ5/PF5j3eDzKyspSeXm5XC5X0OsGYA2v16v4+HhJUmVlpeLi4iyuCEAweTweud3uTv/93W16hnbt2qXly5e32uMjSbm5uZLUahhyOp1yOp1BrxEAAISfbjNmaOHChUpNTdWECRNabVdQUCBJysjI6IKqAABAuOsWPUN+v18LFy7UpEmTFBn5XUk7duzQq6++qksuuURJSUnauHGjpk2bplGjRmno0KEWVgwAAMJFtwhDy5cvV3FxsW666aZGy6Ojo7V8+XI99dRT8nq9ysrK0pVXXql7773XokoBAEC46RZhaNy4cWpuHHdWVpZWrlxpQUUAAMAuus2YIQAAACsQhgAAgK0RhgAAgK0RhgAAgK0RhgAAgK0RhgAAgK0RhgAAgK0RhgAAgK0RhgAAgK0RhgAAgK0RhgAAgK0RhgAAgK0RhgAAgK0RhgAAgK0RhgAAgK0RhgAAgK0RhgAAgK0RhgAAgK0RhgAAgK0RhgAAgK0RhgAAgK0RhgAAgK0RhgAAgK0RhgAAgK0RhgAAgK0RhgAAgK0RhgAAgK0RhgAAgK0RhgAAgK0RhgAAgK0RhgAAgK0RhgAAgK0RhgAAgK0RhgAAgK0RhgAAgK1ZHoYeeOABORyORtPAgQMD66uqqpSfn6+kpCTFx8fryiuvVGlpqYUVAwCAcGJ5GJKkwYMHa//+/YFp1apVgXXTpk3Tn//8Zy1ZskQrV67Uvn37dMUVV1hYLQAACCeRVhcgSZGRkUpPT2+yvLy8XC+++KJeffVV/eQnP5EkLVy4UIMGDdLatWv1ox/9qKtLBQAAYaZb9Axt375dmZmZ6tevn6677joVFxdLktavX6+amhrl5eUF2g4cOFB9+vTRmjVrWtyfz+eTx+NpNAEAADTH8jCUm5urRYsW6YMPPtBzzz2noqIiXXDBBaqoqFBJSYmio6OVkJDQaJu0tDSVlJS0uM+5c+fK7XYHpqysrE4+CgAAEKosv0x28cUXB34eOnSocnNzlZ2drTfeeEM9e/Zs1z5nzZql6dOnB+Y9Hg+BCAAANMvynqEfSkhI0GmnnabCwkKlp6erurpaZWVljdqUlpY2O8aogdPplMvlajQBAAA0p9uFocrKSu3YsUMZGRk6++yzFRUVpY8++iiwftu2bSouLtaIESMsrBIAAIQLyy+T/frXv9all16q7Oxs7du3T7Nnz1aPHj10zTXXyO12a8qUKZo+fboSExPlcrl0xx13aMSIEdxJBgAAgsLyMLRnzx5dc801OnTokFJSUnT++edr7dq1SklJkSQ9+eSTioiI0JVXXimfz6fx48frD3/4g8VVAwCAcOEwxhiri+hsHo9Hbrdb5eXljB8CwojX61V8fLyk+kvscXFxFlcEIJi66vd3txszBAAA0JUIQwAAwNYIQwAAwNYIQwAAwNYIQwAAwNYIQwAAwNYIQwAAwNYIQwAAwNYIQwAAwNYIQwAAwNYIQwAAwNYIQwAAwNYIQwAAwNYIQwAAwNYIQwAAwNYIQwAAwNYIQwAAwNYIQwAAwNYIQwAAwNYIQwAAwNYIQwAAwNYIQwAAwNYIQwAAwNYIQwAAwNYIQwAAwNYIQwAAwNYIQwAAwNYIQwAAwNYIQwAAwNYIQwAAwNYIQwAAwNYIQwAAwNYIQwAAwNYIQwAAwNYIQwAAwNYIQwAAwNYsD0Nz587Vueeeq169eik1NVUTJ07Utm3bGrUZPXq0HA5Ho+nWW2+1qGIAABBOLA9DK1euVH5+vtauXatly5appqZG48aNk9frbdRu6tSp2r9/f2CaP3++RRUDAIBwEml1AR988EGj+UWLFik1NVXr16/XqFGjAstjY2OVnp7epn36fD75fL7AvMfjCU6xAAAg7FjeM/RD5eXlkqTExMRGyxcvXqzk5GSdccYZmjVrlo4cOdLiPubOnSu32x2YsrKyOrVmAAAQuhzGGGN1EQ38fr8uu+wylZWVadWqVYHlL7zwgrKzs5WZmamNGzfqnnvu0Xnnnac333yz2f001zOUlZWl8vJyuVyuTj8OAF3D6/UqPj5eklRZWam4uDiLKwIQTB6PR263u9N/f1t+mez78vPztWnTpkZBSJJuvvnmwM9DhgxRRkaGxo4dqx07dqh///5N9uN0OuV0Oju9XgAAEPq6zWWy22+/Xe+9954++eQT9e7du9W2ubm5kqTCwsKuKA0AAIQxy3uGjDG644479NZbb2nFihXKyck57jYFBQWSpIyMjE6uDgAAhDvLw1B+fr5effVVvfPOO+rVq5dKSkokSW63Wz179tSOHTv06quv6pJLLlFSUpI2btyoadOmadSoURo6dKjF1QMAgFBn+QBqh8PR7PKFCxdq8uTJ2r17t37xi19o06ZN8nq9ysrK0uWXX6577723zYOpumoAFoCuxQBqILzZZgD18bJYVlaWVq5c2UXVAAAAu+k2A6gBAACsQBgCAAC2RhgCAAC2RhgCAAC2RhgCAAC2RhgCAAC2RhgCAAC2RhgCAAC2RhgCAAC2RhgCAAC2RhgCAAC2RhgCAAC2RhgCAAC2RhgCAAC2RhgCAAC2RhgCAAC2RhgCAAC2RhgCAAC2RhgCAAC2RhgCAAC2RhgCAAC2RhgCAAC2RhgCAAC2RhgCAAC2RhgCAAC2RhgCAAC2RhgCAAC2RhgCAAC2RhgCAAC2RhgCAAC2RhgCAAC2RhgCAAC2RhgCAAC2RhgCAAC2RhgCAAC2FjJh6Nlnn1Xfvn0VExOj3Nxc/eMf/7C6JAAAEAYirS6gLV5//XVNnz5dCxYsUG5urp566imNHz9e27ZtU2pqapv34/V61aNHj06sFEBX8nq9zf4MIDx01d9rhzHGdMkndUBubq7OPfdc/f73v5ck+f1+ZWVl6Y477tDMmTObtPf5fPL5fIF5j8ejrKwsJVw4SY7I6KYf0N4/gla2M2pln+35vFa3ae2zWt1pUD+v9Y/qTvWf+DZBP5+tbhfsPw8j46+T/P5j/639wXydzLFJ35uXqZOprZG/xidT45Opbfhv9fEKAYCgKi8vl8vl6rT9d/ueoerqaq1fv16zZs0KLIuIiFBeXp7WrFnT7DZz587VnDlzmizvNXyCIpyxnVYrYBf+mqpAQPJXeeWvqpT/aIXqqirkP1ohf1WF6o54VFdxUHUVB1VbcVCm+qjVZQNAs7p9GDp48KDq6uqUlpbWaHlaWpq2bt3a7DazZs3S9OnTA/MNPUOTf9RbMbHxjdq22l/R6j/QW+lFaO8/7FvcX2s9Fq1t17462tNZ2Bmf1d5j68rPam9vWIt9OJ3x52ikOmNUW2dU5zeq9RvVme9+brT8e1ON36/qWr+O1vhVVVOn6rrvPiMiKkaKiqmfaeM/1uKieyjTHaN+ybHKSY5Vv+RY9U+OU/+UWEX1aN/wRa/XG/huKC0tVVxcXLv2A6B78ng8yszM7PTP6fZhqD2cTqecTmeT5b++eHCndrMB4azOb1RVU6ejNXU6Wl2nqpo6Hamuk6eqRmVHalR2tEblR6oDP39T4VOpp0r7yo7KU1Urb3Wdtn/j1fZvGo8BcEZGaMjJbp2ZlaBz+ibqx6ckqVdM1AnXFxcXRxgCwkxdXV2XfE63D0PJycnq0aOHSktLGy0vLS1Venq6RVUB9tMjwqE4Z6TinCf+teH11Wp/eZV2Hz6iwgOV2vFNpQoPVOpfpRXyVNXq813f6vNd3+qPq4oUGeHQ2dknaczAVE0YkqGsRC5tA+hc3T4MRUdH6+yzz9ZHH32kiRMnSqofQP3RRx/p9ttvt7Y4AG0S54zUKanxOiU1XmMGfncHqDFGRQe92lBcpg27v9XqwkP6+qBX64oOa13RYc3761ad1zdRV5x1si47M1Ox0d3+KwtACAqJu8lef/11TZo0Sc8//7zOO+88PfXUU3rjjTe0devWJmOJmuPxeOR2uzt9NDqAjis+dEQr/nVAH24u1d93HAyMo3L3jNL1P8rWpJF9ldKr/jK41+tVfHz9OMDKykoukwFhpqt+f4dEGJKk3//+93r00UdVUlKiM888U08//bRyc3PbtC1hCAhN+8uP6p2CffrTP4q169ARSVLPqB6aOqqfbhnVT6r1EYaAMEYYCiLCEBDa6vxGy74q1XMrd+jL3WWSpOR4p+75t376jx/1l0QYAsIRYSiICENAeDDG6INNJXrkg63aeaynyLvt7zr84R/kObCXMASEma76/R0y7yYDAIfDoYuHZOjDaRdqWt5pioxwKG7Aj5V54++1vrjM6vIAhCjCEICQEx0ZoTvzTtVrU85S9Tc71SP+JN30v1/qlbW7rC4NQAgiDAEIWYPSe6nkf2fIu+VT1fqN7n17k55a/q92PUUdgH0RhgCENFPj08F35yt/VF9J0lPLt+vh97cQiAC0GWEIQFj4zwv76oFLT5ck/XFVkX730XaLKwIQKghDAMLG5B/n6KGfDpZU30P0v2t2WlsQgJBAGAIQVq4f0Vd3jj1VkjT73c1aXXjQ4ooAdHeEIQBh5668U3XFWSfLb6Q7/rRB+8qOWl0SgG6MMAQg7DgcDv328iE6PcOlQ95q5b/6hWrr/FaXBaCbIgwBCEsxUT30/PVnq1dMpDYUl+mFv31tdUkAuinCEICwlZUYq9mXHhtQvWy7/lVaYXFFALojwhCAsHblWSdr7MBUVdf5dfeSL+X38/whAI0RhgCENYfDod9eMUS9nJH6ck+5/u+LPVaXBKCbIQwBCHtprhj96tjt9o8u3aZKX63FFQHoTghDAGxh0si+6psUq28qfHr2k0KrywHQjRCGANhCdGSE/ntC/es6XlpVpAOeKosrAtBdEIYA2EbeoFSd1SdBvlq/XviUW+0B1CMMAbANh8OhO46NHVq8rlgHK30WVwSgOyAMAbCV0aelaGhvt47W1OmPfyuyuhwA3QBhCICtOBwO3fGT+t6hV9bu4s4yAIQhAPYzdmCq+iXHqdJXq7c27LW6HAAWIwwBsJ2ICIeuH5EtSfp/q3fKGJ5KDdgZYQiALV15dm/FRvfQ9gOVWvv1YavLAWAhwhAAW3LFRGni8JMlSf9vzU5riwFgKcIQANu64dilsmVfleoQt9kDtkUYAmBbA9NdGnKyW7V+o/c27re6HAAWIQwBsLUrzqq/VPYmb7MHbIswBMDWLh2WqcgIh77cU67CAxVWlwPAAoQhALaWHO/UhaelSJLe/ZJLZYAdEYYA2N6EoRmSpA82EYYAOyIMAbC9sYPSFNXDoX+VVqrwQKXV5QDoYoQhALbn7hmlkf2TJdE7BNgRYQgAJF0yJF2S9NdNJRZXAqCrEYYAQFLeoDQ5HNLmfR6VlFdZXQ6ALmRZGNq5c6emTJminJwc9ezZU/3799fs2bNVXV3dqI3D4WgyrV271qqyAYSppHinhvVOkCSt2HbA2mIAdKlIqz5469at8vv9ev7553XKKado06ZNmjp1qrxerx577LFGbZcvX67BgwcH5pOSkrq6XAA2MGZAqgp2l+mTbQd09Xl9rC4HQBexLAxddNFFuuiiiwLz/fr107Zt2/Tcc881CUNJSUlKT0/v6hIB2MyYgSl6cvm/tGr7Qflq6+SM7GF1SQC6QLcaM1ReXq7ExMQmyy+77DKlpqbq/PPP17vvvnvc/fh8Pnk8nkYTABzPGZluJcc75a2u0+c7v7W6HABdpNuEocLCQj3zzDO65ZZbAsvi4+P1+OOPa8mSJXr//fd1/vnna+LEiccNRHPnzpXb7Q5MWVlZnV0+gDAQEeHQqNPqb7FfVXjQ4moAdBWHMcYEc4czZ87UI4880mqbLVu2aODAgYH5vXv36sILL9To0aP1xz/+sdVtb7jhBhUVFelvf/tbi218Pp98Pl9g3uPxKCsrS+Xl5XK5XG08EgDdndfrVXx8vCSpsrJScXFxHd7n/7d+j2Ys+VLDshL0Tv6PO7w/AO3n8Xjkdrs7/fd30McMzZgxQ5MnT261Tb9+/QI/79u3T2PGjNHIkSP1wgsvHHf/ubm5WrZsWattnE6nnE5nm+oFgO8b0b/+Bo1/7imTp6pGrpgoiysC0NmCHoZSUlKUkpLSprZ79+7VmDFjdPbZZ2vhwoWKiDj+VbuCggJlZGR0tEwAaFZmQk/lJMep6KBX//j6sPJOT7O6JACdzLK7yfbu3avRo0crOztbjz32mL755pvAuoY7x15++WVFR0dr+PDhkqQ333xTL7300nEvpQFAR4zon6Sig16t3nGIMATYgGVhaNmyZSosLFRhYaF69+7daN33hzE99NBD2rVrlyIjIzVw4EC9/vrr+tnPftbV5QKwkZH9k/TqumKt3sEgasAOgj6AujvqqgFYALpWZwyglqQDFVU67+GP5HBIX84ex7ghwCJd9fu729xaDwDdRWqvGPVJjJUx0obiMqvLAdDJCEMA0Ixzsk+SJK3fedjiSgB0NsIQADTj7L71YejzXTyJGgh3hCEAaMY52fWvBirYXabaOr/F1QDoTIQhAGjGqanxcsVE6kh1nbbsr7C6HACdiDAEAM2IiHBoeJ/6S2UbdnOpDAhnhCEAaMGw3m5J0j/3lFtcCYDORBgCgBYM6Z0gSdpIGALCGmEIAFow9FjP0PYDFTpSXWtxNQA6C2EIAFqQ5opRmsspv5G+2uexuhwAnYQwBACtGHJygiQulQHhjDAEAK1oGES9cU+ZtYUA6DSEIQBoxZCGO8r20jMEhCvCEAC04vTM+jdlFx30qqqmzuJqAHQGwhAAtCIl3qmkuGj5jbSthCdRA+GIMAQArXA4HBqUUd87tLWEO8qAcEQYAoDjGJjeS5J4RxkQpghDAHAcDT1DW/bTMwSEI8IQABzHwIyGniGPjDEWVwMg2AhDAHAcp6TGKzLCIU9VrfaVV1ldDoAgIwwBwHE4I3uof0q8JGkrl8qAsEMYAoA2OO3YIOrtByotrgRAsBGGAKANTjnWM7S9lDAEhBvCEAC0walp9WGo8BvCEBBuCEMA0AanpNaHoR0HKrmjDAgzhCEAaIO+SXHqEeFQpa9WJR7uKAPCCWEIANogOjJC2UmxkqRCBlEDYYUwBABtdGoqg6iBcEQYAoA2ahg3xCBqILwQhgCgjU5NrX/WUCE9Q0BYIQwBQBv1S4mTJH190GtxJQCCiTAEAG3UN7k+DB2s9KmiqsbiagAEC2EIANrIFROlpLhoSdKuQ0csrgZAsBCGAOAENPQO7TzEpTIgXBCGAOAENDxraCfjhoCwYWkY6tu3rxwOR6Np3rx5jdps3LhRF1xwgWJiYpSVlaX58+dbVC0ASDlJ9T1DRQe5TAaEi0irC3jwwQc1derUwHyvXr0CP3s8Ho0bN055eXlasGCB/vnPf+qmm25SQkKCbr75ZivKBWBzXCYDwo/lYahXr15KT09vdt3ixYtVXV2tl156SdHR0Ro8eLAKCgr0xBNPEIYAWCKnIQxxmQwIG5aPGZo3b56SkpI0fPhwPfroo6qtrQ2sW7NmjUaNGqXo6OjAsvHjx2vbtm369ttvW9ynz+eTx+NpNAFAMDSMGTrkrZaH2+uBsGBpGPrVr36l1157TZ988oluueUW/fa3v9VvfvObwPqSkhKlpaU12qZhvqSkpMX9zp07V263OzBlZWV1zgEAsJ1eMVFKjj92ez3jhoCwEPQwNHPmzCaDon84bd26VZI0ffp0jR49WkOHDtWtt96qxx9/XM8884x8Pl+Hapg1a5bKy8sD0+7du4NxaAAgSeqbxLghIJwEfczQjBkzNHny5Fbb9OvXr9nlubm5qq2t1c6dOzVgwAClp6ertLS0UZuG+ZbGGUmS0+mU0+k8scIBoI2yEmP1+a5vtftbeoaAcBD0MJSSkqKUlJR2bVtQUKCIiAilpqZKkkaMGKH//u//Vk1NjaKioiRJy5Yt04ABA3TSSScFrWYAOBG9T+opSdrz7VGLKwEQDJaNGVqzZo2eeuopffnll/r666+1ePFiTZs2Tb/4xS8CQefaa69VdHS0pkyZos2bN+v111/X7373O02fPt2qsgFAWSfVD6LefZieISAcWHZrvdPp1GuvvaYHHnhAPp9POTk5mjZtWqOg43a79eGHHyo/P19nn322kpOTdf/993NbPQBL9U6kZwgIJ5aFobPOOktr1649bruhQ4fqb3/7WxdUBABt09AztPfbo/L7jSIiHBZXBKAjLH/OEACEmgx3jHpEOFRd51dpRZXV5QDoIMIQAJygyB4RynDHSOJSGRAOCEMA0A4MogbCB2EIANoh69gg6t2H6RkCQh1hCADaIdAzxIMXgZBHGAKAdshK5DIZEC4IQwDQDicfewr1vnIukwGhjjAEAO3QcDdZSXmV/H5jcTUAOoIwBADtkOaKkcMh1dQZHfT6rC4HQAcQhgCgHaJ6RCi1l1OStL+MBy8CoYwwBADtlOGuHze0n3FDQEgjDAFAO52ccGwQNT1DQEgjDAFAOzUMoqZnCAhthCEAaKcMeoaAsEAYAoB2yjzWM8SzhoDQRhgCgHZq6BnibjIgtBGGAKCdGnqGDlRUqbbOb3E1ANqLMAQA7ZQc71RUD4f8Riqt4MGLQKgiDAFAO0VEOJTecEdZGeOGgFBFGAKADshw1Y8bKvEwbggIVYQhAOiAVFf9KzlKPVwmA0IVYQgAOiDNdWwQNT1DQMgiDAFAB6QFeoYIQ0CoIgwBQAc09AxxmQwIXYQhAOiA1F7HwlAFPUNAqCIMAUAHNFwmO0DPEBCyCEMA0AGpxy6TVfpqVemrtbgaAO1BGAKADoh3RireGSmJO8qAUEUYAoAO4llDQGgjDAFAB6X1+u6FrQBCD2EIADqIZw0BoY0wBAAdlMqzhoCQRhgCgA5K7UXPEBDKCEMA0EHfvZ+MniEgFBGGAKCDUo71DB2sJAwBociyMLRixQo5HI5mp88++0yStHPnzmbXr1271qqyAaCJ5Pj6MPQNYQgISZFWffDIkSO1f//+Rsvuu+8+ffTRRzrnnHMaLV++fLkGDx4cmE9KSuqSGgGgLVKOhaGKqlpV1dQpJqqHxRUBOBGWhaHo6Gilp6cH5mtqavTOO+/ojjvukMPhaNQ2KSmpUVsA6E5cPSMV3SNC1XV+Haz0qfdJsVaXBOAEdJsxQ++++64OHTqkG2+8scm6yy67TKmpqTr//PP17rvvHndfPp9PHo+n0QQAncXhcCgpPlqSdLCy2uJqAJyobhOGXnzxRY0fP169e/cOLIuPj9fjjz+uJUuW6P3339f555+viRMnHjcQzZ07V263OzBlZWV1dvkAbK5h3NDBCsYNAaEm6GFo5syZLQ6Mbpi2bt3aaJs9e/Zo6dKlmjJlSqPlycnJmj59unJzc3Xuuedq3rx5+sUvfqFHH3201RpmzZql8vLywLR79+5gHyYANJIc6BkiDAGhJuhjhmbMmKHJkye32qZfv36N5hcuXKikpCRddtllx91/bm6uli1b1mobp9Mpp9N53H0BQLBwez0QuoIehlJSUpSSktLm9sYYLVy4UDfccIOioqKO276goEAZGRkdKREAgi5wmYwxQ0DIsexusgYff/yxioqK9Mtf/rLJupdfflnR0dEaPny4JOnNN9/USy+9pD/+8Y9dXSYAtIpnDQGhy/Iw9OKLL2rkyJEaOHBgs+sfeugh7dq1S5GRkRo4cKBef/11/exnP+viKgGgdcm9GEANhCrLw9Crr77a4rpJkyZp0qRJXVgNALQPA6iB0NVtbq0HgFCWwpghIGQRhgAgCBrGDJUfrVF1rd/iagCcCMIQAASBu2eUIiPqXyV0yMulMiCUEIYAIAgiIr73So4KLpUBoYQwBABB8t2zhugZAkIJYQgAgiQxrr5n6LCXniEglBCGACBIGsLQt0cIQ0AoIQwBQJA0hKFD9AwBIYUwBABBkhh7rGeIMASEFMIQAARJYjw9Q0AoIgwBQJA09AwxgBoILYQhAAiSwABqwhAQUghDABAkDKAGQhNhCACCpCEMlR+tUW0d7ycDQgVhCACCJCE2Wo7615Pp2yM11hYDoM0IQwAQJD0iHEroGSWJBy8CoYQwBABBdFLDuKFKwhAQKghDABBESbyfDAg5hCEACKKTGp41xGUyIGQQhgAgiJKOPYX6MJfJgJBBGAKAIGroGWIANRA6CEMAEEQ8eBEIPYQhAAiiwGUyr8/iSgC0FWEIAIIo4dhlsjIeugiEDMIQAARRw0MXCUNA6CAMAUAQfdczxJghIFQQhgAgiE6Kre8Z8lbXqbqWl7UCoYAwBABB1CsmKvCy1vKjXCoDQgFhCACCqEeEQ66YhnFDXCoDQgFhCACCrOFSWRk9Q0BIIAwBQJC5ub0eCCmEIQAIsu9ur+cyGRAKCEMAEGQJsTxrCAglhCEACLKGl7WWHaVnCAgFhCEACDI3T6EGQgphCACCjMtkQGjptDD08MMPa+TIkYqNjVVCQkKzbYqLizVhwgTFxsYqNTVVd999t2praxu1WbFihc466yw5nU6dcsopWrRoUWeVDABBwWUyILR0Whiqrq7WVVddpdtuu63Z9XV1dZowYYKqq6u1evVqvfzyy1q0aJHuv//+QJuioiJNmDBBY8aMUUFBge666y798pe/1NKlSzurbADoMDc9Q0BIieysHc+ZM0eSWuzJ+fDDD/XVV19p+fLlSktL05lnnqmHHnpI99xzjx544AFFR0drwYIFysnJ0eOPPy5JGjRokFatWqUnn3xS48ePb/GzfT6ffD5fYL68vFyS5PF4gnR0ALoDr9cb+Nnj8aiurs7Car4TWXtUft8RHTzs53sH6ICGvz/GmM79INPJFi5caNxud5Pl9913nxk2bFijZV9//bWRZL744gtjjDEXXHCBufPOOxu1eemll4zL5Wr1M2fPnm0kMTExMTExMYXBtGPHjo5EkePqtJ6h4ykpKVFaWlqjZQ3zJSUlrbbxeDw6evSoevbs2ey+Z82apenTpwfmy8rKlJ2dreLiYrnd7mAeRrfm8XiUlZWl3bt3y+VyWV1Ol+G4OW474Lg5bjsoLy9Xnz59lJiY2Kmfc0JhaObMmXrkkUdabbNlyxYNHDiwQ0V1lNPplNPpbLLc7Xbb6n+iBi6Xi+O2EY7bXjhue7HrcUdEdO7N7ycUhmbMmKHJkye32qZfv35t2ld6err+8Y9/NFpWWloaWNfw34Zl32/jcrla7BUCAAA4EScUhlJSUpSSkhKUDx4xYoQefvhhHThwQKmpqZKkZcuWyeVy6fTTTw+0+ctf/tJou2XLlmnEiBFBqQEAAKDT+p2Ki4tVUFCg4uJi1dXVqaCgQAUFBaqsrJQkjRs3Tqeffrquv/56ffnll1q6dKnuvfde5efnBy5x3Xrrrfr666/1m9/8Rlu3btUf/vAHvfHGG5o2bdoJ1eJ0OjV79uxmL52FM46b47YDjpvjtgOOu3OP22FM59yvNnnyZL388stNln/yyScaPXq0JGnXrl267bbbtGLFCsXFxWnSpEmaN2+eIiO/67BasWKFpk2bpq+++kq9e/fWfffdd9xLdQAAAG3VaWEIAAAgFPBuMgAAYGuEIQAAYGuEIQAAYGuEIQAAYGthEYYefvhhjRw5UrGxsUpISGi2TXFxsSZMmKDY2Filpqbq7rvvVm1tbav7PXz4sK677jq5XC4lJCRoypQpgUcDdDcrVqyQw+Fodvrss89a3G706NFN2t96661dWHnH9e3bt8kxzJs3r9VtqqqqlJ+fr6SkJMXHx+vKK69s8oDP7mznzp2aMmWKcnJy1LNnT/Xv31+zZ89WdXV1q9uF6vl+9tln1bdvX8XExCg3N7fJA1t/aMmSJRo4cKBiYmI0ZMiQJs8r6+7mzp2rc889V7169VJqaqomTpyobdu2tbrNokWLmpzbmJiYLqo4OB544IEmx3C8NxqE+rmWmv8Oczgcys/Pb7Z9qJ7rTz/9VJdeeqkyMzPlcDj09ttvN1pvjNH999+vjIwM9ezZU3l5edq+fftx93ui3w/NCYswVF1drauuukq33XZbs+vr6uo0YcIEVVdXa/Xq1Xr55Ze1aNEi3X///a3u97rrrtPmzZu1bNkyvffee/r000918803d8YhdNjIkSO1f//+RtMvf/lL5eTk6Jxzzml126lTpzbabv78+V1UdfA8+OCDjY7hjjvuaLX9tGnT9Oc//1lLlizRypUrtW/fPl1xxRVdVG3Hbd26VX6/X88//7w2b96sJ598UgsWLNB//dd/HXfbUDvfr7/+uqZPn67Zs2friy++0LBhwzR+/HgdOHCg2farV6/WNddcoylTpmjDhg2aOHGiJk6cqE2bNnVx5e23cuVK5efna+3atVq2bJlqamo0btw4eb3eVrdzuVyNzu2uXbu6qOLgGTx4cKNjWLVqVYttw+FcS9Jnn33W6JiXLVsmSbrqqqta3CYUz7XX69WwYcP07LPPNrt+/vz5evrpp7VgwQKtW7dOcXFxGj9+vKqqqlrc54l+P7SoU18D28UWLlxo3G53k+V/+ctfTEREhCkpKQkse+6554zL5TI+n6/ZfX311VdGkvnss88Cy/76178ah8Nh9u7dG/Tag626utqkpKSYBx98sNV2F154obnzzju7pqhOkp2dbZ588sk2ty8rKzNRUVFmyZIlgWVbtmwxksyaNWs6ocKuMX/+fJOTk9Nqm1A83+edd57Jz88PzNfV1ZnMzEwzd+7cZtv/x3/8h5kwYUKjZbm5ueaWW27p1Do704EDB4wks3LlyhbbtPT9F0pmz55thg0b1ub24XiujTHmzjvvNP379zd+v7/Z9eFwriWZt956KzDv9/tNenq6efTRRwPLysrKjNPpNH/6059a3M+Jfj+0JCx6ho5nzZo1GjJkiNLS0gLLxo8fL4/Ho82bN7e4TUJCQqNelby8PEVERGjdunWdXnNHvfvuuzp06JBuvPHG47ZdvHixkpOTdcYZZ2jWrFk6cuRIF1QYXPPmzVNSUpKGDx+uRx99tNVLoOvXr1dNTY3y8vICywYOHKg+ffpozZo1XVFupygvL2/Tm51D6XxXV1dr/fr1jc5VRESE8vLyWjxXa9asadReqv/7HurnVtJxz29lZaWys7OVlZWln/70py1+v3Vn27dvV2Zmpvr166frrrtOxcXFLbYNx3NdXV2tV155RTfddJMcDkeL7cLhXH9fUVGRSkpKGp1Pt9ut3NzcFs9ne74fWnJC7yYLVSUlJY2CkKTAfElJSYvbNLwzrUFkZKQSExNb3KY7efHFFzV+/Hj17t271XbXXnutsrOzlZmZqY0bN+qee+7Rtm3b9Oabb3ZRpR33q1/9SmeddZYSExO1evVqzZo1S/v379cTTzzRbPuSkhJFR0c3GV+WlpYWEue2OYWFhXrmmWf02GOPtdou1M73wYMHVVdX1+zf361btza7TUt/30P13Pr9ft1111368Y9/rDPOOKPFdgMGDNBLL72koUOHqry8XI899phGjhypzZs3H/d7oLvIzc3VokWLNGDAAO3fv19z5szRBRdcoE2bNqlXr15N2ofbuZakt99+W2VlZa2+aSEczvUPNZyzEzmf7fl+aEm3DUMzZ87UI4880mqbLVu2HHdwXahrz5/Dnj17tHTpUr3xxhvH3f/3x0ANGTJEGRkZGjt2rHbs2KH+/fu3v/AOOpHjnj59emDZ0KFDFR0drVtuuUVz584Nuff4tOd87927VxdddJGuuuoqTZ06tdVtu+v5Rsvy8/O1adOmVsfOSPUvtv7+S6xHjhypQYMG6fnnn9dDDz3U2WUGxcUXXxz4eejQocrNzVV2drbeeOMNTZkyxcLKus6LL76oiy++WJmZmS22CYdz3d102zA0Y8aM476DrF+/fm3aV3p6epPR5Q13DqWnp7e4zQ8HYNXW1urw4cMtbtMZ2vPnsHDhQiUlJemyyy474c/Lzc2VVN/TYOUvx46c/9zcXNXW1mrnzp0aMGBAk/Xp6emqrq5WWVlZo96h0tLSLj23zTnR4963b5/GjBmjkSNH6oUXXjjhz+su57slycnJ6tGjR5M7/Vo7V+np6SfUvju7/fbbAzdvnOi/+KOiojR8+HAVFhZ2UnWdLyEhQaeddlqLxxBO51qqf1/n8uXLT7inNhzOdcM5Ky0tVUZGRmB5aWmpzjzzzGa3ac/3Q4tOaIRRN3e8AdSlpaWBZc8//7xxuVymqqqq2X01DKD+/PPPA8uWLl3a7QdQ+/1+k5OTY2bMmNGu7VetWmUkmS+//DLIlXWdV155xURERJjDhw83u75hAPX//d//BZZt3bo15AZQ79mzx5x66qnm6quvNrW1te3aRyic7/POO8/cfvvtgfm6ujpz8skntzqA+t///d8bLRsxYkRIDar1+/0mPz/fZGZmmn/961/t2kdtba0ZMGCAmTZtWpCr6zoVFRXmpJNOMr/73e+aXR8O5/r7Zs+ebdLT001NTc0JbReK51otDKB+7LHHAsvKy8vbNID6RL4fWqznhFp3U7t27TIbNmwwc+bMMfHx8WbDhg1mw4YNpqKiwhhT/z/KGWecYcaNG2cKCgrMBx98YFJSUsysWbMC+1i3bp0ZMGCA2bNnT2DZRRddZIYPH27WrVtnVq1aZU499VRzzTXXdPnxnYjly5cbSWbLli1N1u3Zs8cMGDDArFu3zhhjTGFhoXnwwQfN559/boqKisw777xj+vXrZ0aNGtXVZbfb6tWrzZNPPmkKCgrMjh07zCuvvGJSUlLMDTfcEGjzw+M2xphbb73V9OnTx3z88cfm888/NyNGjDAjRoyw4hDaZc+ePeaUU04xY8eONXv27DH79+8PTN9vEw7n+7XXXjNOp9MsWrTIfPXVV+bmm282CQkJgbtDr7/+ejNz5sxA+7///e8mMjLSPPbYY2bLli1m9uzZJioqyvzzn/+06hBO2G233WbcbrdZsWJFo3N75MiRQJsfHvecOXPM0qVLzY4dO8z69evN1VdfbWJiYszmzZutOIR2mTFjhlmxYoUpKioyf//7301eXp5JTk42Bw4cMMaE57luUFdXZ/r06WPuueeeJuvC5VxXVFQEfj9LMk888YTZsGGD2bVrlzHGmHnz5pmEhATzzjvvmI0bN5qf/vSnJicnxxw9ejSwj5/85CfmmWeeCcwf7/uhrcIiDE2aNMlIajJ98skngTY7d+40F198senZs6dJTk42M2bMaJS+P/nkEyPJFBUVBZYdOnTIXHPNNSY+Pt64XC5z4403BgJWd3XNNdeYkSNHNruuqKio0Z9LcXGxGTVqlElMTDROp9Occsop5u677zbl5eVdWHHHrF+/3uTm5hq3221iYmLMoEGDzG9/+9tGPX4/PG5jjDl69Kj5z//8T3PSSSeZ2NhYc/nllzcKEt3dwoULm/1//vudveF0vp955hnTp08fEx0dbc477zyzdu3awLoLL7zQTJo0qVH7N954w5x22mkmOjraDB482Lz//vtdXHHHtHRuFy5cGGjzw+O+6667An9GaWlp5pJLLjFffPFF1xffAT//+c9NRkaGiY6ONieffLL5+c9/bgoLCwPrw/FcN1i6dKmRZLZt29ZkXbic64bfsz+cGo7N7/eb++67z6SlpRmn02nGjh3b5M8jOzvbzJ49u9Gy1r4f2sphjDEndmENAAAgfNjiOUMAAAAtIQwBAABbIwwBAABbIwwBAABbIwwBAABbIwwBAABbIwwBAABbIwwBAABbIwwBAABbIwwBAABbIwwBAABb+/8BGgEubYfrgLUAAAAASUVORK5CYII=\n",
                  "text/plain": "<Figure size 640x480 with 1 Axes>"
                },
                "metadata": {},
                "output_type": "display_data"
              }
            ]
          }
        },
        "419821412aff4821adca7eecc3e3c790": {
          "model_module": "@jupyter-widgets/controls",
          "model_module_version": "1.5.0",
          "model_name": "SliderStyleModel",
          "state": {
            "_model_module": "@jupyter-widgets/controls",
            "_model_module_version": "1.5.0",
            "_model_name": "SliderStyleModel",
            "_view_count": null,
            "_view_module": "@jupyter-widgets/base",
            "_view_module_version": "1.2.0",
            "_view_name": "StyleView",
            "description_width": "",
            "handle_color": null
          }
        },
        "4b0ac759c245400fa1acd4334717e67f": {
          "model_module": "@jupyter-widgets/base",
          "model_module_version": "1.2.0",
          "model_name": "LayoutModel",
          "state": {
            "_model_module": "@jupyter-widgets/base",
            "_model_module_version": "1.2.0",
            "_model_name": "LayoutModel",
            "_view_count": null,
            "_view_module": "@jupyter-widgets/base",
            "_view_module_version": "1.2.0",
            "_view_name": "LayoutView",
            "align_content": null,
            "align_items": null,
            "align_self": null,
            "border": null,
            "bottom": null,
            "display": null,
            "flex": null,
            "flex_flow": null,
            "grid_area": null,
            "grid_auto_columns": null,
            "grid_auto_flow": null,
            "grid_auto_rows": null,
            "grid_column": null,
            "grid_gap": null,
            "grid_row": null,
            "grid_template_areas": null,
            "grid_template_columns": null,
            "grid_template_rows": null,
            "height": null,
            "justify_content": null,
            "justify_items": null,
            "left": null,
            "margin": null,
            "max_height": null,
            "max_width": null,
            "min_height": null,
            "min_width": null,
            "object_fit": null,
            "object_position": null,
            "order": null,
            "overflow": null,
            "overflow_x": null,
            "overflow_y": null,
            "padding": null,
            "right": null,
            "top": null,
            "visibility": null,
            "width": null
          }
        },
        "50dd16dc6d2647d6bb4463f8d014770f": {
          "model_module": "@jupyter-widgets/base",
          "model_module_version": "1.2.0",
          "model_name": "LayoutModel",
          "state": {
            "_model_module": "@jupyter-widgets/base",
            "_model_module_version": "1.2.0",
            "_model_name": "LayoutModel",
            "_view_count": null,
            "_view_module": "@jupyter-widgets/base",
            "_view_module_version": "1.2.0",
            "_view_name": "LayoutView",
            "align_content": null,
            "align_items": null,
            "align_self": null,
            "border": null,
            "bottom": null,
            "display": null,
            "flex": null,
            "flex_flow": null,
            "grid_area": null,
            "grid_auto_columns": null,
            "grid_auto_flow": null,
            "grid_auto_rows": null,
            "grid_column": null,
            "grid_gap": null,
            "grid_row": null,
            "grid_template_areas": null,
            "grid_template_columns": null,
            "grid_template_rows": null,
            "height": null,
            "justify_content": null,
            "justify_items": null,
            "left": null,
            "margin": null,
            "max_height": null,
            "max_width": null,
            "min_height": null,
            "min_width": null,
            "object_fit": null,
            "object_position": null,
            "order": null,
            "overflow": null,
            "overflow_x": null,
            "overflow_y": null,
            "padding": null,
            "right": null,
            "top": null,
            "visibility": null,
            "width": null
          }
        },
        "52fe7b79080840049b307fbaf849fb4f": {
          "model_module": "@jupyter-widgets/base",
          "model_module_version": "1.2.0",
          "model_name": "LayoutModel",
          "state": {
            "_model_module": "@jupyter-widgets/base",
            "_model_module_version": "1.2.0",
            "_model_name": "LayoutModel",
            "_view_count": null,
            "_view_module": "@jupyter-widgets/base",
            "_view_module_version": "1.2.0",
            "_view_name": "LayoutView",
            "align_content": null,
            "align_items": null,
            "align_self": null,
            "border": null,
            "bottom": null,
            "display": null,
            "flex": null,
            "flex_flow": null,
            "grid_area": null,
            "grid_auto_columns": null,
            "grid_auto_flow": null,
            "grid_auto_rows": null,
            "grid_column": null,
            "grid_gap": null,
            "grid_row": null,
            "grid_template_areas": null,
            "grid_template_columns": null,
            "grid_template_rows": null,
            "height": null,
            "justify_content": null,
            "justify_items": null,
            "left": null,
            "margin": null,
            "max_height": null,
            "max_width": null,
            "min_height": null,
            "min_width": null,
            "object_fit": null,
            "object_position": null,
            "order": null,
            "overflow": null,
            "overflow_x": null,
            "overflow_y": null,
            "padding": null,
            "right": null,
            "top": null,
            "visibility": null,
            "width": null
          }
        },
        "5310b570d27649a59ea697c9e4ec54aa": {
          "model_module": "@jupyter-widgets/base",
          "model_module_version": "1.2.0",
          "model_name": "LayoutModel",
          "state": {
            "_model_module": "@jupyter-widgets/base",
            "_model_module_version": "1.2.0",
            "_model_name": "LayoutModel",
            "_view_count": null,
            "_view_module": "@jupyter-widgets/base",
            "_view_module_version": "1.2.0",
            "_view_name": "LayoutView",
            "align_content": null,
            "align_items": null,
            "align_self": null,
            "border": null,
            "bottom": null,
            "display": null,
            "flex": null,
            "flex_flow": null,
            "grid_area": null,
            "grid_auto_columns": null,
            "grid_auto_flow": null,
            "grid_auto_rows": null,
            "grid_column": null,
            "grid_gap": null,
            "grid_row": null,
            "grid_template_areas": null,
            "grid_template_columns": null,
            "grid_template_rows": null,
            "height": null,
            "justify_content": null,
            "justify_items": null,
            "left": null,
            "margin": null,
            "max_height": null,
            "max_width": null,
            "min_height": null,
            "min_width": null,
            "object_fit": null,
            "object_position": null,
            "order": null,
            "overflow": null,
            "overflow_x": null,
            "overflow_y": null,
            "padding": null,
            "right": null,
            "top": null,
            "visibility": null,
            "width": null
          }
        },
        "531f4d4d65374d32bc72110a022e4efc": {
          "model_module": "@jupyter-widgets/output",
          "model_module_version": "1.0.0",
          "model_name": "OutputModel",
          "state": {
            "_dom_classes": [],
            "_model_module": "@jupyter-widgets/output",
            "_model_module_version": "1.0.0",
            "_model_name": "OutputModel",
            "_view_count": null,
            "_view_module": "@jupyter-widgets/output",
            "_view_module_version": "1.0.0",
            "_view_name": "OutputView",
            "layout": "IPY_MODEL_f0015f08d564420eb37fe7549e1c7b8d",
            "msg_id": "",
            "outputs": [
              {
                "data": {
                  "image/png": "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\n",
                  "text/plain": "<Figure size 640x480 with 1 Axes>"
                },
                "metadata": {},
                "output_type": "display_data"
              }
            ]
          }
        },
        "56e9fd01a8db441dbb1e6422f48ea264": {
          "model_module": "@jupyter-widgets/controls",
          "model_module_version": "1.5.0",
          "model_name": "IntSliderModel",
          "state": {
            "_dom_classes": [],
            "_model_module": "@jupyter-widgets/controls",
            "_model_module_version": "1.5.0",
            "_model_name": "IntSliderModel",
            "_view_count": null,
            "_view_module": "@jupyter-widgets/controls",
            "_view_module_version": "1.5.0",
            "_view_name": "IntSliderView",
            "continuous_update": true,
            "description": "c",
            "description_tooltip": null,
            "disabled": false,
            "layout": "IPY_MODEL_4b0ac759c245400fa1acd4334717e67f",
            "max": 9,
            "min": -9,
            "orientation": "horizontal",
            "readout": true,
            "readout_format": "d",
            "step": 1,
            "style": "IPY_MODEL_9600c57a3b0943789fd83fae1bebb6ac",
            "value": 0
          }
        },
        "5dda81a7376a4fa0a650d7cc6c525893": {
          "model_module": "@jupyter-widgets/base",
          "model_module_version": "1.2.0",
          "model_name": "LayoutModel",
          "state": {
            "_model_module": "@jupyter-widgets/base",
            "_model_module_version": "1.2.0",
            "_model_name": "LayoutModel",
            "_view_count": null,
            "_view_module": "@jupyter-widgets/base",
            "_view_module_version": "1.2.0",
            "_view_name": "LayoutView",
            "align_content": null,
            "align_items": null,
            "align_self": null,
            "border": null,
            "bottom": null,
            "display": null,
            "flex": null,
            "flex_flow": null,
            "grid_area": null,
            "grid_auto_columns": null,
            "grid_auto_flow": null,
            "grid_auto_rows": null,
            "grid_column": null,
            "grid_gap": null,
            "grid_row": null,
            "grid_template_areas": null,
            "grid_template_columns": null,
            "grid_template_rows": null,
            "height": null,
            "justify_content": null,
            "justify_items": null,
            "left": null,
            "margin": null,
            "max_height": null,
            "max_width": null,
            "min_height": null,
            "min_width": null,
            "object_fit": null,
            "object_position": null,
            "order": null,
            "overflow": null,
            "overflow_x": null,
            "overflow_y": null,
            "padding": null,
            "right": null,
            "top": null,
            "visibility": null,
            "width": null
          }
        },
        "5ed4c79d994c4db5b0126c73bf585d3c": {
          "model_module": "@jupyter-widgets/controls",
          "model_module_version": "1.5.0",
          "model_name": "IntSliderModel",
          "state": {
            "_dom_classes": [],
            "_model_module": "@jupyter-widgets/controls",
            "_model_module_version": "1.5.0",
            "_model_name": "IntSliderModel",
            "_view_count": null,
            "_view_module": "@jupyter-widgets/controls",
            "_view_module_version": "1.5.0",
            "_view_name": "IntSliderView",
            "continuous_update": true,
            "description": "a",
            "description_tooltip": null,
            "disabled": false,
            "layout": "IPY_MODEL_3fa78f871939400e908f7042b813788f",
            "max": -1,
            "min": -9,
            "orientation": "horizontal",
            "readout": true,
            "readout_format": "d",
            "step": 1,
            "style": "IPY_MODEL_c074a10a63044bdbb1b58107f6d7c93c",
            "value": -5
          }
        },
        "67c152720dd54c7d8848c50bfcf9aaf5": {
          "model_module": "@jupyter-widgets/base",
          "model_module_version": "1.2.0",
          "model_name": "LayoutModel",
          "state": {
            "_model_module": "@jupyter-widgets/base",
            "_model_module_version": "1.2.0",
            "_model_name": "LayoutModel",
            "_view_count": null,
            "_view_module": "@jupyter-widgets/base",
            "_view_module_version": "1.2.0",
            "_view_name": "LayoutView",
            "align_content": null,
            "align_items": null,
            "align_self": null,
            "border": null,
            "bottom": null,
            "display": null,
            "flex": null,
            "flex_flow": null,
            "grid_area": null,
            "grid_auto_columns": null,
            "grid_auto_flow": null,
            "grid_auto_rows": null,
            "grid_column": null,
            "grid_gap": null,
            "grid_row": null,
            "grid_template_areas": null,
            "grid_template_columns": null,
            "grid_template_rows": null,
            "height": null,
            "justify_content": null,
            "justify_items": null,
            "left": null,
            "margin": null,
            "max_height": null,
            "max_width": null,
            "min_height": null,
            "min_width": null,
            "object_fit": null,
            "object_position": null,
            "order": null,
            "overflow": null,
            "overflow_x": null,
            "overflow_y": null,
            "padding": null,
            "right": null,
            "top": null,
            "visibility": null,
            "width": null
          }
        },
        "739352da64a7473097f1e30b44bb75bb": {
          "model_module": "@jupyter-widgets/controls",
          "model_module_version": "1.5.0",
          "model_name": "SliderStyleModel",
          "state": {
            "_model_module": "@jupyter-widgets/controls",
            "_model_module_version": "1.5.0",
            "_model_name": "SliderStyleModel",
            "_view_count": null,
            "_view_module": "@jupyter-widgets/base",
            "_view_module_version": "1.2.0",
            "_view_name": "StyleView",
            "description_width": "",
            "handle_color": null
          }
        },
        "757f222d02154ddc9f91ef5c593df88d": {
          "model_module": "@jupyter-widgets/controls",
          "model_module_version": "1.5.0",
          "model_name": "VBoxModel",
          "state": {
            "_dom_classes": [
              "widget-interact"
            ],
            "_model_module": "@jupyter-widgets/controls",
            "_model_module_version": "1.5.0",
            "_model_name": "VBoxModel",
            "_view_count": null,
            "_view_module": "@jupyter-widgets/controls",
            "_view_module_version": "1.5.0",
            "_view_name": "VBoxView",
            "box_style": "",
            "children": [
              "IPY_MODEL_5ed4c79d994c4db5b0126c73bf585d3c",
              "IPY_MODEL_bcd71bd2180449e5924efd1560f0e114",
              "IPY_MODEL_3fde7dda8e79455e83011f8f9a998750"
            ],
            "layout": "IPY_MODEL_a8a27925ff954a0abad00f79db3b69ed"
          }
        },
        "7be60db2011a4e36b59f42edd862b62a": {
          "model_module": "@jupyter-widgets/base",
          "model_module_version": "1.2.0",
          "model_name": "LayoutModel",
          "state": {
            "_model_module": "@jupyter-widgets/base",
            "_model_module_version": "1.2.0",
            "_model_name": "LayoutModel",
            "_view_count": null,
            "_view_module": "@jupyter-widgets/base",
            "_view_module_version": "1.2.0",
            "_view_name": "LayoutView",
            "align_content": null,
            "align_items": null,
            "align_self": null,
            "border": null,
            "bottom": null,
            "display": null,
            "flex": null,
            "flex_flow": null,
            "grid_area": null,
            "grid_auto_columns": null,
            "grid_auto_flow": null,
            "grid_auto_rows": null,
            "grid_column": null,
            "grid_gap": null,
            "grid_row": null,
            "grid_template_areas": null,
            "grid_template_columns": null,
            "grid_template_rows": null,
            "height": null,
            "justify_content": null,
            "justify_items": null,
            "left": null,
            "margin": null,
            "max_height": null,
            "max_width": null,
            "min_height": null,
            "min_width": null,
            "object_fit": null,
            "object_position": null,
            "order": null,
            "overflow": null,
            "overflow_x": null,
            "overflow_y": null,
            "padding": null,
            "right": null,
            "top": null,
            "visibility": null,
            "width": null
          }
        },
        "7c34ceb5824b4c6992e2257de2693e17": {
          "model_module": "@jupyter-widgets/controls",
          "model_module_version": "1.5.0",
          "model_name": "IntSliderModel",
          "state": {
            "_dom_classes": [],
            "_model_module": "@jupyter-widgets/controls",
            "_model_module_version": "1.5.0",
            "_model_name": "IntSliderModel",
            "_view_count": null,
            "_view_module": "@jupyter-widgets/controls",
            "_view_module_version": "1.5.0",
            "_view_name": "IntSliderView",
            "continuous_update": true,
            "description": "b",
            "description_tooltip": null,
            "disabled": false,
            "layout": "IPY_MODEL_67c152720dd54c7d8848c50bfcf9aaf5",
            "max": 9,
            "min": -9,
            "orientation": "horizontal",
            "readout": true,
            "readout_format": "d",
            "step": 1,
            "style": "IPY_MODEL_3708d951175e4fcca34ea2660e4a6137",
            "value": 3
          }
        },
        "82d2547d935e435cb3d4f64defecc464": {
          "model_module": "@jupyter-widgets/controls",
          "model_module_version": "1.5.0",
          "model_name": "SliderStyleModel",
          "state": {
            "_model_module": "@jupyter-widgets/controls",
            "_model_module_version": "1.5.0",
            "_model_name": "SliderStyleModel",
            "_view_count": null,
            "_view_module": "@jupyter-widgets/base",
            "_view_module_version": "1.2.0",
            "_view_name": "StyleView",
            "description_width": "",
            "handle_color": null
          }
        },
        "903c6a1a90c440848fde82dad1d28a23": {
          "model_module": "@jupyter-widgets/base",
          "model_module_version": "1.2.0",
          "model_name": "LayoutModel",
          "state": {
            "_model_module": "@jupyter-widgets/base",
            "_model_module_version": "1.2.0",
            "_model_name": "LayoutModel",
            "_view_count": null,
            "_view_module": "@jupyter-widgets/base",
            "_view_module_version": "1.2.0",
            "_view_name": "LayoutView",
            "align_content": null,
            "align_items": null,
            "align_self": null,
            "border": null,
            "bottom": null,
            "display": null,
            "flex": null,
            "flex_flow": null,
            "grid_area": null,
            "grid_auto_columns": null,
            "grid_auto_flow": null,
            "grid_auto_rows": null,
            "grid_column": null,
            "grid_gap": null,
            "grid_row": null,
            "grid_template_areas": null,
            "grid_template_columns": null,
            "grid_template_rows": null,
            "height": null,
            "justify_content": null,
            "justify_items": null,
            "left": null,
            "margin": null,
            "max_height": null,
            "max_width": null,
            "min_height": null,
            "min_width": null,
            "object_fit": null,
            "object_position": null,
            "order": null,
            "overflow": null,
            "overflow_x": null,
            "overflow_y": null,
            "padding": null,
            "right": null,
            "top": null,
            "visibility": null,
            "width": null
          }
        },
        "9598a256210e4984b43046a2d2e2fe9e": {
          "model_module": "@jupyter-widgets/base",
          "model_module_version": "1.2.0",
          "model_name": "LayoutModel",
          "state": {
            "_model_module": "@jupyter-widgets/base",
            "_model_module_version": "1.2.0",
            "_model_name": "LayoutModel",
            "_view_count": null,
            "_view_module": "@jupyter-widgets/base",
            "_view_module_version": "1.2.0",
            "_view_name": "LayoutView",
            "align_content": null,
            "align_items": null,
            "align_self": null,
            "border": null,
            "bottom": null,
            "display": null,
            "flex": null,
            "flex_flow": null,
            "grid_area": null,
            "grid_auto_columns": null,
            "grid_auto_flow": null,
            "grid_auto_rows": null,
            "grid_column": null,
            "grid_gap": null,
            "grid_row": null,
            "grid_template_areas": null,
            "grid_template_columns": null,
            "grid_template_rows": null,
            "height": null,
            "justify_content": null,
            "justify_items": null,
            "left": null,
            "margin": null,
            "max_height": null,
            "max_width": null,
            "min_height": null,
            "min_width": null,
            "object_fit": null,
            "object_position": null,
            "order": null,
            "overflow": null,
            "overflow_x": null,
            "overflow_y": null,
            "padding": null,
            "right": null,
            "top": null,
            "visibility": null,
            "width": null
          }
        },
        "9600c57a3b0943789fd83fae1bebb6ac": {
          "model_module": "@jupyter-widgets/controls",
          "model_module_version": "1.5.0",
          "model_name": "SliderStyleModel",
          "state": {
            "_model_module": "@jupyter-widgets/controls",
            "_model_module_version": "1.5.0",
            "_model_name": "SliderStyleModel",
            "_view_count": null,
            "_view_module": "@jupyter-widgets/base",
            "_view_module_version": "1.2.0",
            "_view_name": "StyleView",
            "description_width": "",
            "handle_color": null
          }
        },
        "a28a35ce8d644e8ea0133a0bf6919e13": {
          "model_module": "@jupyter-widgets/output",
          "model_module_version": "1.0.0",
          "model_name": "OutputModel",
          "state": {
            "_dom_classes": [],
            "_model_module": "@jupyter-widgets/output",
            "_model_module_version": "1.0.0",
            "_model_name": "OutputModel",
            "_view_count": null,
            "_view_module": "@jupyter-widgets/output",
            "_view_module_version": "1.0.0",
            "_view_name": "OutputView",
            "layout": "IPY_MODEL_9598a256210e4984b43046a2d2e2fe9e",
            "msg_id": "",
            "outputs": [
              {
                "data": {
                  "image/png": "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\n",
                  "text/plain": "<Figure size 640x480 with 1 Axes>"
                },
                "metadata": {},
                "output_type": "display_data"
              }
            ]
          }
        },
        "a6f680243652424094944ed810102a83": {
          "model_module": "@jupyter-widgets/controls",
          "model_module_version": "1.5.0",
          "model_name": "VBoxModel",
          "state": {
            "_dom_classes": [
              "widget-interact"
            ],
            "_model_module": "@jupyter-widgets/controls",
            "_model_module_version": "1.5.0",
            "_model_name": "VBoxModel",
            "_view_count": null,
            "_view_module": "@jupyter-widgets/controls",
            "_view_module_version": "1.5.0",
            "_view_name": "VBoxView",
            "box_style": "",
            "children": [
              "IPY_MODEL_c5771042258f40b3839fb96338343d6c",
              "IPY_MODEL_21095bdba02645158d802394e4a09ed2",
              "IPY_MODEL_56e9fd01a8db441dbb1e6422f48ea264",
              "IPY_MODEL_531f4d4d65374d32bc72110a022e4efc"
            ],
            "layout": "IPY_MODEL_903c6a1a90c440848fde82dad1d28a23"
          }
        },
        "a8a27925ff954a0abad00f79db3b69ed": {
          "model_module": "@jupyter-widgets/base",
          "model_module_version": "1.2.0",
          "model_name": "LayoutModel",
          "state": {
            "_model_module": "@jupyter-widgets/base",
            "_model_module_version": "1.2.0",
            "_model_name": "LayoutModel",
            "_view_count": null,
            "_view_module": "@jupyter-widgets/base",
            "_view_module_version": "1.2.0",
            "_view_name": "LayoutView",
            "align_content": null,
            "align_items": null,
            "align_self": null,
            "border": null,
            "bottom": null,
            "display": null,
            "flex": null,
            "flex_flow": null,
            "grid_area": null,
            "grid_auto_columns": null,
            "grid_auto_flow": null,
            "grid_auto_rows": null,
            "grid_column": null,
            "grid_gap": null,
            "grid_row": null,
            "grid_template_areas": null,
            "grid_template_columns": null,
            "grid_template_rows": null,
            "height": null,
            "justify_content": null,
            "justify_items": null,
            "left": null,
            "margin": null,
            "max_height": null,
            "max_width": null,
            "min_height": null,
            "min_width": null,
            "object_fit": null,
            "object_position": null,
            "order": null,
            "overflow": null,
            "overflow_x": null,
            "overflow_y": null,
            "padding": null,
            "right": null,
            "top": null,
            "visibility": null,
            "width": null
          }
        },
        "b820bbc786c44377b2878d298d789b93": {
          "model_module": "@jupyter-widgets/controls",
          "model_module_version": "1.5.0",
          "model_name": "SliderStyleModel",
          "state": {
            "_model_module": "@jupyter-widgets/controls",
            "_model_module_version": "1.5.0",
            "_model_name": "SliderStyleModel",
            "_view_count": null,
            "_view_module": "@jupyter-widgets/base",
            "_view_module_version": "1.2.0",
            "_view_name": "StyleView",
            "description_width": "",
            "handle_color": null
          }
        },
        "b93c88aa611448f4a70e5a8542c958cc": {
          "model_module": "@jupyter-widgets/controls",
          "model_module_version": "1.5.0",
          "model_name": "IntSliderModel",
          "state": {
            "_dom_classes": [],
            "_model_module": "@jupyter-widgets/controls",
            "_model_module_version": "1.5.0",
            "_model_name": "IntSliderModel",
            "_view_count": null,
            "_view_module": "@jupyter-widgets/controls",
            "_view_module_version": "1.5.0",
            "_view_name": "IntSliderView",
            "continuous_update": true,
            "description": "c",
            "description_tooltip": null,
            "disabled": false,
            "layout": "IPY_MODEL_7be60db2011a4e36b59f42edd862b62a",
            "max": 9,
            "min": -9,
            "orientation": "horizontal",
            "readout": true,
            "readout_format": "d",
            "step": 1,
            "style": "IPY_MODEL_739352da64a7473097f1e30b44bb75bb",
            "value": -4
          }
        },
        "bcd71bd2180449e5924efd1560f0e114": {
          "model_module": "@jupyter-widgets/controls",
          "model_module_version": "1.5.0",
          "model_name": "IntSliderModel",
          "state": {
            "_dom_classes": [],
            "_model_module": "@jupyter-widgets/controls",
            "_model_module_version": "1.5.0",
            "_model_name": "IntSliderModel",
            "_view_count": null,
            "_view_module": "@jupyter-widgets/controls",
            "_view_module_version": "1.5.0",
            "_view_name": "IntSliderView",
            "continuous_update": true,
            "description": "b",
            "description_tooltip": null,
            "disabled": false,
            "layout": "IPY_MODEL_c57b2af930ef41afb54ea589dc59c05c",
            "max": 9,
            "min": 1,
            "orientation": "horizontal",
            "readout": true,
            "readout_format": "d",
            "step": 1,
            "style": "IPY_MODEL_419821412aff4821adca7eecc3e3c790",
            "value": 7
          }
        },
        "c074a10a63044bdbb1b58107f6d7c93c": {
          "model_module": "@jupyter-widgets/controls",
          "model_module_version": "1.5.0",
          "model_name": "SliderStyleModel",
          "state": {
            "_model_module": "@jupyter-widgets/controls",
            "_model_module_version": "1.5.0",
            "_model_name": "SliderStyleModel",
            "_view_count": null,
            "_view_module": "@jupyter-widgets/base",
            "_view_module_version": "1.2.0",
            "_view_name": "StyleView",
            "description_width": "",
            "handle_color": null
          }
        },
        "c5771042258f40b3839fb96338343d6c": {
          "model_module": "@jupyter-widgets/controls",
          "model_module_version": "1.5.0",
          "model_name": "IntSliderModel",
          "state": {
            "_dom_classes": [],
            "_model_module": "@jupyter-widgets/controls",
            "_model_module_version": "1.5.0",
            "_model_name": "IntSliderModel",
            "_view_count": null,
            "_view_module": "@jupyter-widgets/controls",
            "_view_module_version": "1.5.0",
            "_view_name": "IntSliderView",
            "continuous_update": true,
            "description": "a",
            "description_tooltip": null,
            "disabled": false,
            "layout": "IPY_MODEL_5dda81a7376a4fa0a650d7cc6c525893",
            "max": 9,
            "min": -9,
            "orientation": "horizontal",
            "readout": true,
            "readout_format": "d",
            "step": 1,
            "style": "IPY_MODEL_d8d57ec93dbd4f2ba8d1947b3312ccde",
            "value": 2
          }
        },
        "c57b2af930ef41afb54ea589dc59c05c": {
          "model_module": "@jupyter-widgets/base",
          "model_module_version": "1.2.0",
          "model_name": "LayoutModel",
          "state": {
            "_model_module": "@jupyter-widgets/base",
            "_model_module_version": "1.2.0",
            "_model_name": "LayoutModel",
            "_view_count": null,
            "_view_module": "@jupyter-widgets/base",
            "_view_module_version": "1.2.0",
            "_view_name": "LayoutView",
            "align_content": null,
            "align_items": null,
            "align_self": null,
            "border": null,
            "bottom": null,
            "display": null,
            "flex": null,
            "flex_flow": null,
            "grid_area": null,
            "grid_auto_columns": null,
            "grid_auto_flow": null,
            "grid_auto_rows": null,
            "grid_column": null,
            "grid_gap": null,
            "grid_row": null,
            "grid_template_areas": null,
            "grid_template_columns": null,
            "grid_template_rows": null,
            "height": null,
            "justify_content": null,
            "justify_items": null,
            "left": null,
            "margin": null,
            "max_height": null,
            "max_width": null,
            "min_height": null,
            "min_width": null,
            "object_fit": null,
            "object_position": null,
            "order": null,
            "overflow": null,
            "overflow_x": null,
            "overflow_y": null,
            "padding": null,
            "right": null,
            "top": null,
            "visibility": null,
            "width": null
          }
        },
        "d8d57ec93dbd4f2ba8d1947b3312ccde": {
          "model_module": "@jupyter-widgets/controls",
          "model_module_version": "1.5.0",
          "model_name": "SliderStyleModel",
          "state": {
            "_model_module": "@jupyter-widgets/controls",
            "_model_module_version": "1.5.0",
            "_model_name": "SliderStyleModel",
            "_view_count": null,
            "_view_module": "@jupyter-widgets/base",
            "_view_module_version": "1.2.0",
            "_view_name": "StyleView",
            "description_width": "",
            "handle_color": null
          }
        },
        "e179884133f04e789ba6663b65c72a2a": {
          "model_module": "@jupyter-widgets/base",
          "model_module_version": "1.2.0",
          "model_name": "LayoutModel",
          "state": {
            "_model_module": "@jupyter-widgets/base",
            "_model_module_version": "1.2.0",
            "_model_name": "LayoutModel",
            "_view_count": null,
            "_view_module": "@jupyter-widgets/base",
            "_view_module_version": "1.2.0",
            "_view_name": "LayoutView",
            "align_content": null,
            "align_items": null,
            "align_self": null,
            "border": null,
            "bottom": null,
            "display": null,
            "flex": null,
            "flex_flow": null,
            "grid_area": null,
            "grid_auto_columns": null,
            "grid_auto_flow": null,
            "grid_auto_rows": null,
            "grid_column": null,
            "grid_gap": null,
            "grid_row": null,
            "grid_template_areas": null,
            "grid_template_columns": null,
            "grid_template_rows": null,
            "height": null,
            "justify_content": null,
            "justify_items": null,
            "left": null,
            "margin": null,
            "max_height": null,
            "max_width": null,
            "min_height": null,
            "min_width": null,
            "object_fit": null,
            "object_position": null,
            "order": null,
            "overflow": null,
            "overflow_x": null,
            "overflow_y": null,
            "padding": null,
            "right": null,
            "top": null,
            "visibility": null,
            "width": null
          }
        },
        "f0015f08d564420eb37fe7549e1c7b8d": {
          "model_module": "@jupyter-widgets/base",
          "model_module_version": "1.2.0",
          "model_name": "LayoutModel",
          "state": {
            "_model_module": "@jupyter-widgets/base",
            "_model_module_version": "1.2.0",
            "_model_name": "LayoutModel",
            "_view_count": null,
            "_view_module": "@jupyter-widgets/base",
            "_view_module_version": "1.2.0",
            "_view_name": "LayoutView",
            "align_content": null,
            "align_items": null,
            "align_self": null,
            "border": null,
            "bottom": null,
            "display": null,
            "flex": null,
            "flex_flow": null,
            "grid_area": null,
            "grid_auto_columns": null,
            "grid_auto_flow": null,
            "grid_auto_rows": null,
            "grid_column": null,
            "grid_gap": null,
            "grid_row": null,
            "grid_template_areas": null,
            "grid_template_columns": null,
            "grid_template_rows": null,
            "height": null,
            "justify_content": null,
            "justify_items": null,
            "left": null,
            "margin": null,
            "max_height": null,
            "max_width": null,
            "min_height": null,
            "min_width": null,
            "object_fit": null,
            "object_position": null,
            "order": null,
            "overflow": null,
            "overflow_x": null,
            "overflow_y": null,
            "padding": null,
            "right": null,
            "top": null,
            "visibility": null,
            "width": null
          }
        }
      }
    }
  },
  "nbformat": 4,
  "nbformat_minor": 0
}
